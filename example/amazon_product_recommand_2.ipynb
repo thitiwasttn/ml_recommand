{
 "cells": [
  {
   "cell_type": "code",
   "execution_count": 49,
   "metadata": {
    "collapsed": true
   },
   "outputs": [],
   "source": [
    "import pandas as pd\n",
    "import numpy as np\n",
    "from sklearn.feature_extraction.text import CountVectorizer\n",
    "from sklearn.metrics.pairwise import cosine_similarity\n",
    "from scipy import sparse\n",
    "\n",
    "df = pd.read_csv(\"../data/sample_product.csv\")"
   ]
  },
  {
   "cell_type": "code",
   "execution_count": 50,
   "outputs": [
    {
     "data": {
      "text/plain": "                            Uniq Id  \\\n0  4c69b61db1fc16e7013b43fc926e502d   \n1  66d49bbed043f5be260fa9f7fbff5957   \n2  2c55cae269aebf53838484b0d7dd931a   \n3  18018b6bc416dab347b1b7db79994afa   \n4  e04b990e95bf73bbe6a3fa09785d7cd0   \n\n                                        Product Name  Brand Name  Asin  \\\n0  DB Longboards CoreFlex Crossbow 41\" Bamboo Fib...         NaN   NaN   \n1  Electronic Snap Circuits Mini Kits Classpack, ...         NaN   NaN   \n2  3Doodler Create Flexy 3D Printing Filament Ref...         NaN   NaN   \n3  Guillow Airplane Design Studio with Travel Cas...         NaN   NaN   \n4                   Woodstock- Collage 500 pc Puzzle         NaN   NaN   \n\n                                            Category Upc Ean Code  List Price  \\\n0  Sports & Outdoors | Outdoor Recreation | Skate...          NaN         NaN   \n1  Toys & Games | Learning & Education | Science ...          NaN         NaN   \n2          Toys & Games | Arts & Crafts | Craft Kits          NaN         NaN   \n3  Toys & Games | Hobbies | Models & Model Kits |...          NaN         NaN   \n4            Toys & Games | Puzzles | Jigsaw Puzzles          NaN         NaN   \n\n  Selling Price  Quantity Model Number  ...  \\\n0       $237.68       NaN          NaN  ...   \n1        $99.95       NaN        55324  ...   \n2        $34.99       NaN          NaN  ...   \n3        $28.91       NaN          142  ...   \n4        $17.49       NaN        62151  ...   \n\n                                         Product Url Stock Product Details  \\\n0  https://www.amazon.com/DB-Longboards-CoreFlex-...   NaN             NaN   \n1  https://www.amazon.com/Electronic-Circuits-Cla...   NaN             NaN   \n2  https://www.amazon.com/3Doodler-Plastic-Innova...   NaN             NaN   \n3  https://www.amazon.com/Guillow-Airplane-Design...   NaN             NaN   \n4  https://www.amazon.com/Woodstock-Collage-500-p...   NaN             NaN   \n\n  Dimensions Color Ingredients Direction To Use  Is Amazon Seller  \\\n0        NaN   NaN         NaN              NaN                 Y   \n1        NaN   NaN         NaN              NaN                 Y   \n2        NaN   NaN         NaN              NaN                 Y   \n3        NaN   NaN         NaN              NaN                 Y   \n4        NaN   NaN         NaN              NaN                 Y   \n\n  Size Quantity Variant  Product Description  \n0                   NaN                  NaN  \n1                   NaN                  NaN  \n2                   NaN                  NaN  \n3                   NaN                  NaN  \n4                   NaN                  NaN  \n\n[5 rows x 28 columns]",
      "text/html": "<div>\n<style scoped>\n    .dataframe tbody tr th:only-of-type {\n        vertical-align: middle;\n    }\n\n    .dataframe tbody tr th {\n        vertical-align: top;\n    }\n\n    .dataframe thead th {\n        text-align: right;\n    }\n</style>\n<table border=\"1\" class=\"dataframe\">\n  <thead>\n    <tr style=\"text-align: right;\">\n      <th></th>\n      <th>Uniq Id</th>\n      <th>Product Name</th>\n      <th>Brand Name</th>\n      <th>Asin</th>\n      <th>Category</th>\n      <th>Upc Ean Code</th>\n      <th>List Price</th>\n      <th>Selling Price</th>\n      <th>Quantity</th>\n      <th>Model Number</th>\n      <th>...</th>\n      <th>Product Url</th>\n      <th>Stock</th>\n      <th>Product Details</th>\n      <th>Dimensions</th>\n      <th>Color</th>\n      <th>Ingredients</th>\n      <th>Direction To Use</th>\n      <th>Is Amazon Seller</th>\n      <th>Size Quantity Variant</th>\n      <th>Product Description</th>\n    </tr>\n  </thead>\n  <tbody>\n    <tr>\n      <th>0</th>\n      <td>4c69b61db1fc16e7013b43fc926e502d</td>\n      <td>DB Longboards CoreFlex Crossbow 41\" Bamboo Fib...</td>\n      <td>NaN</td>\n      <td>NaN</td>\n      <td>Sports &amp; Outdoors | Outdoor Recreation | Skate...</td>\n      <td>NaN</td>\n      <td>NaN</td>\n      <td>$237.68</td>\n      <td>NaN</td>\n      <td>NaN</td>\n      <td>...</td>\n      <td>https://www.amazon.com/DB-Longboards-CoreFlex-...</td>\n      <td>NaN</td>\n      <td>NaN</td>\n      <td>NaN</td>\n      <td>NaN</td>\n      <td>NaN</td>\n      <td>NaN</td>\n      <td>Y</td>\n      <td>NaN</td>\n      <td>NaN</td>\n    </tr>\n    <tr>\n      <th>1</th>\n      <td>66d49bbed043f5be260fa9f7fbff5957</td>\n      <td>Electronic Snap Circuits Mini Kits Classpack, ...</td>\n      <td>NaN</td>\n      <td>NaN</td>\n      <td>Toys &amp; Games | Learning &amp; Education | Science ...</td>\n      <td>NaN</td>\n      <td>NaN</td>\n      <td>$99.95</td>\n      <td>NaN</td>\n      <td>55324</td>\n      <td>...</td>\n      <td>https://www.amazon.com/Electronic-Circuits-Cla...</td>\n      <td>NaN</td>\n      <td>NaN</td>\n      <td>NaN</td>\n      <td>NaN</td>\n      <td>NaN</td>\n      <td>NaN</td>\n      <td>Y</td>\n      <td>NaN</td>\n      <td>NaN</td>\n    </tr>\n    <tr>\n      <th>2</th>\n      <td>2c55cae269aebf53838484b0d7dd931a</td>\n      <td>3Doodler Create Flexy 3D Printing Filament Ref...</td>\n      <td>NaN</td>\n      <td>NaN</td>\n      <td>Toys &amp; Games | Arts &amp; Crafts | Craft Kits</td>\n      <td>NaN</td>\n      <td>NaN</td>\n      <td>$34.99</td>\n      <td>NaN</td>\n      <td>NaN</td>\n      <td>...</td>\n      <td>https://www.amazon.com/3Doodler-Plastic-Innova...</td>\n      <td>NaN</td>\n      <td>NaN</td>\n      <td>NaN</td>\n      <td>NaN</td>\n      <td>NaN</td>\n      <td>NaN</td>\n      <td>Y</td>\n      <td>NaN</td>\n      <td>NaN</td>\n    </tr>\n    <tr>\n      <th>3</th>\n      <td>18018b6bc416dab347b1b7db79994afa</td>\n      <td>Guillow Airplane Design Studio with Travel Cas...</td>\n      <td>NaN</td>\n      <td>NaN</td>\n      <td>Toys &amp; Games | Hobbies | Models &amp; Model Kits |...</td>\n      <td>NaN</td>\n      <td>NaN</td>\n      <td>$28.91</td>\n      <td>NaN</td>\n      <td>142</td>\n      <td>...</td>\n      <td>https://www.amazon.com/Guillow-Airplane-Design...</td>\n      <td>NaN</td>\n      <td>NaN</td>\n      <td>NaN</td>\n      <td>NaN</td>\n      <td>NaN</td>\n      <td>NaN</td>\n      <td>Y</td>\n      <td>NaN</td>\n      <td>NaN</td>\n    </tr>\n    <tr>\n      <th>4</th>\n      <td>e04b990e95bf73bbe6a3fa09785d7cd0</td>\n      <td>Woodstock- Collage 500 pc Puzzle</td>\n      <td>NaN</td>\n      <td>NaN</td>\n      <td>Toys &amp; Games | Puzzles | Jigsaw Puzzles</td>\n      <td>NaN</td>\n      <td>NaN</td>\n      <td>$17.49</td>\n      <td>NaN</td>\n      <td>62151</td>\n      <td>...</td>\n      <td>https://www.amazon.com/Woodstock-Collage-500-p...</td>\n      <td>NaN</td>\n      <td>NaN</td>\n      <td>NaN</td>\n      <td>NaN</td>\n      <td>NaN</td>\n      <td>NaN</td>\n      <td>Y</td>\n      <td>NaN</td>\n      <td>NaN</td>\n    </tr>\n  </tbody>\n</table>\n<p>5 rows × 28 columns</p>\n</div>"
     },
     "execution_count": 50,
     "metadata": {},
     "output_type": "execute_result"
    }
   ],
   "source": [
    "df.head()"
   ],
   "metadata": {
    "collapsed": false
   }
  },
  {
   "cell_type": "code",
   "execution_count": 51,
   "outputs": [
    {
     "data": {
      "text/plain": "(10002, 28)"
     },
     "execution_count": 51,
     "metadata": {},
     "output_type": "execute_result"
    }
   ],
   "source": [
    "df.shape  # 10,002 row, 28 column"
   ],
   "metadata": {
    "collapsed": false
   }
  },
  {
   "cell_type": "code",
   "execution_count": 52,
   "outputs": [
    {
     "data": {
      "text/plain": "Uniq Id                      0\nProduct Name                 0\nBrand Name               10002\nAsin                     10002\nCategory                   830\nUpc Ean Code              9968\nList Price               10002\nSelling Price              107\nQuantity                 10002\nModel Number              1770\nAbout Product              273\nProduct Specification     1632\nTechnical Details          790\nShipping Weight           1138\nProduct Dimensions        9523\nImage                        0\nVariants                  7524\nSku                      10002\nProduct Url                  0\nStock                    10002\nProduct Details          10002\nDimensions               10002\nColor                    10002\nIngredients              10002\nDirection To Use         10002\nIs Amazon Seller             0\nSize Quantity Variant    10002\nProduct Description      10002\ndtype: int64"
     },
     "execution_count": 52,
     "metadata": {},
     "output_type": "execute_result"
    }
   ],
   "source": [
    "df.isnull().sum()"
   ],
   "metadata": {
    "collapsed": false
   }
  },
  {
   "cell_type": "code",
   "execution_count": 53,
   "outputs": [
    {
     "data": {
      "text/plain": "Index(['Uniq Id', 'Product Name', 'Brand Name', 'Asin', 'Category',\n       'Upc Ean Code', 'List Price', 'Selling Price', 'Quantity',\n       'Model Number', 'About Product', 'Product Specification',\n       'Technical Details', 'Shipping Weight', 'Product Dimensions', 'Image',\n       'Variants', 'Sku', 'Product Url', 'Stock', 'Product Details',\n       'Dimensions', 'Color', 'Ingredients', 'Direction To Use',\n       'Is Amazon Seller', 'Size Quantity Variant', 'Product Description'],\n      dtype='object')"
     },
     "execution_count": 53,
     "metadata": {},
     "output_type": "execute_result"
    }
   ],
   "source": [
    "df.columns"
   ],
   "metadata": {
    "collapsed": false
   }
  },
  {
   "cell_type": "code",
   "execution_count": 54,
   "outputs": [
    {
     "data": {
      "text/plain": "138     Dark Horse Deluxe The Umbrella Academy Playing...\n1589    Babalu Kids Umbrella - Childrens 18 Inch Rainy...\n5521    KidKraft Wooden Outdoor Children's Patio Set w...\nName: Product Name, dtype: object"
     },
     "execution_count": 54,
     "metadata": {},
     "output_type": "execute_result"
    }
   ],
   "source": [
    "df[df['Product Name'].str.contains('umbrella', case=False, na=False)]['Product Name']"
   ],
   "metadata": {
    "collapsed": false
   }
  },
  {
   "cell_type": "code",
   "execution_count": 55,
   "outputs": [
    {
     "data": {
      "text/plain": "Uniq Id                                   6bbd68078c73c7e597720418d5347070\nProduct Name             Dark Horse Deluxe The Umbrella Academy Playing...\nBrand Name                                                             NaN\nAsin                                                                   NaN\nCategory                 Toys & Games | Games & Accessories | Card Game...\nUpc Ean Code                                                           NaN\nList Price                                                             NaN\nSelling Price                                                        $4.99\nQuantity                                                               NaN\nModel Number                                                     DEC180427\nAbout Product            Celebrate the return of the hit series BY Gera...\nProduct Specification    ProductDimensions:2.6x0.7x3.6inches|ItemWeight...\nTechnical Details        Go to your orders and start the return Select ...\nShipping Weight                                                3.52 ounces\nProduct Dimensions                                                     NaN\nImage                    https://images-na.ssl-images-amazon.com/images...\nVariants                                                               NaN\nSku                                                                    NaN\nProduct Url              https://www.amazon.com/Dark-Horse-Deluxe-Umbre...\nStock                                                                  NaN\nProduct Details                                                        NaN\nDimensions                                                             NaN\nColor                                                                  NaN\nIngredients                                                            NaN\nDirection To Use                                                       NaN\nIs Amazon Seller                                                         Y\nSize Quantity Variant                                                  NaN\nProduct Description                                                    NaN\nName: 138, dtype: object"
     },
     "execution_count": 55,
     "metadata": {},
     "output_type": "execute_result"
    }
   ],
   "source": [
    "df.iloc[138]"
   ],
   "metadata": {
    "collapsed": false
   }
  },
  {
   "cell_type": "code",
   "execution_count": 56,
   "outputs": [
    {
     "data": {
      "text/plain": "Product Name                0\nCategory                  830\nAbout Product             273\nProduct Specification    1632\nTechnical Details         790\ndtype: int64"
     },
     "execution_count": 56,
     "metadata": {},
     "output_type": "execute_result"
    }
   ],
   "source": [
    "features = ['Product Name', 'Category', 'About Product', 'Product Specification', 'Technical Details']\n",
    "df[features].isnull().sum()"
   ],
   "metadata": {
    "collapsed": false
   }
  },
  {
   "cell_type": "code",
   "execution_count": 57,
   "outputs": [],
   "source": [
    "\n",
    "for feature in features:\n",
    "    df[feature] = df[feature].fillna(\"\")  # เพิ่มส่วนที่เป็น missing ด้วย  \"\""
   ],
   "metadata": {
    "collapsed": false
   }
  },
  {
   "cell_type": "code",
   "execution_count": 58,
   "outputs": [
    {
     "data": {
      "text/plain": "Product Name             0\nCategory                 0\nAbout Product            0\nProduct Specification    0\nTechnical Details        0\ndtype: int64"
     },
     "execution_count": 58,
     "metadata": {},
     "output_type": "execute_result"
    }
   ],
   "source": [
    "df[features].isnull().sum()"
   ],
   "metadata": {
    "collapsed": false
   }
  },
  {
   "cell_type": "code",
   "execution_count": 59,
   "outputs": [
    {
     "data": {
      "text/plain": "0    DB Longboards CoreFlex Crossbow 41\" Bamboo Fib...\n1    Electronic Snap Circuits Mini Kits Classpack, ...\n2    3Doodler Create Flexy 3D Printing Filament Ref...\n3    Guillow Airplane Design Studio with Travel Cas...\n4    Woodstock- Collage 500 pc Puzzle Puzzle has 50...\nName: combined_features, dtype: object"
     },
     "execution_count": 59,
     "metadata": {},
     "output_type": "execute_result"
    }
   ],
   "source": [
    "df['combined_features'] = df['Product Name'] + ' ' + df['About Product'] + ' ' + df['Category'] + ' ' + df[\n",
    "    'Product Specification'] + ' ' + df['Technical Details']\n",
    "\n",
    "df.combined_features.head()"
   ],
   "metadata": {
    "collapsed": false
   }
  },
  {
   "cell_type": "code",
   "execution_count": 60,
   "outputs": [
    {
     "data": {
      "text/plain": "                            Uniq Id  \\\n0  4c69b61db1fc16e7013b43fc926e502d   \n1  66d49bbed043f5be260fa9f7fbff5957   \n2  2c55cae269aebf53838484b0d7dd931a   \n3  18018b6bc416dab347b1b7db79994afa   \n4  e04b990e95bf73bbe6a3fa09785d7cd0   \n\n                                        Product Name  Brand Name  Asin  \\\n0  DB Longboards CoreFlex Crossbow 41\" Bamboo Fib...         NaN   NaN   \n1  Electronic Snap Circuits Mini Kits Classpack, ...         NaN   NaN   \n2  3Doodler Create Flexy 3D Printing Filament Ref...         NaN   NaN   \n3  Guillow Airplane Design Studio with Travel Cas...         NaN   NaN   \n4                   Woodstock- Collage 500 pc Puzzle         NaN   NaN   \n\n                                            Category Upc Ean Code  List Price  \\\n0  Sports & Outdoors | Outdoor Recreation | Skate...          NaN         NaN   \n1  Toys & Games | Learning & Education | Science ...          NaN         NaN   \n2          Toys & Games | Arts & Crafts | Craft Kits          NaN         NaN   \n3  Toys & Games | Hobbies | Models & Model Kits |...          NaN         NaN   \n4            Toys & Games | Puzzles | Jigsaw Puzzles          NaN         NaN   \n\n  Selling Price  Quantity Model Number  ... Stock Product Details Dimensions  \\\n0       $237.68       NaN          NaN  ...   NaN             NaN        NaN   \n1        $99.95       NaN        55324  ...   NaN             NaN        NaN   \n2        $34.99       NaN          NaN  ...   NaN             NaN        NaN   \n3        $28.91       NaN          142  ...   NaN             NaN        NaN   \n4        $17.49       NaN        62151  ...   NaN             NaN        NaN   \n\n  Color Ingredients Direction To Use Is Amazon Seller  Size Quantity Variant  \\\n0   NaN         NaN              NaN                Y                    NaN   \n1   NaN         NaN              NaN                Y                    NaN   \n2   NaN         NaN              NaN                Y                    NaN   \n3   NaN         NaN              NaN                Y                    NaN   \n4   NaN         NaN              NaN                Y                    NaN   \n\n  Product Description                                  combined_features  \n0                 NaN  DB Longboards CoreFlex Crossbow 41\" Bamboo Fib...  \n1                 NaN  Electronic Snap Circuits Mini Kits Classpack, ...  \n2                 NaN  3Doodler Create Flexy 3D Printing Filament Ref...  \n3                 NaN  Guillow Airplane Design Studio with Travel Cas...  \n4                 NaN  Woodstock- Collage 500 pc Puzzle Puzzle has 50...  \n\n[5 rows x 29 columns]",
      "text/html": "<div>\n<style scoped>\n    .dataframe tbody tr th:only-of-type {\n        vertical-align: middle;\n    }\n\n    .dataframe tbody tr th {\n        vertical-align: top;\n    }\n\n    .dataframe thead th {\n        text-align: right;\n    }\n</style>\n<table border=\"1\" class=\"dataframe\">\n  <thead>\n    <tr style=\"text-align: right;\">\n      <th></th>\n      <th>Uniq Id</th>\n      <th>Product Name</th>\n      <th>Brand Name</th>\n      <th>Asin</th>\n      <th>Category</th>\n      <th>Upc Ean Code</th>\n      <th>List Price</th>\n      <th>Selling Price</th>\n      <th>Quantity</th>\n      <th>Model Number</th>\n      <th>...</th>\n      <th>Stock</th>\n      <th>Product Details</th>\n      <th>Dimensions</th>\n      <th>Color</th>\n      <th>Ingredients</th>\n      <th>Direction To Use</th>\n      <th>Is Amazon Seller</th>\n      <th>Size Quantity Variant</th>\n      <th>Product Description</th>\n      <th>combined_features</th>\n    </tr>\n  </thead>\n  <tbody>\n    <tr>\n      <th>0</th>\n      <td>4c69b61db1fc16e7013b43fc926e502d</td>\n      <td>DB Longboards CoreFlex Crossbow 41\" Bamboo Fib...</td>\n      <td>NaN</td>\n      <td>NaN</td>\n      <td>Sports &amp; Outdoors | Outdoor Recreation | Skate...</td>\n      <td>NaN</td>\n      <td>NaN</td>\n      <td>$237.68</td>\n      <td>NaN</td>\n      <td>NaN</td>\n      <td>...</td>\n      <td>NaN</td>\n      <td>NaN</td>\n      <td>NaN</td>\n      <td>NaN</td>\n      <td>NaN</td>\n      <td>NaN</td>\n      <td>Y</td>\n      <td>NaN</td>\n      <td>NaN</td>\n      <td>DB Longboards CoreFlex Crossbow 41\" Bamboo Fib...</td>\n    </tr>\n    <tr>\n      <th>1</th>\n      <td>66d49bbed043f5be260fa9f7fbff5957</td>\n      <td>Electronic Snap Circuits Mini Kits Classpack, ...</td>\n      <td>NaN</td>\n      <td>NaN</td>\n      <td>Toys &amp; Games | Learning &amp; Education | Science ...</td>\n      <td>NaN</td>\n      <td>NaN</td>\n      <td>$99.95</td>\n      <td>NaN</td>\n      <td>55324</td>\n      <td>...</td>\n      <td>NaN</td>\n      <td>NaN</td>\n      <td>NaN</td>\n      <td>NaN</td>\n      <td>NaN</td>\n      <td>NaN</td>\n      <td>Y</td>\n      <td>NaN</td>\n      <td>NaN</td>\n      <td>Electronic Snap Circuits Mini Kits Classpack, ...</td>\n    </tr>\n    <tr>\n      <th>2</th>\n      <td>2c55cae269aebf53838484b0d7dd931a</td>\n      <td>3Doodler Create Flexy 3D Printing Filament Ref...</td>\n      <td>NaN</td>\n      <td>NaN</td>\n      <td>Toys &amp; Games | Arts &amp; Crafts | Craft Kits</td>\n      <td>NaN</td>\n      <td>NaN</td>\n      <td>$34.99</td>\n      <td>NaN</td>\n      <td>NaN</td>\n      <td>...</td>\n      <td>NaN</td>\n      <td>NaN</td>\n      <td>NaN</td>\n      <td>NaN</td>\n      <td>NaN</td>\n      <td>NaN</td>\n      <td>Y</td>\n      <td>NaN</td>\n      <td>NaN</td>\n      <td>3Doodler Create Flexy 3D Printing Filament Ref...</td>\n    </tr>\n    <tr>\n      <th>3</th>\n      <td>18018b6bc416dab347b1b7db79994afa</td>\n      <td>Guillow Airplane Design Studio with Travel Cas...</td>\n      <td>NaN</td>\n      <td>NaN</td>\n      <td>Toys &amp; Games | Hobbies | Models &amp; Model Kits |...</td>\n      <td>NaN</td>\n      <td>NaN</td>\n      <td>$28.91</td>\n      <td>NaN</td>\n      <td>142</td>\n      <td>...</td>\n      <td>NaN</td>\n      <td>NaN</td>\n      <td>NaN</td>\n      <td>NaN</td>\n      <td>NaN</td>\n      <td>NaN</td>\n      <td>Y</td>\n      <td>NaN</td>\n      <td>NaN</td>\n      <td>Guillow Airplane Design Studio with Travel Cas...</td>\n    </tr>\n    <tr>\n      <th>4</th>\n      <td>e04b990e95bf73bbe6a3fa09785d7cd0</td>\n      <td>Woodstock- Collage 500 pc Puzzle</td>\n      <td>NaN</td>\n      <td>NaN</td>\n      <td>Toys &amp; Games | Puzzles | Jigsaw Puzzles</td>\n      <td>NaN</td>\n      <td>NaN</td>\n      <td>$17.49</td>\n      <td>NaN</td>\n      <td>62151</td>\n      <td>...</td>\n      <td>NaN</td>\n      <td>NaN</td>\n      <td>NaN</td>\n      <td>NaN</td>\n      <td>NaN</td>\n      <td>NaN</td>\n      <td>Y</td>\n      <td>NaN</td>\n      <td>NaN</td>\n      <td>Woodstock- Collage 500 pc Puzzle Puzzle has 50...</td>\n    </tr>\n  </tbody>\n</table>\n<p>5 rows × 29 columns</p>\n</div>"
     },
     "execution_count": 60,
     "metadata": {},
     "output_type": "execute_result"
    }
   ],
   "source": [
    "df.head()"
   ],
   "metadata": {
    "collapsed": false
   }
  },
  {
   "cell_type": "code",
   "execution_count": 61,
   "outputs": [],
   "source": [
    "cv = CountVectorizer()\n",
    "count_matrix = cv.fit_transform(df.combined_features)"
   ],
   "metadata": {
    "collapsed": false
   }
  },
  {
   "cell_type": "code",
   "execution_count": 62,
   "outputs": [
    {
     "name": "stderr",
     "output_type": "stream",
     "text": [
      "E:\\work\\machine-learning\\venv\\lib\\site-packages\\sklearn\\utils\\deprecation.py:87: FutureWarning: Function get_feature_names is deprecated; get_feature_names is deprecated in 1.0 and will be removed in 1.2. Please use get_feature_names_out instead.\n",
      "  warnings.warn(msg, category=FutureWarning)\n"
     ]
    },
    {
     "data": {
      "text/plain": "53004"
     },
     "execution_count": 62,
     "metadata": {},
     "output_type": "execute_result"
    }
   ],
   "source": [
    "len(cv.get_feature_names())"
   ],
   "metadata": {
    "collapsed": false
   }
  },
  {
   "cell_type": "code",
   "execution_count": 63,
   "outputs": [
    {
     "data": {
      "text/plain": "(10002, 53004)"
     },
     "execution_count": 63,
     "metadata": {},
     "output_type": "execute_result"
    }
   ],
   "source": [
    "count_matrix.shape  # จำนวนแถว, colume"
   ],
   "metadata": {
    "collapsed": false
   }
  },
  {
   "cell_type": "code",
   "execution_count": 64,
   "outputs": [
    {
     "name": "stdout",
     "output_type": "stream",
     "text": [
      "['00', '000', '0000', '000000', '00000080', '00001', '00002', '00006', '00007', '00009']\n",
      "['été', 'être', 'ñtoys', 'ømm', 'μsec', 'оne', 'оnе', 'расk', 'ﬂip', 'ﬂoat']\n",
      "[[0 0 0 0 0 0 0 0 0 0 0 0 0 0 0 0 0 0 0 0]\n",
      " [0 0 0 0 0 0 0 0 0 0 0 0 0 0 0 0 0 0 0 0]\n",
      " [0 0 0 0 0 0 0 0 0 0 0 0 0 0 0 0 0 0 0 0]\n",
      " [0 0 0 0 0 0 0 0 0 0 0 0 0 0 0 0 0 0 0 0]\n",
      " [0 0 0 0 0 0 0 0 0 0 0 0 0 0 0 0 0 0 0 0]\n",
      " [0 0 0 0 0 0 0 0 0 0 0 0 0 0 0 0 0 0 0 0]\n",
      " [0 0 0 0 0 0 0 0 0 0 0 0 0 0 0 0 0 0 0 0]\n",
      " [0 0 0 0 0 0 0 0 0 0 0 0 0 0 0 0 0 0 0 0]\n",
      " [0 0 0 0 0 0 0 0 0 0 0 0 0 0 0 0 0 0 0 0]\n",
      " [0 0 0 0 0 0 0 0 0 0 0 0 0 0 0 0 0 0 0 0]]\n"
     ]
    }
   ],
   "source": [
    "print(cv.get_feature_names()[0:10])\n",
    "print(cv.get_feature_names()[-10:])\n",
    "print(count_matrix.toarray()[:10, 10:30])"
   ],
   "metadata": {
    "collapsed": false
   }
  },
  {
   "cell_type": "code",
   "execution_count": 65,
   "outputs": [],
   "source": [
    "A_sparse = sparse.csr_matrix(count_matrix)\n",
    "sparse.save_npz(\"amazon_model.npz\", A_sparse)"
   ],
   "metadata": {
    "collapsed": false
   }
  },
  {
   "cell_type": "code",
   "execution_count": 66,
   "outputs": [],
   "source": [
    "A_sparse = sparse.load_npz(\"amazon_model.npz\")"
   ],
   "metadata": {
    "collapsed": false
   }
  },
  {
   "cell_type": "code",
   "execution_count": 66,
   "outputs": [],
   "source": [],
   "metadata": {
    "collapsed": false
   }
  },
  {
   "cell_type": "code",
   "execution_count": 67,
   "outputs": [
    {
     "name": "stdout",
     "output_type": "stream",
     "text": [
      "user choice ref_index = 3851\n"
     ]
    }
   ],
   "source": [
    "user_choice = 'b2bbae612611f0093cf7342369db62fa'\n",
    "ref_index = df[df['Uniq Id'].str.contains(user_choice, case=False)].index[0]\n",
    "\n",
    "print('user choice ref_index = {}'.format(ref_index))"
   ],
   "metadata": {
    "collapsed": false
   }
  },
  {
   "cell_type": "code",
   "execution_count": 68,
   "outputs": [
    {
     "data": {
      "text/plain": "Uniq Id                                   b2bbae612611f0093cf7342369db62fa\nProduct Name             Michael Jackson Performance Accessory Kit (Adult)\nBrand Name                                                             NaN\nAsin                                                                   NaN\nCategory                 Clothing, Shoes & Jewelry | Costumes & Accesso...\nUpc Ean Code                                                           NaN\nList Price                                                             NaN\nSelling Price                                                       $30.95\nQuantity                                                               NaN\nModel Number                                                           NaN\nAbout Product            Synthetic | 0.7\" high | 14\" wide | Convenient ...\nProduct Specification                                                     \nTechnical Details        show up to 2 reviews by default Includes: Wig,...\nShipping Weight                                                   5 pounds\nProduct Dimensions                                                     NaN\nImage                    https://images-na.ssl-images-amazon.com/images...\nVariants                                                               NaN\nSku                                                                    NaN\nProduct Url              https://www.amazon.com/Michael-Jackson-Costume...\nStock                                                                  NaN\nProduct Details                                                        NaN\nDimensions                                                             NaN\nColor                                                                  NaN\nIngredients                                                            NaN\nDirection To Use                                                       NaN\nIs Amazon Seller                                                         Y\nSize Quantity Variant                                                  NaN\nProduct Description                                                    NaN\ncombined_features        Michael Jackson Performance Accessory Kit (Adu...\nName: 3851, dtype: object"
     },
     "execution_count": 68,
     "metadata": {},
     "output_type": "execute_result"
    }
   ],
   "source": [
    "df.iloc[ref_index]"
   ],
   "metadata": {
    "collapsed": false
   }
  },
  {
   "cell_type": "code",
   "execution_count": 69,
   "outputs": [
    {
     "data": {
      "text/plain": "array([0.28673772, 0.31610984, 0.32391883, ..., 0.2222372 , 0.05974863,\n       0.21116915])"
     },
     "execution_count": 69,
     "metadata": {},
     "output_type": "execute_result"
    }
   ],
   "source": [
    "cosine_sim[ref_index]"
   ],
   "metadata": {
    "collapsed": false
   }
  },
  {
   "cell_type": "code",
   "execution_count": 70,
   "outputs": [
    {
     "data": {
      "text/plain": "[(0, 0.2867377175841095),\n (1, 0.31610983658293396),\n (2, 0.3239188292789932),\n (3, 0.30558380829703397),\n (4, 0.1865669088428978),\n (5, 0.35400109174105043),\n (6, 0.4301978576914552),\n (7, 0.03575421226192905),\n (8, 0.28066800206574133),\n (9, 0.2272657812634997),\n (10, 0.3485604296731738),\n (11, 0.3577266936923235),\n (12, 0.14494698828703267),\n (13, 0.3416154398707725),\n (14, 0.30087973968232024),\n (15, 0.24694095001014588),\n (16, 0.26585946291649803),\n (17, 0.30800847650991187),\n (18, 0.30747501866955845),\n (19, 0.3130810117903309),\n (20, 0.2792031731573867),\n (21, 0.16709876030230614),\n (22, 0.34808245858009995),\n (23, 0.19068913206362156),\n (24, 0.24543794791647114),\n (25, 0.10947447024610965),\n (26, 0.30875749944522946),\n (27, 0.2899774044474399),\n (28, 0.21591915092209962),\n (29, 0.17796743476240465),\n (30, 0.3238054091832553),\n (31, 0.34931601213223107),\n (32, 0.3467049861057149),\n (33, 0.3112611666346145),\n (34, 0.4110351401856283),\n (35, 0.15512207476128345),\n (36, 0.29826007705073576),\n (37, 0.24201714853092213),\n (38, 0.3240443411686723),\n (39, 0.2550279855023123),\n (40, 0.24084383454144126),\n (41, 0.37709311406363716),\n (42, 0.34255596486691403),\n (43, 0.022943082850056598),\n (44, 0.1237831744679893),\n (45, 0.3060785282225662),\n (46, 0.29024681473340397),\n (47, 0.22125507838647274),\n (48, 0.3065632134481393),\n (49, 0.2917001870493037),\n (50, 0.22532618891646225),\n (51, 0.44528247023336626),\n (52, 0.26729529733022517),\n (53, 0.36298543650191434),\n (54, 0.3075947060532931),\n (55, 0.1746702731869613),\n (56, 0.31798598445246384),\n (57, 0.03861896309089949),\n (58, 0.3490205116480848),\n (59, 0.23412178913758092),\n (60, 0.20886397744423404),\n (61, 0.2554567390994959),\n (62, 0.31445503120087726),\n (63, 0.3940243879187389),\n (64, 0.19760617430137561),\n (65, 0.4545726222888289),\n (66, 0.21648876194872532),\n (67, 0.30380330179944276),\n (68, 0.15880704510691537),\n (69, 0.38063525935722026),\n (70, 0.29682931730208245),\n (71, 0.3512427881814892),\n (72, 0.32658382164925565),\n (73, 0.1541847726771203),\n (74, 0.310532765878949),\n (75, 0.03641030757862402),\n (76, 0.22018723876327193),\n (77, 0.24636250723736147),\n (78, 0.26892290449943673),\n (79, 0.21056733229273886),\n (80, 0.337512237233635),\n (81, 0.35784384839396094),\n (82, 0.3169318820225734),\n (83, 0.2791598991275796),\n (84, 0.2640064280413317),\n (85, 0.372423692504782),\n (86, 0.27196566765823127),\n (87, 0.2187897403596343),\n (88, 0.27787796478123633),\n (89, 0.34143207155492994),\n (90, 0.3730953216885611),\n (91, 0.16798009553794827),\n (92, 0.33848116752876023),\n (93, 0.15427086484480418),\n (94, 0.23211571081372812),\n (95, 0.28852401206030226),\n (96, 0.2879619679966465),\n (97, 0.31003007346742495),\n (98, 0.21110517596303202),\n (99, 0.2236950577880518),\n (100, 0.3439502397948505),\n (101, 0.2208956790371056),\n (102, 0.3777543845131154),\n (103, 0.28188853102598604),\n (104, 0.1841891336902803),\n (105, 0.399262888743982),\n (106, 0.2790407215147124),\n (107, 0.22244556380544417),\n (108, 0.3914740031319995),\n (109, 0.20440762711818944),\n (110, 0.32363740118425804),\n (111, 0.3430098403563935),\n (112, 0.22485004592861726),\n (113, 0.2762741205733579),\n (114, 0.1945675811232721),\n (115, 0.2210545026237455),\n (116, 0.3401572030152714),\n (117, 0.2940175672130719),\n (118, 0.26148966240490035),\n (119, 0.2518642113914475),\n (120, 0.33458318148755645),\n (121, 0.2941227069014057),\n (122, 0.3295349529853984),\n (123, 0.39726458047863705),\n (124, 0.2629162907712269),\n (125, 0.3056873356213497),\n (126, 0.27508338069031285),\n (127, 0.25026463729824455),\n (128, 0.20132942897938794),\n (129, 0.0418062538806657),\n (130, 0.4197857615498275),\n (131, 0.19929460818491512),\n (132, 0.3030103257901344),\n (133, 0.22664736982805622),\n (134, 0.3286894463194324),\n (135, 0.3536879942780032),\n (136, 0.2891962764612472),\n (137, 0.3144513462977715),\n (138, 0.3581162828791616),\n (139, 0.33418333410621426),\n (140, 0.3242045941417129),\n (141, 0.31184724381935836),\n (142, 0.24477253522503112),\n (143, 0.30438867540276865),\n (144, 0.16216899211464564),\n (145, 0.283513528282203),\n (146, 0.23231956723551322),\n (147, 0.3685746637971739),\n (148, 0.2949248874843009),\n (149, 0.08814015100183605),\n (150, 0.37017703474713276),\n (151, 0.20711026061623328),\n (152, 0.21358121032096508),\n (153, 0.08992238551570529),\n (154, 0.2598281161291124),\n (155, 0.3635920202257515),\n (156, 0.22163974146779586),\n (157, 0.2590638800754199),\n (158, 0.29601730721680847),\n (159, 0.11484206485225107),\n (160, 0.19343745976637935),\n (161, 0.211650642475812),\n (162, 0.30327244544912246),\n (163, 0.2576121023215613),\n (164, 0.364498156534997),\n (165, 0.21993298563238733),\n (166, 0.32904562923884595),\n (167, 0.33621019021028276),\n (168, 0.3853012247842452),\n (169, 0.1588637647465297),\n (170, 0.39955509572980824),\n (171, 0.35381762394342475),\n (172, 0.3108153573309432),\n (173, 0.4687232148789049),\n (174, 0.23578285269958338),\n (175, 0.3487262134778736),\n (176, 0.15639882118999868),\n (177, 0.26088124048390465),\n (178, 0.3627218001589705),\n (179, 0.38130971677583086),\n (180, 0.38519159128138736),\n (181, 0.2691762024562562),\n (182, 0.13934142631143606),\n (183, 0.27662310471536705),\n (184, 0.17673105783742885),\n (185, 0.1619411288105959),\n (186, 0.24904904989477578),\n (187, 0.2920688999263153),\n (188, 0.3160200781851777),\n (189, 0.3518604324392056),\n (190, 0.10324387282525468),\n (191, 0.29537826959282404),\n (192, 0.13632843211976492),\n (193, 0.3003850375236481),\n (194, 0.2549891179303524),\n (195, 0.35975603360325464),\n (196, 0.368565188512469),\n (197, 0.27161531344964174),\n (198, 0.17290540251370362),\n (199, 0.13378001241813026),\n (200, 0.3976019873835479),\n (201, 0.23902457755625048),\n (202, 0.1965216148086698),\n (203, 0.2670425654012222),\n (204, 0.43391119754923835),\n (205, 0.2098754311924852),\n (206, 0.13218868971517492),\n (207, 0.3597322843192011),\n (208, 0.43309364120268223),\n (209, 0.32932760611341366),\n (210, 0.2712747966670019),\n (211, 0.05914812459057135),\n (212, 0.15583450519301212),\n (213, 0.33764528947578687),\n (214, 0.23123283022854213),\n (215, 0.4056734627365839),\n (216, 0.3492128111612935),\n (217, 0.36080677121512084),\n (218, 0.2075722131680726),\n (219, 0.2872928400503626),\n (220, 0.3059171051533306),\n (221, 0.2257261495185165),\n (222, 0.16569781444183046),\n (223, 0.33541785325575774),\n (224, 0.2519513780755944),\n (225, 0.3386188465512175),\n (226, 0.20916978138171063),\n (227, 0.30874002145141705),\n (228, 0.2641762286123319),\n (229, 0.329784455666915),\n (230, 0.0),\n (231, 0.3247507082258112),\n (232, 0.2091751112044425),\n (233, 0.314052669871829),\n (234, 0.15208180710167984),\n (235, 0.3007449803519111),\n (236, 0.32918908999965),\n (237, 0.3118906175262813),\n (238, 0.2863065009214794),\n (239, 0.2669185066474804),\n (240, 0.2803502528117951),\n (241, 0.3263633803000414),\n (242, 0.2696940847123997),\n (243, 0.29218969723689775),\n (244, 0.17333718531358502),\n (245, 0.3444544239699563),\n (246, 0.2488257688756234),\n (247, 0.1957177443304297),\n (248, 0.27856206284369645),\n (249, 0.3126510754978604),\n (250, 0.1261776022577849),\n (251, 0.23329712370392597),\n (252, 0.37136007237959895),\n (253, 0.1470792665278752),\n (254, 0.12440144890449668),\n (255, 0.33565432185265703),\n (256, 0.3642524131975376),\n (257, 0.2991514181943475),\n (258, 0.32814758142886513),\n (259, 0.1768723485124978),\n (260, 0.26695693650460356),\n (261, 0.3927611381764693),\n (262, 0.2778989802513149),\n (263, 0.2444994406444977),\n (264, 0.32645405333474004),\n (265, 0.3354587322780065),\n (266, 0.3355159327311281),\n (267, 0.22529660107720184),\n (268, 0.22047269155979832),\n (269, 0.36751875759160346),\n (270, 0.29188700459776723),\n (271, 0.258937476613357),\n (272, 0.2328535482291211),\n (273, 0.3699069036745553),\n (274, 0.17078312833489512),\n (275, 0.3543998207981818),\n (276, 0.17145661656714578),\n (277, 0.28768003048552576),\n (278, 0.3474065258170554),\n (279, 0.2756390681937026),\n (280, 0.397004263830748),\n (281, 0.4022413807899874),\n (282, 0.28905905402103693),\n (283, 0.34370978062597435),\n (284, 0.35120264385446165),\n (285, 0.25709574686992415),\n (286, 0.2519973547872124),\n (287, 0.3493725590198641),\n (288, 0.3143830291826061),\n (289, 0.16558025655938974),\n (290, 0.12157377385772106),\n (291, 0.3022411934213232),\n (292, 0.3369859964355952),\n (293, 0.20274955622722232),\n (294, 0.2533132873380061),\n (295, 0.3592089946978597),\n (296, 0.2964019749991449),\n (297, 0.1767943449186591),\n (298, 0.2793006412914952),\n (299, 0.1597890351230335),\n (300, 0.1755496972540801),\n (301, 0.28929127193328624),\n (302, 0.38386073898282325),\n (303, 0.16892022514602192),\n (304, 0.3125995038320211),\n (305, 0.33366834570816634),\n (306, 0.2596138794342613),\n (307, 0.20007614334259588),\n (308, 0.34601899043737994),\n (309, 0.16041799067756055),\n (310, 0.21165836492090379),\n (311, 0.2837902619042412),\n (312, 0.3409747995045368),\n (313, 0.32136214803053187),\n (314, 0.374709698147221),\n (315, 0.1638463841038081),\n (316, 0.3530466850329624),\n (317, 0.26249883926551143),\n (318, 0.1918772378391117),\n (319, 0.0836125077613314),\n (320, 0.2789225770172238),\n (321, 0.357380352535032),\n (322, 0.20528146908233813),\n (323, 0.3322660921578366),\n (324, 0.26144507854186505),\n (325, 0.32560748516960947),\n (326, 0.1724365599124998),\n (327, 0.10631757310582612),\n (328, 0.3239945495814133),\n (329, 0.30711395236155603),\n (330, 0.15975298841765562),\n (331, 0.2700723806574312),\n (332, 0.3524108431747539),\n (333, 0.26141308407826025),\n (334, 0.2632072435630157),\n (335, 0.20581809009847968),\n (336, 0.27681646244440955),\n (337, 0.23755972931849467),\n (338, 0.332312901652359),\n (339, 0.2121672180619318),\n (340, 0.26238177864699364),\n (341, 0.3059871058749135),\n (342, 0.20121548962656213),\n (343, 0.22505687238738858),\n (344, 0.13109262212091619),\n (345, 0.3893286602561472),\n (346, 0.21594343953130848),\n (347, 0.37792802478177195),\n (348, 0.2869519044485207),\n (349, 0.2842455233022928),\n (350, 0.2457695761557122),\n (351, 0.34705984542217905),\n (352, 0.21089888679529536),\n (353, 0.2926625960950781),\n (354, 0.2600190468371624),\n (355, 0.34401238206736107),\n (356, 0.35080435797960063),\n (357, 0.44048663504417207),\n (358, 0.2427605975586437),\n (359, 0.30743945039626125),\n (360, 0.28045399669564963),\n (361, 0.38044674207688817),\n (362, 0.30714430845584756),\n (363, 0.24569654998379684),\n (364, 0.3792175212350204),\n (365, 0.2838747107267932),\n (366, 0.24197607592851153),\n (367, 0.2946851635857901),\n (368, 0.26332454588112014),\n (369, 0.2511500258039827),\n (370, 0.24112077647084),\n (371, 0.17118490794795585),\n (372, 0.21779488240309614),\n (373, 0.3094926794037471),\n (374, 0.36802929811331303),\n (375, 0.2624970750107648),\n (376, 0.2536202098504266),\n (377, 0.3048698820137335),\n (378, 0.2947174283619835),\n (379, 0.32271126350452484),\n (380, 0.33794230288859556),\n (381, 0.23914173664403157),\n (382, 0.23123283022854216),\n (383, 0.2896570004692321),\n (384, 0.28104314589599194),\n (385, 0.17628030200367215),\n (386, 0.20841218375609322),\n (387, 0.32701780813320724),\n (388, 0.32004658206686837),\n (389, 0.33502902970127735),\n (390, 0.2633816114100102),\n (391, 0.1198163424880567),\n (392, 0.2595835674183288),\n (393, 0.38828574239848324),\n (394, 0.4107744370938358),\n (395, 0.24727671865040415),\n (396, 0.19019177498513715),\n (397, 0.056383407676819625),\n (398, 0.18738547389087773),\n (399, 0.30479179723505584),\n (400, 0.4524654877116547),\n (401, 0.2802354937499591),\n (402, 0.24152381631571349),\n (403, 0.27274357337329747),\n (404, 0.1727424635085974),\n (405, 0.19434810974996336),\n (406, 0.2594244423655311),\n (407, 0.21288059239508472),\n (408, 0.45205148091644687),\n (409, 0.3118762620658883),\n (410, 0.2795253927373862),\n (411, 0.23298887101180957),\n (412, 0.4291224019003773),\n (413, 0.3301666171848141),\n (414, 0.2737686509286802),\n (415, 0.22992445618032747),\n (416, 0.16081448174573673),\n (417, 0.2328343353054115),\n (418, 0.2806635284183208),\n (419, 0.264337581978771),\n (420, 0.24414969311834497),\n (421, 0.24632877955476865),\n (422, 0.3025630778330152),\n (423, 0.35189825650681233),\n (424, 0.2996215787359639),\n (425, 0.2932439244153796),\n (426, 0.3831038976226067),\n (427, 0.27660453198401125),\n (428, 0.38322157690223996),\n (429, 0.1979396870691486),\n (430, 0.22187924252591754),\n (431, 0.28415689792343907),\n (432, 0.19657163380908127),\n (433, 0.17745017277510314),\n (434, 0.25027486399503435),\n (435, 0.2999072496635156),\n (436, 0.32873972416066727),\n (437, 0.28840793709564483),\n (438, 0.36106329436944),\n (439, 0.17957453080207095),\n (440, 0.2546577412598605),\n (441, 0.3122304657712577),\n (442, 0.390468290802588),\n (443, 0.19418556664731337),\n (444, 0.272207373412089),\n (445, 0.3039831897947037),\n (446, 0.24798044145664216),\n (447, 0.12191767291494601),\n (448, 0.44861905668936997),\n (449, 0.3597182177625193),\n (450, 0.30150347067700956),\n (451, 0.31316175206338936),\n (452, 0.2613534241109611),\n (453, 0.20307503243650146),\n (454, 0.32026644599305704),\n (455, 0.14747326749253803),\n (456, 0.3728314422184987),\n (457, 0.3011305128335006),\n (458, 0.33944602354012415),\n (459, 0.37490061918833073),\n (460, 0.3377522356115051),\n (461, 0.30407789913493294),\n (462, 0.257374802107208),\n (463, 0.33569565930862694),\n (464, 0.4422760260199233),\n (465, 0.30164689886469087),\n (466, 0.34983059982493264),\n (467, 0.3267229739288703),\n (468, 0.2441357025125635),\n (469, 0.4864395818496832),\n (470, 0.34948660758514843),\n (471, 0.2559717877754466),\n (472, 0.32769276820761617),\n (473, 0.3387915051271154),\n (474, 0.3811418199096348),\n (475, 0.27216179916614436),\n (476, 0.16722501552266278),\n (477, 0.25430109158928793),\n (478, 0.3092452183983842),\n (479, 0.416945709147713),\n (480, 0.2952928384212344),\n (481, 0.27733408552087674),\n (482, 0.270912496885683),\n (483, 0.24162196859877952),\n (484, 0.354269647999318),\n (485, 0.24667214833087098),\n (486, 0.3130389447451486),\n (487, 0.3870507013891455),\n (488, 0.20673916148167193),\n (489, 0.39112274730191376),\n (490, 0.39049385312735907),\n (491, 0.3059295893194579),\n (492, 0.14482111159087308),\n (493, 0.23818145173557786),\n (494, 0.17475846484877164),\n (495, 0.2381814517355779),\n (496, 0.37073715725183687),\n (497, 0.2793942158811142),\n (498, 0.22100308178668307),\n (499, 0.1877340350627186),\n (500, 0.31141590481510756),\n (501, 0.32327784459111164),\n (502, 0.3035320760682609),\n (503, 0.25905011436005776),\n (504, 0.28768003048552576),\n (505, 0.21697265397891105),\n (506, 0.3154152415080827),\n (507, 0.1564190212315669),\n (508, 0.1903646806561651),\n (509, 0.14820463072603168),\n (510, 0.3598756200451512),\n (511, 0.3823847141676101),\n (512, 0.31479992344314994),\n (513, 0.3677361701198081),\n (514, 0.20867352971844044),\n (515, 0.1936935605052899),\n (516, 0.08974236053931156),\n (517, 0.2667719229039081),\n (518, 0.3039059803602311),\n (519, 0.27849367108107637),\n (520, 0.24571484515043374),\n (521, 0.11174230650150212),\n (522, 0.29755329862358976),\n (523, 0.2593239699307274),\n (524, 0.29723760753320655),\n (525, 0.34370102283356097),\n (526, 0.31419123162823465),\n (527, 0.29832228478920925),\n (528, 0.29279354183592976),\n (529, 0.19051325941630104),\n (530, 0.2769509372944323),\n (531, 0.2558850617733722),\n (532, 0.24922024321580166),\n (533, 0.2867207300633035),\n (534, 0.2915481146502033),\n (535, 0.2461286261297018),\n (536, 0.34089207729639087),\n (537, 0.3749320514345091),\n (538, 0.35549746497155893),\n (539, 0.30146918400361117),\n (540, 0.3146187233247247),\n (541, 0.25818225153020213),\n (542, 0.35056558770862417),\n (543, 0.324897044506253),\n (544, 0.31281360103628586),\n (545, 0.17972451373208503),\n (546, 0.19833609903933094),\n (547, 0.19701814990450062),\n (548, 0.26721582793726006),\n (549, 0.2363133330752523),\n (550, 0.22904520073718354),\n (551, 0.14609283211248786),\n (552, 0.3362022847842346),\n (553, 0.3769031395055892),\n (554, 0.210178727910396),\n (555, 0.07342432933128451),\n (556, 0.25182313620963226),\n (557, 0.27463865350786976),\n (558, 0.20017021705751997),\n (559, 0.39938780829352244),\n (560, 0.3315032772960774),\n (561, 0.35967261509784504),\n (562, 0.03861896309089949),\n (563, 0.28708822922772237),\n (564, 0.330598270755512),\n (565, 0.1588637647465297),\n (566, 0.20143302525284176),\n (567, 0.2883770683216852),\n (568, 0.17515579012347554),\n (569, 0.2154289100846468),\n (570, 0.2524666918192191),\n (571, 0.24116522038013444),\n (572, 0.3151821975816383),\n (573, 0.1608939551786807),\n (574, 0.2130535471919554),\n (575, 0.3229340534955108),\n (576, 0.33072646342284356),\n (577, 0.3281996405418198),\n (578, 0.3641030757862401),\n (579, 0.3473325241328442),\n (580, 0.30986447544982404),\n (581, 0.2583136351181438),\n (582, 0.28521994481607826),\n (583, 0.2452909591948552),\n (584, 0.3781568954254017),\n (585, 0.0),\n (586, 0.3115002809019945),\n (587, 0.2810482627023191),\n (588, 0.15622139762614476),\n (589, 0.3027454426811394),\n (590, 0.30545297471785093),\n (591, 0.28658197349089864),\n (592, 0.4547852215469819),\n (593, 0.2725041238408763),\n (594, 0.38222860690894345),\n (595, 0.19456176483091936),\n (596, 0.23968374629774625),\n (597, 0.2129967787561327),\n (598, 0.3331420870722766),\n (599, 0.182679087282188),\n (600, 0.3232341554437278),\n (601, 0.2787455963961611),\n (602, 0.2835802801796679),\n (603, 0.15643922910210298),\n (604, 0.25806022223461006),\n (605, 0.4609954731421491),\n (606, 0.25935810377055546),\n (607, 0.29039682860259575),\n (608, 0.24794870306663402),\n (609, 0.3858964110429713),\n (610, 0.300247214604017),\n (611, 0.26449452006093066),\n (612, 0.3173161331584009),\n (613, 0.3590557397597508),\n (614, 0.16435443612654876),\n (615, 0.33655953488297236),\n (616, 0.2377836050903587),\n (617, 0.13471883104079338),\n (618, 0.33858005317486217),\n (619, 0.2090312694033285),\n (620, 0.30524305465803686),\n (621, 0.2952510701598419),\n (622, 0.14405237127228068),\n (623, 0.3271503161281762),\n (624, 0.20795099721351437),\n (625, 0.35385429468238866),\n (626, 0.25348508341562975),\n (627, 0.2331574920678779),\n (628, 0.0747853004494263),\n (629, 0.18897760748019182),\n (630, 0.3229941367208787),\n (631, 0.25830080366064123),\n (632, 0.28093802607807344),\n (633, 0.45232903762776744),\n (634, 0.24890052500435692),\n (635, 0.2864602959433617),\n (636, 0.23649188492020107),\n (637, 0.0),\n (638, 0.26513406057431294),\n (639, 0.2621562303849188),\n (640, 0.3365982027319662),\n (641, 0.3112112368598504),\n (642, 0.04096159602595203),\n (643, 0.18790383027226779),\n (644, 0.24184727982058388),\n (645, 0.1156002845517351),\n (646, 0.31519438742509415),\n (647, 0.3651114251746282),\n (648, 0.24122172261860503),\n (649, 0.2041723775865736),\n (650, 0.39863485127075243),\n (651, 0.2678357178767737),\n (652, 0.1503009813889863),\n (653, 0.29033229085117657),\n (654, 0.27178199392372726),\n (655, 0.4478731753984286),\n (656, 0.299451905704084),\n (657, 0.31906256012071244),\n (658, 0.12383172514165713),\n (659, 0.024424776848243727),\n (660, 0.3138948349886805),\n (661, 0.23177646318837933),\n (662, 0.32908570987263014),\n (663, 0.23416185878765955),\n (664, 0.3116259970771978),\n (665, 0.19369356050528988),\n (666, 0.2780719403289128),\n (667, 0.3187998591153938),\n (668, 0.20613729947247966),\n (669, 0.2776725202547736),\n (670, 0.2911288745147107),\n (671, 0.22520896868939289),\n (672, 0.3408140348295815),\n (673, 0.28944141143450686),\n (674, 0.283513528282203),\n (675, 0.34477276109717286),\n (676, 0.24654506956295993),\n (677, 0.25977755602834723),\n (678, 0.2848295182376634),\n (679, 0.1689227749430008),\n (680, 0.23252255510056874),\n (681, 0.127354777584517),\n (682, 0.3025362647823432),\n (683, 0.18736550846821273),\n (684, 0.3151197266658247),\n (685, 0.2371080176662742),\n (686, 0.3709150779756062),\n (687, 0.3805247290454403),\n (688, 0.22422617835313285),\n (689, 0.2954974137736394),\n (690, 0.31151304704535354),\n (691, 0.18715343651743596),\n (692, 0.17674069205540452),\n (693, 0.16312299697659077),\n (694, 0.15848517323279826),\n (695, 0.3040962202354496),\n (696, 0.12783122809842684),\n (697, 0.24235305035604612),\n (698, 0.24880120976797465),\n (699, 0.2799146892882428),\n (700, 0.31068254014520125),\n (701, 0.36698275698113436),\n (702, 0.4037912116981474),\n (703, 0.2682124521029688),\n (704, 0.3776585445872282),\n (705, 0.38799879694519285),\n (706, 0.0),\n (707, 0.3153161241461969),\n (708, 0.1451845277497077),\n (709, 0.2569413813520328),\n (710, 0.31950950894682045),\n (711, 0.2616812553765917),\n (712, 0.2662485206963533),\n (713, 0.27430424645940454),\n (714, 0.2026072028175979),\n (715, 0.3501349172908604),\n (716, 0.18255305823146267),\n (717, 0.338516287410172),\n (718, 0.09987369648241233),\n (719, 0.24077220738611946),\n (720, 0.23963268497611337),\n (721, 0.21654547646621108),\n (722, 0.40564041914871907),\n (723, 0.24180529079761282),\n (724, 0.2810625574107716),\n (725, 0.19093803867144185),\n (726, 0.2899369816446296),\n (727, 0.3217879103573613),\n (728, 0.2379718020120934),\n (729, 0.19648079709329616),\n (730, 0.3891022660730084),\n (731, 0.2368294894959631),\n (732, 0.33486670107197697),\n (733, 0.09870343701222134),\n (734, 0.1471161759515636),\n (735, 0.24220597422432802),\n (736, 0.2645825317630295),\n (737, 0.15563058331730723),\n (738, 0.281511883720685),\n (739, 0.23479432718013807),\n (740, 0.3258475010794643),\n (741, 0.22757158963691315),\n (742, 0.32821899477799515),\n (743, 0.3665709198990625),\n (744, 0.15515310848666372),\n (745, 0.23845578014476831),\n (746, 0.2924897514616805),\n (747, 0.21487714861372637),\n (748, 0.18753630659708637),\n (749, 0.25987726945541834),\n (750, 0.2158533508562945),\n (751, 0.3490798433696072),\n (752, 0.3019313932713399),\n (753, 0.19189354718566395),\n (754, 0.22047269155979834),\n (755, 0.09023720204040667),\n (756, 0.30790617988534225),\n (757, 0.12953194003770996),\n (758, 0.2808341948017669),\n (759, 0.25277866750406935),\n (760, 0.2651962134223519),\n (761, 0.3509259692594918),\n (762, 0.1478623320952458),\n (763, 0.333778180999917),\n (764, 0.29237332604102184),\n (765, 0.3981922236556935),\n (766, 0.3068774190493659),\n (767, 0.2593469960191105),\n (768, 0.10736493784555479),\n (769, 0.3176140902138307),\n (770, 0.15963202232113577),\n (771, 0.4593623245335894),\n (772, 0.26235656296497417),\n (773, 0.22514529373906222),\n (774, 0.28398510591065157),\n (775, 0.3919442423443243),\n (776, 0.19794894329151425),\n (777, 0.2714162625801227),\n (778, 0.2181697089432641),\n (779, 0.31246636652449067),\n (780, 0.3080819577854662),\n (781, 0.36485547621040065),\n (782, 0.364873386579061),\n (783, 0.2936990645863826),\n (784, 0.3030738153664051),\n (785, 0.1111491026875895),\n (786, 0.2986727384794871),\n (787, 0.28340017201276635),\n (788, 0.2800653130885439),\n (789, 0.27768958386793685),\n (790, 0.10217617222970235),\n (791, 0.31792364289313096),\n (792, 0.2445498684970798),\n (793, 0.23743596805491476),\n (794, 0.3205902241521835),\n (795, 0.36412645972291685),\n (796, 0.34914586106552276),\n (797, 0.2376552039575707),\n (798, 0.3828546391178232),\n (799, 0.22934158804490734),\n (800, 0.2958139120959035),\n (801, 0.3760350083388177),\n (802, 0.3100518355586355),\n (803, 0.2643652844339359),\n (804, 0.2137992976365246),\n (805, 0.2256264238116809),\n (806, 0.3533748574354911),\n (807, 0.252994758319151),\n (808, 0.1249316966499877),\n (809, 0.1206916195509247),\n (810, 0.31961281265745933),\n (811, 0.26835979048239605),\n (812, 0.2576070894446536),\n (813, 0.2696546851402298),\n (814, 0.29113244440808694),\n (815, 0.31598019069931305),\n (816, 0.22534581875211313),\n (817, 0.20350849084309988),\n (818, 0.285977119379006),\n (819, 0.06805745919552453),\n (820, 0.21684220295014653),\n (821, 0.3416618373537702),\n (822, 0.1019069328362147),\n (823, 0.27978899048145356),\n (824, 0.3372124483301515),\n (825, 0.3070934932856493),\n (826, 0.22938493774533134),\n (827, 0.3806882795126465),\n (828, 0.23404551530349618),\n (829, 0.22895752677264047),\n (830, 0.319750351621002),\n (831, 0.12612900529077392),\n (832, 0.32040932835362784),\n (833, 0.04180625388066571),\n (834, 0.266073674619271),\n (835, 0.3153264157091376),\n (836, 0.0),\n (837, 0.3166794504107089),\n (838, 0.24695521065546602),\n (839, 0.2982359384598744),\n (840, 0.36286126040768296),\n (841, 0.31862826611557066),\n (842, 0.3779037568845896),\n (843, 0.294848019952854),\n (844, 0.40679302137429174),\n (845, 0.3548294790618155),\n (846, 0.28077752533807),\n (847, 0.3817697202061329),\n (848, 0.34757066781809537),\n (849, 0.24357211637625067),\n (850, 0.025282045946393238),\n (851, 0.25768871558788603),\n (852, 0.25526956219572583),\n (853, 0.1782612254190189),\n (854, 0.34115329077931683),\n (855, 0.3358261631255291),\n (856, 0.07130498620401957),\n (857, 0.2880721442642391),\n (858, 0.30939327031879),\n (859, 0.3272755907396764),\n (860, 0.1758874680191857),\n (861, 0.21379929763652455),\n (862, 0.2272702479399601),\n (863, 0.13475111216915084),\n (864, 0.3265116839136708),\n (865, 0.24841144797648),\n (866, 0.3066711522306427),\n (867, 0.34274708302513374),\n (868, 0.2949400758539314),\n (869, 0.30518182849060543),\n (870, 0.16256129458344104),\n (871, 0.37782453188257425),\n (872, 0.2014330252528418),\n (873, 0.25813223197149315),\n (874, 0.2488257688756234),\n (875, 0.20239847448117473),\n (876, 0.2879714329088171),\n (877, 0.3001246256519641),\n (878, 0.26256748845210187),\n (879, 0.2562959756888813),\n (880, 0.43426967527036936),\n (881, 0.2509817876495187),\n (882, 0.19015943565777363),\n (883, 0.4063171597121717),\n (884, 0.3652408978980722),\n (885, 0.26308550471119924),\n (886, 0.3870026813992394),\n (887, 0.330280858144908),\n (888, 0.2687313505388374),\n (889, 0.2981707066519269),\n (890, 0.03493216646320839),\n (891, 0.31433430491615755),\n (892, 0.28978084851918573),\n (893, 0.3986915496454186),\n (894, 0.18009834584665996),\n (895, 0.2731298166578445),\n (896, 0.33798041077859164),\n (897, 0.2329888710118096),\n (898, 0.3611892425242568),\n (899, 0.21455694015578566),\n (900, 0.2930720656918813),\n (901, 0.30912916244937894),\n (902, 0.21661194429554234),\n (903, 0.3571137017467983),\n (904, 0.32667990375370204),\n (905, 0.21089836833787587),\n (906, 0.19489092881958997),\n (907, 0.2323457002751036),\n (908, 0.3876796091356569),\n (909, 0.17469759914779665),\n (910, 0.3457565744074327),\n (911, 0.28077342324557386),\n (912, 0.35512012130323),\n (913, 0.38577219818339803),\n (914, 0.27915989912757966),\n (915, 0.3347533520230666),\n (916, 0.28444947362149603),\n (917, 0.32777370998190436),\n (918, 0.3639755782640672),\n (919, 0.3126400871215914),\n (920, 0.3153657146270808),\n (921, 0.12908450540180993),\n (922, 0.07845819013241612),\n (923, 0.4190614437011802),\n (924, 0.32797759465704923),\n (925, 0.293664163779103),\n (926, 0.047798902848525476),\n (927, 0.32695747110890466),\n (928, 0.36591455657753136),\n (929, 0.32489704450625306),\n (930, 0.31342576925490395),\n (931, 0.26580352804020474),\n (932, 0.2556158102245593),\n (933, 0.12023037600541603),\n (934, 0.3219857895021015),\n (935, 0.25936367531337023),\n (936, 0.24308348920775308),\n (937, 0.17375525423181518),\n (938, 0.27270194266659487),\n (939, 0.30485804912090175),\n (940, 0.3118361339408362),\n (941, 0.1700820254196439),\n (942, 0.17375525423181518),\n (943, 0.3784318033514243),\n (944, 0.1705958042619674),\n (945, 0.2148288736041468),\n (946, 0.3245742146397696),\n (947, 0.29865883223633793),\n (948, 0.211650642475812),\n (949, 0.2680654829524218),\n (950, 0.2326772495557959),\n (951, 0.3161021673461064),\n (952, 0.21684220295014653),\n (953, 0.3468938012208695),\n (954, 0.2853241952755605),\n (955, 0.10615628840471664),\n (956, 0.3443893535602366),\n (957, 0.2622297476117304),\n (958, 0.2272863111444145),\n (959, 0.2860623712201049),\n (960, 0.28956393091833943),\n (961, 0.2812940257425554),\n (962, 0.34110567687453675),\n (963, 0.29135933035841444),\n (964, 0.3398868471115926),\n (965, 0.2853668866020841),\n (966, 0.30302862296268757),\n (967, 0.11987868421728454),\n (968, 0.0),\n (969, 0.31608551576454186),\n (970, 0.2773353246234778),\n (971, 0.25560478146824894),\n (972, 0.13468089810155323),\n (973, 0.19362495261559348),\n (974, 0.35229135960526503),\n (975, 0.2785074432524918),\n (976, 0.28964222318174615),\n (977, 0.2540634242221043),\n (978, 0.25456409826997545),\n (979, 0.20583976489726624),\n (980, 0.3549111661775408),\n (981, 0.33600381423463577),\n (982, 0.3519435602754563),\n (983, 0.27452255390852653),\n (984, 0.20108419867285543),\n (985, 0.28196051837896646),\n (986, 0.33915542322301434),\n (987, 0.28306184944192947),\n (988, 0.09733925678759883),\n (989, 0.1952767470326809),\n (990, 0.2988588598737309),\n (991, 0.1692198178587606),\n (992, 0.17795194560863287),\n (993, 0.2506481404534593),\n (994, 0.1750558441262255),\n (995, 0.29944152769365573),\n (996, 0.14209207085391),\n (997, 0.32781926609621426),\n (998, 0.37942966586820015),\n (999, 0.13789728044909835),\n ...]"
     },
     "execution_count": 70,
     "metadata": {},
     "output_type": "execute_result"
    }
   ],
   "source": [
    "similar_products = list(enumerate(cosine_sim[ref_index]))\n",
    "similar_products"
   ],
   "metadata": {
    "collapsed": false
   }
  },
  {
   "cell_type": "code",
   "execution_count": 71,
   "outputs": [
    {
     "data": {
      "text/plain": "[(9252, 0.49193285614091176),\n (9679, 0.4880597052943128),\n (7008, 0.48776230455235364),\n (469, 0.4864395818496832),\n (5778, 0.4814781246500955),\n (2115, 0.47660237490506585),\n (5807, 0.4764381941182063),\n (5789, 0.47626099013987444)]"
     },
     "execution_count": 71,
     "metadata": {},
     "output_type": "execute_result"
    }
   ],
   "source": [
    "sorted_similar_products = sorted(similar_products, key=lambda x: x[1], reverse=True)[1:]\n",
    "\n",
    "sorted_similar_products[:8]"
   ],
   "metadata": {
    "collapsed": false
   }
  },
  {
   "cell_type": "code",
   "execution_count": 72,
   "outputs": [
    {
     "name": "stdout",
     "output_type": "stream",
     "text": [
      "Recommend products for [b2bbae612611f0093cf7342369db62fa]\n",
      "------------------------------------\n",
      "9252\n",
      "Indiana Jones - Indiana Jones Hat and Whip Set Child , https://www.amazon.com/Indiana-Jones-Childs-Hat-Whip/dp/B001EDF3OU -> 0.492\n",
      "9679\n",
      "Rubies Star Wars Clone Wars Child's Deluxe Cad Bane Costume and Mask, Small , https://www.amazon.com/Rubies-Clone-Childs-Deluxe-Costume/dp/B003KN3O2U -> 0.488\n",
      "7008\n",
      "Forum Great Detective Costume Accessory Kit , https://www.amazon.com/Forum-Great-Detective-Costume-Accessory/dp/B003VLVRQ6 -> 0.488\n",
      "469\n",
      "Lord of The Rings Bilbo Baggins Sword , https://www.amazon.com/The-Hobbit-Sting-Lightup-Sword/dp/B00BG34DK8 -> 0.486\n",
      "5778\n",
      "Rubie's Marvel Classic Child's American Dream Metallic Costume, Small , https://www.amazon.com/Rubies-Classic-American-Metallic-Costume/dp/B00HA4ZCK2 -> 0.481\n",
      "2115\n",
      "Rubie's Costume Co. Women's Suicide Squad Harley Costume Jewelry Set , https://www.amazon.com/Rubies-Costume-Womens-Suicide-Jewelry/dp/B01BFFIQ86 -> 0.477\n",
      "5807\n",
      "Rubie's Costume Co. Men's Doctor Strange Economy Cloak of Levitation , https://www.amazon.com/Rubies-Costume-Strange-Economy-Levitation/dp/B06XC7D7V4 -> 0.476\n",
      "5789\n",
      "Rubie's Plush Reindeer Antlers Costume Accessory , https://www.amazon.com/Plush-Reindeer-Antlers-Costume-Accessory/dp/B012H3JAXU -> 0.476\n"
     ]
    }
   ],
   "source": [
    "print('Recommend products for [' + user_choice + ']')\n",
    "print('------------------------------------')\n",
    "for i, element in enumerate(sorted_similar_products):\n",
    "    similar_product_id = element[0]\n",
    "    print(similar_product_id)\n",
    "    similar_product_title = df['Product Name'].iloc[similar_product_id]\n",
    "    similar_product_url = df['Product Url'].iloc[similar_product_id]\n",
    "    s_score = element[1]\n",
    "    print('{:30} , {:30} -> {:.3f}'.format(similar_product_title, similar_product_url, s_score))\n",
    "\n",
    "    if i > 6:\n",
    "        break"
   ],
   "metadata": {
    "collapsed": false
   }
  },
  {
   "cell_type": "code",
   "execution_count": 72,
   "outputs": [],
   "source": [],
   "metadata": {
    "collapsed": false
   }
  }
 ],
 "metadata": {
  "kernelspec": {
   "display_name": "Python 3",
   "language": "python",
   "name": "python3"
  },
  "language_info": {
   "codemirror_mode": {
    "name": "ipython",
    "version": 2
   },
   "file_extension": ".py",
   "mimetype": "text/x-python",
   "name": "python",
   "nbconvert_exporter": "python",
   "pygments_lexer": "ipython2",
   "version": "2.7.6"
  }
 },
 "nbformat": 4,
 "nbformat_minor": 0
}
