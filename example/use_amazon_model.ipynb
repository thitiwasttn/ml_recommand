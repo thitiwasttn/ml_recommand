{
 "cells": [
  {
   "cell_type": "code",
   "execution_count": 15,
   "metadata": {
    "collapsed": true
   },
   "outputs": [],
   "source": [
    "import pandas as pd\n",
    "import numpy as np\n",
    "from sklearn.feature_extraction.text import CountVectorizer\n",
    "from sklearn.metrics.pairwise import cosine_similarity\n",
    "from scipy import sparse\n",
    "\n",
    "df = pd.read_csv(\"../data/sample_product.csv\")"
   ]
  },
  {
   "cell_type": "code",
   "execution_count": 16,
   "outputs": [],
   "source": [
    "A_sparse = sparse.load_npz(\"amazon_model.npz\")"
   ],
   "metadata": {
    "collapsed": false
   }
  },
  {
   "cell_type": "code",
   "execution_count": 17,
   "outputs": [
    {
     "name": "stdout",
     "output_type": "stream",
     "text": [
      "user choice ref_index = 6172\n"
     ]
    },
    {
     "data": {
      "text/plain": "Uniq Id                                   4c4ee5cf19ce7f484e5ec6a46aa49560\nProduct Name             Rubie's Men's Deluxe Erik Killmonger Battle Su...\nBrand Name                                                             NaN\nAsin                                                                   NaN\nCategory                 Clothing, Shoes & Jewelry | Costumes & Accesso...\nUpc Ean Code                                                           NaN\nList Price                                                             NaN\nSelling Price                                              $33.97 - $64.99\nQuantity                                                               NaN\nModel Number                                                           NaN\nAbout Product            100% Polyester | Imported | Hook and Loop clos...\nProduct Specification                                                  NaN\nTechnical Details        Transform yourself into Black Panther's nemesi...\nShipping Weight                                                 1.9 pounds\nProduct Dimensions                                                     NaN\nImage                    https://images-na.ssl-images-amazon.com/images...\nVariants                                                               NaN\nSku                                                                    NaN\nProduct Url              https://www.amazon.com/Rubies-Costume-Deluxe-K...\nStock                                                                  NaN\nProduct Details                                                        NaN\nDimensions                                                             NaN\nColor                                                                  NaN\nIngredients                                                            NaN\nDirection To Use                                                       NaN\nIs Amazon Seller                                                         Y\nSize Quantity Variant                                                  NaN\nProduct Description                                                    NaN\nName: 6172, dtype: object"
     },
     "execution_count": 17,
     "metadata": {},
     "output_type": "execute_result"
    }
   ],
   "source": [
    "user_choice = '4c4ee5cf19ce7f484e5ec6a46aa49560'\n",
    "ref_index = df[df['Uniq Id'].str.contains(user_choice, case=False)].index[0]\n",
    "\n",
    "print('user choice ref_index = {}'.format(ref_index))\n",
    "df.iloc[ref_index]"
   ],
   "metadata": {
    "collapsed": false
   }
  },
  {
   "cell_type": "code",
   "execution_count": 18,
   "outputs": [],
   "source": [
    "cosine_sim = cosine_similarity(A_sparse,A_sparse.getrow(ref_index))\n",
    "similar_products = list(enumerate(cosine_sim))\n",
    "sorted_similar_products = sorted(similar_products, key=lambda x: x[1], reverse=True)[1:][:8]"
   ],
   "metadata": {
    "collapsed": false
   }
  },
  {
   "cell_type": "code",
   "execution_count": 19,
   "outputs": [
    {
     "name": "stdout",
     "output_type": "stream",
     "text": [
      "Recommend products for [4c4ee5cf19ce7f484e5ec6a46aa49560]\n",
      "------------------------------------\n",
      "1645\n",
      "Rubie's Marvel Captain Marvel Child's Kree Costume Suit , https://www.amazon.com/Captain-Marvel-Costume-Medium-Black/dp/B07GMB7YR6 -> 0.803\n",
      "345\n",
      "Drama Queens: Bad Spirit Kids Costume Small 4-6 , https://www.amazon.com/Drama-Queens-Spirit-Costume-Small/dp/B0009JOSVE -> 0.764\n",
      "2365\n",
      "Rubie's Ghostbusters Child's Costume, Small , https://www.amazon.com/Rubies-Ghostbusters-Childs-Costume-Small/dp/B00413FYXK -> 0.761\n",
      "1741\n",
      "Rubie’s DC Comics Batman Muscle Chest Costume, Small , https://www.amazon.com/Rubies-Comics-Batman-Muscle-Costume/dp/B002K1GBNM -> 0.756\n",
      "6998\n",
      "Rubie's Lace Angel Children's Costume, na, Large , https://www.amazon.com/Rubies-Angel-Childrens-Costume-Large/dp/B078976DX4 -> 0.755\n",
      "5807\n",
      "Rubie's Costume Co. Men's Doctor Strange Economy Cloak of Levitation , https://www.amazon.com/Rubies-Costume-Strange-Economy-Levitation/dp/B06XC7D7V4 -> 0.753\n",
      "474\n",
      "Rubie's Marvel Avengers: Infinity War Deluxe Teen Groot Child's Costume, Medium , https://www.amazon.com/Rubies-Marvel-Avengers-Infinity-Costume/dp/B0797LKBG2 -> 0.752\n",
      "9116\n",
      "Rubie's Costume Co. Women's Bumble Bee Baby , https://www.amazon.com/Rubies-Bumble-Bee-Baby-Infant/dp/B079QMBYBJ -> 0.748\n"
     ]
    }
   ],
   "source": [
    "print('Recommend products for [' + user_choice + ']')\n",
    "print('------------------------------------')\n",
    "for i, element in enumerate(sorted_similar_products):\n",
    "    similar_product_id = element[0]\n",
    "    print(similar_product_id)\n",
    "    similar_product_title = df['Product Name'].iloc[similar_product_id]\n",
    "    similar_product_url = df['Product Url'].iloc[similar_product_id]\n",
    "    s_score = element[1][0]\n",
    "    print('{:30} , {:30} -> {:.3f}'.format(similar_product_title, similar_product_url, s_score))\n",
    "\n",
    "    if i > 6:\n",
    "        break"
   ],
   "metadata": {
    "collapsed": false
   }
  }
 ],
 "metadata": {
  "kernelspec": {
   "display_name": "Python 3",
   "language": "python",
   "name": "python3"
  },
  "language_info": {
   "codemirror_mode": {
    "name": "ipython",
    "version": 2
   },
   "file_extension": ".py",
   "mimetype": "text/x-python",
   "name": "python",
   "nbconvert_exporter": "python",
   "pygments_lexer": "ipython2",
   "version": "2.7.6"
  }
 },
 "nbformat": 4,
 "nbformat_minor": 0
}
