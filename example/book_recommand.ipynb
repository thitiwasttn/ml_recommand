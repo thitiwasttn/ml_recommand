{
 "cells": [
  {
   "cell_type": "code",
   "execution_count": 21,
   "metadata": {
    "collapsed": true
   },
   "outputs": [],
   "source": [
    "import pandas as pd\n",
    "import numpy as np\n",
    "from sklearn.feature_extraction.text import CountVectorizer\n",
    "from sklearn.metrics.pairwise import cosine_similarity\n",
    "from scipy import sparse\n",
    "\n",
    "df = pd.read_csv(\"../data/book_data.csv\")"
   ]
  },
  {
   "cell_type": "code",
   "execution_count": 22,
   "outputs": [
    {
     "data": {
      "text/plain": "                                        book_authors  \\\n0                                    Suzanne Collins   \n1                         J.K. Rowling|Mary GrandPré   \n2                                         Harper Lee   \n3  Jane Austen|Anna Quindlen|Mrs. Oliphant|George...   \n4                                    Stephenie Meyer   \n\n                                           book_desc  \\\n0  Winning will make you famous. Losing means cer...   \n1  There is a door at the end of a silent corrido...   \n2  The unforgettable novel of a childhood in a sl...   \n3  «È cosa ormai risaputa che a uno scapolo in po...   \n4  About three things I was absolutely positive.F...   \n\n                         book_edition book_format    book_isbn book_pages  \\\n0                                 NaN   Hardcover  9.78044E+12  374 pages   \n1                          US Edition   Paperback  9.78044E+12  870 pages   \n2                    50th Anniversary   Paperback  9.78006E+12  324 pages   \n3  Modern Library Classics, USA / CAN   Paperback  9.78068E+12  279 pages   \n4                                 NaN   Paperback  9.78032E+12  498 pages   \n\n   book_rating  book_rating_count  book_review_count  \\\n0         4.33            5519135             160706   \n1         4.48            2041594              33264   \n2         4.27            3745197              79450   \n3         4.25            2453620              54322   \n4         3.58            4281268              97991   \n\n                                  book_title  \\\n0                           The Hunger Games   \n1  Harry Potter and the Order of the Phoenix   \n2                      To Kill a Mockingbird   \n3                        Pride and Prejudice   \n4                                   Twilight   \n\n                                              genres  \\\n0  Young Adult|Fiction|Science Fiction|Dystopia|F...   \n1                        Fantasy|Young Adult|Fiction   \n2  Classics|Fiction|Historical|Historical Fiction...   \n3                           Classics|Fiction|Romance   \n4  Young Adult|Fantasy|Romance|Paranormal|Vampire...   \n\n                                           image_url  \n0  https://images.gr-assets.com/books/1447303603l...  \n1  https://images.gr-assets.com/books/1255614970l...  \n2  https://images.gr-assets.com/books/1361975680l...  \n3  https://images.gr-assets.com/books/1320399351l...  \n4  https://images.gr-assets.com/books/1361039443l...  ",
      "text/html": "<div>\n<style scoped>\n    .dataframe tbody tr th:only-of-type {\n        vertical-align: middle;\n    }\n\n    .dataframe tbody tr th {\n        vertical-align: top;\n    }\n\n    .dataframe thead th {\n        text-align: right;\n    }\n</style>\n<table border=\"1\" class=\"dataframe\">\n  <thead>\n    <tr style=\"text-align: right;\">\n      <th></th>\n      <th>book_authors</th>\n      <th>book_desc</th>\n      <th>book_edition</th>\n      <th>book_format</th>\n      <th>book_isbn</th>\n      <th>book_pages</th>\n      <th>book_rating</th>\n      <th>book_rating_count</th>\n      <th>book_review_count</th>\n      <th>book_title</th>\n      <th>genres</th>\n      <th>image_url</th>\n    </tr>\n  </thead>\n  <tbody>\n    <tr>\n      <th>0</th>\n      <td>Suzanne Collins</td>\n      <td>Winning will make you famous. Losing means cer...</td>\n      <td>NaN</td>\n      <td>Hardcover</td>\n      <td>9.78044E+12</td>\n      <td>374 pages</td>\n      <td>4.33</td>\n      <td>5519135</td>\n      <td>160706</td>\n      <td>The Hunger Games</td>\n      <td>Young Adult|Fiction|Science Fiction|Dystopia|F...</td>\n      <td>https://images.gr-assets.com/books/1447303603l...</td>\n    </tr>\n    <tr>\n      <th>1</th>\n      <td>J.K. Rowling|Mary GrandPré</td>\n      <td>There is a door at the end of a silent corrido...</td>\n      <td>US Edition</td>\n      <td>Paperback</td>\n      <td>9.78044E+12</td>\n      <td>870 pages</td>\n      <td>4.48</td>\n      <td>2041594</td>\n      <td>33264</td>\n      <td>Harry Potter and the Order of the Phoenix</td>\n      <td>Fantasy|Young Adult|Fiction</td>\n      <td>https://images.gr-assets.com/books/1255614970l...</td>\n    </tr>\n    <tr>\n      <th>2</th>\n      <td>Harper Lee</td>\n      <td>The unforgettable novel of a childhood in a sl...</td>\n      <td>50th Anniversary</td>\n      <td>Paperback</td>\n      <td>9.78006E+12</td>\n      <td>324 pages</td>\n      <td>4.27</td>\n      <td>3745197</td>\n      <td>79450</td>\n      <td>To Kill a Mockingbird</td>\n      <td>Classics|Fiction|Historical|Historical Fiction...</td>\n      <td>https://images.gr-assets.com/books/1361975680l...</td>\n    </tr>\n    <tr>\n      <th>3</th>\n      <td>Jane Austen|Anna Quindlen|Mrs. Oliphant|George...</td>\n      <td>«È cosa ormai risaputa che a uno scapolo in po...</td>\n      <td>Modern Library Classics, USA / CAN</td>\n      <td>Paperback</td>\n      <td>9.78068E+12</td>\n      <td>279 pages</td>\n      <td>4.25</td>\n      <td>2453620</td>\n      <td>54322</td>\n      <td>Pride and Prejudice</td>\n      <td>Classics|Fiction|Romance</td>\n      <td>https://images.gr-assets.com/books/1320399351l...</td>\n    </tr>\n    <tr>\n      <th>4</th>\n      <td>Stephenie Meyer</td>\n      <td>About three things I was absolutely positive.F...</td>\n      <td>NaN</td>\n      <td>Paperback</td>\n      <td>9.78032E+12</td>\n      <td>498 pages</td>\n      <td>3.58</td>\n      <td>4281268</td>\n      <td>97991</td>\n      <td>Twilight</td>\n      <td>Young Adult|Fantasy|Romance|Paranormal|Vampire...</td>\n      <td>https://images.gr-assets.com/books/1361039443l...</td>\n    </tr>\n  </tbody>\n</table>\n</div>"
     },
     "execution_count": 22,
     "metadata": {},
     "output_type": "execute_result"
    }
   ],
   "source": [
    "df.head()"
   ],
   "metadata": {
    "collapsed": false
   }
  },
  {
   "cell_type": "code",
   "execution_count": 23,
   "outputs": [
    {
     "data": {
      "text/plain": "(54301, 12)"
     },
     "execution_count": 23,
     "metadata": {},
     "output_type": "execute_result"
    }
   ],
   "source": [
    "df.shape"
   ],
   "metadata": {
    "collapsed": false
   }
  },
  {
   "cell_type": "code",
   "execution_count": 24,
   "outputs": [
    {
     "data": {
      "text/plain": "book_authors             0\nbook_desc             1331\nbook_edition         48848\nbook_format           1656\nbook_isbn            12866\nbook_pages            2522\nbook_rating              0\nbook_rating_count        0\nbook_review_count        0\nbook_title               0\ngenres                3242\nimage_url              683\ndtype: int64"
     },
     "execution_count": 24,
     "metadata": {},
     "output_type": "execute_result"
    }
   ],
   "source": [
    "df.isnull().sum()"
   ],
   "metadata": {
    "collapsed": false
   }
  },
  {
   "cell_type": "code",
   "execution_count": 25,
   "outputs": [
    {
     "data": {
      "text/plain": "Index(['book_authors', 'book_desc', 'book_edition', 'book_format', 'book_isbn',\n       'book_pages', 'book_rating', 'book_rating_count', 'book_review_count',\n       'book_title', 'genres', 'image_url'],\n      dtype='object')"
     },
     "execution_count": 25,
     "metadata": {},
     "output_type": "execute_result"
    }
   ],
   "source": [
    "df.columns"
   ],
   "metadata": {
    "collapsed": false
   }
  },
  {
   "cell_type": "code",
   "execution_count": 37,
   "outputs": [
    {
     "data": {
      "text/plain": "                                            book_authors  \\\n66                                    Arthur Conan Doyle   \n300                                   Arthur Conan Doyle   \n2508                                  Arthur Conan Doyle   \n2611   Arthur Conan Doyle|Christopher Roden|Owen Dudl...   \n4175   Arthur Conan Doyle|Richard Lancelyn Green|Owen...   \n4595                      Ronald Holt|Arthur Conan Doyle   \n5034                     Arthur Conan Doyle|Kyle Freeman   \n5836                                  Arthur Conan Doyle   \n8721                     Arthur Conan Doyle|Sidney Paget   \n10115  John Joseph Adams|Robert J. Sawyer|Stephen Kin...   \n10662                                 Arthur Conan Doyle   \n11810                                    Maria Konnikova   \n13260                                David Stuart Davies   \n21960                                 Arthur Conan Doyle   \n23066                                 Arthur Conan Doyle   \n23892                                 Arthur Conan Doyle   \n24966                                 Arthur Conan Doyle   \n25130                                    Edward B. Hanna   \n25477                   Laurie R. King|Leslie S. Klinger   \n25634                                 Arthur Conan Doyle   \n25668                                 Arthur Conan Doyle   \n26914                      Arthur Conan Doyle|Anne Perry   \n27116  Richard Lancelyn Green|Ronald Knox|Julian Symo...   \n27278                                 Arthur Conan Doyle   \n28233                                 Arthur Conan Doyle   \n29364                                 Arthur Conan Doyle   \n33023         Arthur Conan Doyle|William S. Baring-Gould   \n33173                                 Arthur Conan Doyle   \n34349                                 Arthur Conan Doyle   \n35371                Malvina G. Vogel|Arthur Conan Doyle   \n35591                    Arthur Conan Doyle|Kyle Freeman   \n36082  Arthur Conan Doyle|Shotaro Ishinomori|Morihiko...   \n36526                                 Arthur Conan Doyle   \n36867                                 Arthur Conan Doyle   \n37970                   Arthur Conan Doyle|Mariëlla Snel   \n38658                                 Arthur Conan Doyle   \n40127     Murray Shaw|Sophie Rohrbach|Arthur Conan Doyle   \n42324                   Arthur Conan Doyle|Scott McKowen   \n43884                                          Guy Adams   \n45866       Arthur Conan Doyle|Nicoletta Rosati Bizzotto   \n47745                                 Arthur Conan Doyle   \n48659                                       Paul Shipton   \n49270               Arthur Conan Doyle|Loren D. Estleman   \n50906                                 Arthur Conan Doyle   \n51320                     Arthur Conan Doyle|Robert Ryan   \n53193               Arthur Conan Doyle|Loren D. Estleman   \n\n                                               book_desc  \\\n66     'It is an old maxim of mine that when you have...   \n300    Ever since he made his first appearance in A S...   \n2508   Since his first appearance in Beeton’s Christm...   \n2611   'If I were assured of your eventual destructio...   \n4175   'Holmes,' I cried. 'Is it really you? Can it i...   \n4595   Holmes is hired by the King of Bohemia to reco...   \n5034   World of Sir Arthur Conan Doyle and Sherlock H...   \n5836   'When you have eliminated all which is impossi...   \n8721   Here, reproduced in complete facsimile, are th...   \n10115  The game is afoot! Night Shade Books is proud ...   \n10662  There's no mystery about it: here before you i...   \n11810  No fictional character is more renowned for hi...   \n13260  A young Sherlock Holmes arrives in London to b...   \n21960  Here, collected in one volume, are all four fu...   \n23066  There is one literary detective who stands abo...   \n23892  Venture back in time to Victorian London to jo...   \n24966  From the rooms at 221B Baker Street, the mind ...   \n25130  Grotesque murders are being committed on the s...   \n25477  BESTSELLING AUTHORS GO HOLMES—IN AN IRRESISTIB...   \n25634  The first Sherlock Holmes novel by Sir Arthur ...   \n25668  Since his first appearance in Beeton’s Christm...   \n26914  Indisputably the greatest fiction detective of...   \n27116  Many writers have revisited the Reichenbach Fa...   \n27278  Since his first appearance in \"Beeton's Christ...   \n28233  Arka Kapak:Sir Arthur Conan eşsiz detektif She...   \n29364  Mystery fiction. Detective and mystery stories...   \n33023  2 Volumes. The complete texts of the four nove...   \n33173  The classic Sherlock Holmes story from Arthur ...   \n34349  Sherlock Holmes is the greatest detective in a...   \n35371  In a specially adapted version for young reade...   \n35591  The Complete Sherlock Holmes, Volume I, by Sir...   \n36082                                                      \n36526  The first Sherlock Holmes stories were printed...   \n36867  Sir Arthur Conan Doyle's world-renowned litera...   \n37970  Deze bundel bevat 3 Sherlock Holmes-verhalen:E...   \n38658  Sherlock Holmes is the greatest detective in f...   \n40127  Sherlock Holmes and Dr. Watson learn of a crim...   \n42324  The illustrations for this series were created...   \n43884  The nineteenth century is about to draw to a c...   \n45866  Contiene \"Estudio en escarlata\" y \"El valle de...   \n47745  Doyle, Arthur, Conan \"The Adventures of Sherlo...   \n48659  Extensive reading improves fluency and there i...   \n49270  Since his first appearance in Beeton’s Christm...   \n50906  'If I were assured of your eventual destructio...   \n51320  Ever since he made his first appearance in A S...   \n53193  Since his first appearance in Beeton’s Christm...   \n\n                             book_edition            book_format    book_isbn  \\\n66                                    NaN              Paperback  9.78019E+12   \n300                                   NaN              Paperback  9.78055E+12   \n2508                                  NaN  Mass Market Paperback  9.78055E+12   \n2611           The Oxford Sherlock Holmes              Hardcover  9.78019E+12   \n4175           The Oxford Sherlock Holmes              Hardcover  9.78019E+12   \n4595                                  NaN              Paperback  9.78058E+12   \n5034                                  NaN              Hardcover  9.78159E+12   \n5836                                  NaN              Hardcover   9.7819E+12   \n8721                                  NaN              Paperback  9.78079E+12   \n10115                                 NaN              Paperback   9.7816E+12   \n10662                                 NaN         Kindle Edition          NaN   \n11810                                 NaN              Hardcover  9.78067E+12   \n13260                                 NaN              Paperback  9.78185E+12   \n21960                                 NaN              Hardcover  9.78039E+12   \n23066                                 NaN          Leather Bound          NaN   \n23892                                 NaN              Paperback  9.78049E+12   \n24966                                 NaN              Paperback  9.78014E+12   \n25130                                 NaN              Paperback  9.78185E+12   \n25477                                 NaN         Kindle Edition          NaN   \n25634                                 NaN                    NaN  9.78222E+12   \n25668                                 NaN         Kindle Edition          NaN   \n26914                                 NaN              Paperback  9.78045E+12   \n27116                                 NaN              Paperback  9.78014E+12   \n27278                                 NaN                  ebook  9.78055E+12   \n28233                                 NaN              Paperback          NaN   \n29364                                 NaN                    NaN  9.78014E+12   \n33023                                 NaN              Hardcover  9.78052E+12   \n33173                                 NaN               Audio CD          NaN   \n34349                                 NaN              Hardcover  9.78144E+12   \n35371  Illustrated Classic Editions, 4502              Paperback  9.78087E+12   \n35591                                 NaN              Paperback  9.78159E+12   \n36082                                 NaN                    NaN          NaN   \n36526                                 NaN              Paperback  9.78089E+12   \n36867                                 NaN         Kindle Edition          NaN   \n37970                                 NaN              Paperback  9.78909E+12   \n38658                                 NaN              Hardcover  9.78144E+12   \n40127                                 NaN              Paperback  9.78076E+12   \n42324                                 NaN              Hardcover   9.7814E+12   \n43884                                 NaN              Paperback  9.78086E+12   \n45866                                 NaN              Hardcover  9.78885E+12   \n47745                                 NaN              Hardcover  9.78193E+12   \n48659                                 NaN              Hardcover  9.78191E+12   \n49270              Bantam Classic Edition  Mass Market Paperback          NaN   \n50906                                 NaN         Kindle Edition          NaN   \n51320                                 NaN         Kindle Edition          NaN   \n53193                                 NaN  Mass Market Paperback  9.78055E+12   \n\n       book_pages  book_rating  book_rating_count  book_review_count  \\\n66      339 pages         4.30             207674               5624   \n300    1796 pages         4.50             137570               3084   \n2508   1059 pages         4.46              22012                538   \n2611    378 pages         4.32              71875               1629   \n4175    455 pages         4.31              44929               1133   \n4595     85 pages         4.22              70007                607   \n5034    709 pages         4.46              76928                370   \n5836    303 pages         4.19              16442                689   \n8721    636 pages         4.50               2842                247   \n10115   454 pages         4.37              18682                293   \n10662  2631 pages         4.51               5407                 67   \n11810   273 pages         3.54               5463                531   \n13260   246 pages         4.30               3679                 66   \n21960  1122 pages         4.50             137609               3084   \n23066  1052 pages         4.49                275                 17   \n23892   240 pages         4.30             207783               5632   \n24966   546 pages         4.16                492                 28   \n25130   471 pages         3.90               1213                 81   \n25477   400 pages         3.76               3376                399   \n25634         NaN         4.31                156                 11   \n25668  1796 pages         4.54                828                 28   \n26914   533 pages         4.27                760                 41   \n27116   272 pages         4.41              38268                 40   \n27278  1856 pages         4.54                828                 28   \n28233   368 pages         3.81                103                  7   \n29364  1122 pages         4.41                 79                  3   \n33023  1512 pages         4.58              10099                 72   \n33173      1 page         3.72                663                 36   \n34349   939 pages         4.44                699                 41   \n35371   233 pages         4.50              11638                 33   \n35591   709 pages         4.49              26755                428   \n36082   196 pages         3.91                 65                  3   \n36526   317 pages         4.30             207806               5632   \n36867         NaN         3.83                536                 36   \n37970   189 pages         4.27               7682                  6   \n38658   424 pages         4.30             207808               5632   \n40127    48 pages         3.91                123                 12   \n42324   576 pages         4.34               5128                260   \n43884   240 pages         4.09               1794                 81   \n45866   427 pages         4.60               2644                 73   \n47745   248 pages         4.30             207821               5633   \n48659    64 pages         4.06                108                  4   \n49270   924 pages         4.46              22033                538   \n50906   154 pages         4.32              71915               1631   \n51320  1096 pages         4.50             137625               3084   \n53193   737 pages         4.50               1991                132   \n\n                                              book_title  \\\n66                     The Adventures of Sherlock Holmes   \n300                  The Complete Sherlock Holmes, Vol 1   \n2508   Sherlock Holmes: The Complete Novels and Stori...   \n2611                      The Memoirs of Sherlock Holmes   \n4175                       The Return of Sherlock Holmes   \n4595   A Scandal in Bohemia (The Adventures of Sherlo...   \n5034                 The Complete Sherlock Holmes, Vol 2   \n5836                    The Case-Book of Sherlock Holmes   \n8721   The Original Illustrated Sherlock Holmes: 37 S...   \n10115       The Improbable Adventures of Sherlock Holmes   \n10662           Sherlock Holmes: The Ultimate Collection   \n11810      Mastermind: How to Think Like Sherlock Holmes   \n13260  The Further Adventures of Sherlock Holmes: The...   \n21960                       The Complete Sherlock Holmes   \n23066  The Adventures of Sherlock Holmes and Other St...   \n23892                  The Adventures of Sherlock Holmes   \n24966    His Last Bow & The Case-Book of Sherlock Holmes   \n25130  The Further Adventures of Sherlock Holmes: The...   \n25477                                A Study in Sherlock   \n25634                            Sherlock Holmes, Tome 1   \n25668  Sherlock Holmes: The Complete Novels and Stori...   \n26914                      The Sherlock Holmes Mysteries   \n27116  The Further Adventures of Sherlock Holmes: Aft...   \n27278  Sherlock Holmes: The Complete Novels and Stori...   \n28233                   Sherlock Holmes : Ölümle Randevu   \n29364                            Classic Sherlock Holmes   \n33023  The Annotated Sherlock Holmes: The Four Novels...   \n33173           Sherlock Holmes, Vol. 32: Der rote Kreis   \n34349          The Greatest Adventures of Sherlock Homes   \n35371  Sherlock Holmes and the Case of the Hound of t...   \n35591             The Complete Sherlock Holmes, Volume I   \n36082  Sherlock Holmes Series 4: The Red headed Leagu...   \n36526                  The Adventures Of Sherlock Holmes   \n36867  Sherlock Holmes - The Adventure of the Abbey G...   \n37970  De complete avonturen van Sherlock Holmes: deel 1   \n38658                  The Adventures of Sherlock Holmes   \n40127  Sherlock Holmes and the Adventure of the Six N...   \n42324  The Adventures and the Memoirs of Sherlock Holmes   \n43884                 Sherlock Holmes: The Breath of God   \n45866  I grandi casi di Sherlock Holmes. Tutti i roma...   \n47745                  The Adventures of Sherlock Holmes   \n48659                Sherlock: The Hounds of Baskerville   \n49270  Sherlock Holmes: The Complete Novels and Stori...   \n50906                     The Memoirs of Sherlock Holmes   \n51320                       The Complete Sherlock Holmes   \n53193  Sherlock Holmes: The Complete Novels and Stori...   \n\n                                                  genres  \\\n66     Classics|Mystery|Fiction|Short Stories|Mystery...   \n300               Classics|Mystery|Fiction|Mystery|Crime   \n2508              Classics|Mystery|Fiction|Short Stories   \n2611   Mystery|Classics|Fiction|Short Stories|Mystery...   \n4175   Mystery|Classics|Fiction|Mystery|Crime|Short S...   \n4595   Classics|Mystery|Fiction|Mystery|Crime|Short S...   \n5034              Classics|Mystery|Fiction|Short Stories   \n5836   Mystery|Classics|Fiction|Short Stories|Mystery...   \n8721              Mystery|Classics|Fiction|Short Stories   \n10115  Mystery|Short Stories|Fantasy|Anthologies|Hist...   \n10662                           Classics|Mystery|Fiction   \n11810  Nonfiction|Psychology|Science|Self Help|Philos...   \n13260    Mystery|Fiction|Mystery|Crime|Mystery|Detective   \n21960             Classics|Mystery|Fiction|Mystery|Crime   \n23066                           Classics|Mystery|Fiction   \n23892  Classics|Mystery|Fiction|Short Stories|Mystery...   \n24966             Classics|Fiction|Mystery|Mystery|Crime   \n25130      Mystery|Fiction|Historical|Historical Fiction   \n25477  Mystery|Short Stories|Fiction|Anthologies|Myst...   \n25634  Mystery|Classics|Sequential Art|Graphic Novels...   \n25668             Classics|Mystery|Fiction|Mystery|Crime   \n26914             Mystery|Classics|Fiction|Short Stories   \n27116  Mystery|Classics|Fiction|Mystery|Crime|Short S...   \n27278             Classics|Mystery|Fiction|Mystery|Crime   \n28233                                                      \n29364                           Classics|Fiction|Mystery   \n33023                           Mystery|Classics|Fiction   \n33173  Mystery|Classics|Short Stories|Fiction|Mystery...   \n34349                                   Classics|Mystery   \n35371             Mystery|Classics|Fiction|Mystery|Crime   \n35591     Classics|Historical|Historical Fiction|Fiction   \n36082                                   Mystery|Classics   \n36526  Classics|Mystery|Fiction|Short Stories|Mystery...   \n36867  Mystery|Classics|Short Stories|Fiction|Mystery...   \n37970  Classics|Mystery|Detective|Mystery|Crime|Myste...   \n38658  Classics|Mystery|Fiction|Short Stories|Mystery...   \n40127  Mystery|Fiction|Sequential Art|Comics|Classics...   \n42324             Classics|Mystery|Fiction|Short Stories   \n43884  Mystery|Mystery|Crime|Fantasy|Historical|Histo...   \n45866             Mystery|Classics|Fiction|Mystery|Crime   \n47745  Classics|Mystery|Fiction|Short Stories|Mystery...   \n48659                                            Mystery   \n49270             Classics|Mystery|Fiction|Short Stories   \n50906  Mystery|Classics|Fiction|Short Stories|Mystery...   \n51320             Classics|Mystery|Fiction|Mystery|Crime   \n53193             Mystery|Fiction|Classics|Short Stories   \n\n                                               image_url  \\\n66     https://images.gr-assets.com/books/1164045516l...   \n300    https://images.gr-assets.com/books/1512062096l...   \n2508   https://images.gr-assets.com/books/1320490450l...   \n2611   https://images.gr-assets.com/books/1529973409l...   \n4175   https://images.gr-assets.com/books/1529973503l...   \n4595   https://images.gr-assets.com/books/1189170223l...   \n5034   https://images.gr-assets.com/books/1347663158l...   \n5836   https://images.gr-assets.com/books/1316863480l...   \n8721   https://images.gr-assets.com/books/1356466159l...   \n10115  https://images.gr-assets.com/books/1391343317l...   \n10662  https://images.gr-assets.com/books/1394805582l...   \n11810  https://images.gr-assets.com/books/1355094882l...   \n13260  https://images.gr-assets.com/books/1320508855l...   \n21960  https://images.gr-assets.com/books/1320400337l...   \n23066  https://images.gr-assets.com/books/1353538045l...   \n23892  https://images.gr-assets.com/books/1328863198l...   \n24966  https://images.gr-assets.com/books/1322623376l...   \n25130  https://images.gr-assets.com/books/1348694940l...   \n25477  https://images.gr-assets.com/books/1328342826l...   \n25634  https://images.gr-assets.com/books/1411245060l...   \n25668  https://images.gr-assets.com/books/1349652573l...   \n26914  https://images.gr-assets.com/books/1309209046l...   \n27116  https://images.gr-assets.com/books/1170889427l...   \n27278  https://images.gr-assets.com/books/1256021865l...   \n28233  https://images.gr-assets.com/books/1339964347l...   \n29364  https://images.gr-assets.com/books/1307860768l...   \n33023  https://images.gr-assets.com/books/1437177008l...   \n33173  https://images.gr-assets.com/books/1532757203l...   \n34349  https://images.gr-assets.com/books/1429126879l...   \n35371  https://images.gr-assets.com/books/1292693979l...   \n35591  https://images.gr-assets.com/books/1386922158l...   \n36082  https://images.gr-assets.com/books/1267460507l...   \n36526  https://images.gr-assets.com/books/1217306570l...   \n36867  https://images.gr-assets.com/books/1388188974l...   \n37970  https://images.gr-assets.com/books/1265314767l...   \n38658  https://images.gr-assets.com/books/1430776253l...   \n40127  https://images.gr-assets.com/books/1388357809l...   \n42324  https://images.gr-assets.com/books/1328859503l...   \n43884  https://images.gr-assets.com/books/1347791900l...   \n45866  https://images.gr-assets.com/books/1342343240l...   \n47745  https://images.gr-assets.com/books/1347704761l...   \n48659  https://images.gr-assets.com/books/1394341639l...   \n49270  https://images.gr-assets.com/books/1328470242l...   \n50906  https://images.gr-assets.com/books/1421407684l...   \n51320  https://images.gr-assets.com/books/1401987770l...   \n53193  https://images.gr-assets.com/books/1320542768l...   \n\n                                       combined_features  \n66     Arthur Conan Doyle 'It is an old maxim of mine...  \n300    Arthur Conan Doyle Ever since he made his firs...  \n2508   Arthur Conan Doyle Since his first appearance ...  \n2611   Arthur Conan Doyle|Christopher Roden|Owen Dudl...  \n4175   Arthur Conan Doyle|Richard Lancelyn Green|Owen...  \n4595   Ronald Holt|Arthur Conan Doyle Holmes is hired...  \n5034   Arthur Conan Doyle|Kyle Freeman World of Sir A...  \n5836   Arthur Conan Doyle 'When you have eliminated a...  \n8721   Arthur Conan Doyle|Sidney Paget Here, reproduc...  \n10115  John Joseph Adams|Robert J. Sawyer|Stephen Kin...  \n10662  Arthur Conan Doyle There's no mystery about it...  \n11810  Maria Konnikova No fictional character is more...  \n13260  David Stuart Davies A young Sherlock Holmes ar...  \n21960  Arthur Conan Doyle Here, collected in one volu...  \n23066  Arthur Conan Doyle There is one literary detec...  \n23892  Arthur Conan Doyle Venture back in time to Vic...  \n24966  Arthur Conan Doyle From the rooms at 221B Bake...  \n25130  Edward B. Hanna Grotesque murders are being co...  \n25477  Laurie R. King|Leslie S. Klinger BESTSELLING A...  \n25634  Arthur Conan Doyle The first Sherlock Holmes n...  \n25668  Arthur Conan Doyle Since his first appearance ...  \n26914  Arthur Conan Doyle|Anne Perry Indisputably the...  \n27116  Richard Lancelyn Green|Ronald Knox|Julian Symo...  \n27278  Arthur Conan Doyle Since his first appearance ...  \n28233  Arthur Conan Doyle Arka Kapak:Sir Arthur Conan...  \n29364  Arthur Conan Doyle Mystery fiction. Detective ...  \n33023  Arthur Conan Doyle|William S. Baring-Gould 2 V...  \n33173  Arthur Conan Doyle The classic Sherlock Holmes...  \n34349  Arthur Conan Doyle Sherlock Holmes is the grea...  \n35371  Malvina G. Vogel|Arthur Conan Doyle In a speci...  \n35591  Arthur Conan Doyle|Kyle Freeman The Complete S...  \n36082  Arthur Conan Doyle|Shotaro Ishinomori|Morihiko...  \n36526  Arthur Conan Doyle The first Sherlock Holmes s...  \n36867  Arthur Conan Doyle Sir Arthur Conan Doyle's wo...  \n37970  Arthur Conan Doyle|Mariëlla Snel Deze bundel b...  \n38658  Arthur Conan Doyle Sherlock Holmes is the grea...  \n40127  Murray Shaw|Sophie Rohrbach|Arthur Conan Doyle...  \n42324  Arthur Conan Doyle|Scott McKowen The illustrat...  \n43884  Guy Adams The nineteenth century is about to d...  \n45866  Arthur Conan Doyle|Nicoletta Rosati Bizzotto C...  \n47745  Arthur Conan Doyle Doyle, Arthur, Conan \"The A...  \n48659  Paul Shipton Extensive reading improves fluenc...  \n49270  Arthur Conan Doyle|Loren D. Estleman Since his...  \n50906  Arthur Conan Doyle 'If I were assured of your ...  \n51320  Arthur Conan Doyle|Robert Ryan Ever since he m...  \n53193  Arthur Conan Doyle|Loren D. Estleman Since his...  ",
      "text/html": "<div>\n<style scoped>\n    .dataframe tbody tr th:only-of-type {\n        vertical-align: middle;\n    }\n\n    .dataframe tbody tr th {\n        vertical-align: top;\n    }\n\n    .dataframe thead th {\n        text-align: right;\n    }\n</style>\n<table border=\"1\" class=\"dataframe\">\n  <thead>\n    <tr style=\"text-align: right;\">\n      <th></th>\n      <th>book_authors</th>\n      <th>book_desc</th>\n      <th>book_edition</th>\n      <th>book_format</th>\n      <th>book_isbn</th>\n      <th>book_pages</th>\n      <th>book_rating</th>\n      <th>book_rating_count</th>\n      <th>book_review_count</th>\n      <th>book_title</th>\n      <th>genres</th>\n      <th>image_url</th>\n      <th>combined_features</th>\n    </tr>\n  </thead>\n  <tbody>\n    <tr>\n      <th>66</th>\n      <td>Arthur Conan Doyle</td>\n      <td>'It is an old maxim of mine that when you have...</td>\n      <td>NaN</td>\n      <td>Paperback</td>\n      <td>9.78019E+12</td>\n      <td>339 pages</td>\n      <td>4.30</td>\n      <td>207674</td>\n      <td>5624</td>\n      <td>The Adventures of Sherlock Holmes</td>\n      <td>Classics|Mystery|Fiction|Short Stories|Mystery...</td>\n      <td>https://images.gr-assets.com/books/1164045516l...</td>\n      <td>Arthur Conan Doyle 'It is an old maxim of mine...</td>\n    </tr>\n    <tr>\n      <th>300</th>\n      <td>Arthur Conan Doyle</td>\n      <td>Ever since he made his first appearance in A S...</td>\n      <td>NaN</td>\n      <td>Paperback</td>\n      <td>9.78055E+12</td>\n      <td>1796 pages</td>\n      <td>4.50</td>\n      <td>137570</td>\n      <td>3084</td>\n      <td>The Complete Sherlock Holmes, Vol 1</td>\n      <td>Classics|Mystery|Fiction|Mystery|Crime</td>\n      <td>https://images.gr-assets.com/books/1512062096l...</td>\n      <td>Arthur Conan Doyle Ever since he made his firs...</td>\n    </tr>\n    <tr>\n      <th>2508</th>\n      <td>Arthur Conan Doyle</td>\n      <td>Since his first appearance in Beeton’s Christm...</td>\n      <td>NaN</td>\n      <td>Mass Market Paperback</td>\n      <td>9.78055E+12</td>\n      <td>1059 pages</td>\n      <td>4.46</td>\n      <td>22012</td>\n      <td>538</td>\n      <td>Sherlock Holmes: The Complete Novels and Stori...</td>\n      <td>Classics|Mystery|Fiction|Short Stories</td>\n      <td>https://images.gr-assets.com/books/1320490450l...</td>\n      <td>Arthur Conan Doyle Since his first appearance ...</td>\n    </tr>\n    <tr>\n      <th>2611</th>\n      <td>Arthur Conan Doyle|Christopher Roden|Owen Dudl...</td>\n      <td>'If I were assured of your eventual destructio...</td>\n      <td>The Oxford Sherlock Holmes</td>\n      <td>Hardcover</td>\n      <td>9.78019E+12</td>\n      <td>378 pages</td>\n      <td>4.32</td>\n      <td>71875</td>\n      <td>1629</td>\n      <td>The Memoirs of Sherlock Holmes</td>\n      <td>Mystery|Classics|Fiction|Short Stories|Mystery...</td>\n      <td>https://images.gr-assets.com/books/1529973409l...</td>\n      <td>Arthur Conan Doyle|Christopher Roden|Owen Dudl...</td>\n    </tr>\n    <tr>\n      <th>4175</th>\n      <td>Arthur Conan Doyle|Richard Lancelyn Green|Owen...</td>\n      <td>'Holmes,' I cried. 'Is it really you? Can it i...</td>\n      <td>The Oxford Sherlock Holmes</td>\n      <td>Hardcover</td>\n      <td>9.78019E+12</td>\n      <td>455 pages</td>\n      <td>4.31</td>\n      <td>44929</td>\n      <td>1133</td>\n      <td>The Return of Sherlock Holmes</td>\n      <td>Mystery|Classics|Fiction|Mystery|Crime|Short S...</td>\n      <td>https://images.gr-assets.com/books/1529973503l...</td>\n      <td>Arthur Conan Doyle|Richard Lancelyn Green|Owen...</td>\n    </tr>\n    <tr>\n      <th>4595</th>\n      <td>Ronald Holt|Arthur Conan Doyle</td>\n      <td>Holmes is hired by the King of Bohemia to reco...</td>\n      <td>NaN</td>\n      <td>Paperback</td>\n      <td>9.78058E+12</td>\n      <td>85 pages</td>\n      <td>4.22</td>\n      <td>70007</td>\n      <td>607</td>\n      <td>A Scandal in Bohemia (The Adventures of Sherlo...</td>\n      <td>Classics|Mystery|Fiction|Mystery|Crime|Short S...</td>\n      <td>https://images.gr-assets.com/books/1189170223l...</td>\n      <td>Ronald Holt|Arthur Conan Doyle Holmes is hired...</td>\n    </tr>\n    <tr>\n      <th>5034</th>\n      <td>Arthur Conan Doyle|Kyle Freeman</td>\n      <td>World of Sir Arthur Conan Doyle and Sherlock H...</td>\n      <td>NaN</td>\n      <td>Hardcover</td>\n      <td>9.78159E+12</td>\n      <td>709 pages</td>\n      <td>4.46</td>\n      <td>76928</td>\n      <td>370</td>\n      <td>The Complete Sherlock Holmes, Vol 2</td>\n      <td>Classics|Mystery|Fiction|Short Stories</td>\n      <td>https://images.gr-assets.com/books/1347663158l...</td>\n      <td>Arthur Conan Doyle|Kyle Freeman World of Sir A...</td>\n    </tr>\n    <tr>\n      <th>5836</th>\n      <td>Arthur Conan Doyle</td>\n      <td>'When you have eliminated all which is impossi...</td>\n      <td>NaN</td>\n      <td>Hardcover</td>\n      <td>9.7819E+12</td>\n      <td>303 pages</td>\n      <td>4.19</td>\n      <td>16442</td>\n      <td>689</td>\n      <td>The Case-Book of Sherlock Holmes</td>\n      <td>Mystery|Classics|Fiction|Short Stories|Mystery...</td>\n      <td>https://images.gr-assets.com/books/1316863480l...</td>\n      <td>Arthur Conan Doyle 'When you have eliminated a...</td>\n    </tr>\n    <tr>\n      <th>8721</th>\n      <td>Arthur Conan Doyle|Sidney Paget</td>\n      <td>Here, reproduced in complete facsimile, are th...</td>\n      <td>NaN</td>\n      <td>Paperback</td>\n      <td>9.78079E+12</td>\n      <td>636 pages</td>\n      <td>4.50</td>\n      <td>2842</td>\n      <td>247</td>\n      <td>The Original Illustrated Sherlock Holmes: 37 S...</td>\n      <td>Mystery|Classics|Fiction|Short Stories</td>\n      <td>https://images.gr-assets.com/books/1356466159l...</td>\n      <td>Arthur Conan Doyle|Sidney Paget Here, reproduc...</td>\n    </tr>\n    <tr>\n      <th>10115</th>\n      <td>John Joseph Adams|Robert J. Sawyer|Stephen Kin...</td>\n      <td>The game is afoot! Night Shade Books is proud ...</td>\n      <td>NaN</td>\n      <td>Paperback</td>\n      <td>9.7816E+12</td>\n      <td>454 pages</td>\n      <td>4.37</td>\n      <td>18682</td>\n      <td>293</td>\n      <td>The Improbable Adventures of Sherlock Holmes</td>\n      <td>Mystery|Short Stories|Fantasy|Anthologies|Hist...</td>\n      <td>https://images.gr-assets.com/books/1391343317l...</td>\n      <td>John Joseph Adams|Robert J. Sawyer|Stephen Kin...</td>\n    </tr>\n    <tr>\n      <th>10662</th>\n      <td>Arthur Conan Doyle</td>\n      <td>There's no mystery about it: here before you i...</td>\n      <td>NaN</td>\n      <td>Kindle Edition</td>\n      <td>NaN</td>\n      <td>2631 pages</td>\n      <td>4.51</td>\n      <td>5407</td>\n      <td>67</td>\n      <td>Sherlock Holmes: The Ultimate Collection</td>\n      <td>Classics|Mystery|Fiction</td>\n      <td>https://images.gr-assets.com/books/1394805582l...</td>\n      <td>Arthur Conan Doyle There's no mystery about it...</td>\n    </tr>\n    <tr>\n      <th>11810</th>\n      <td>Maria Konnikova</td>\n      <td>No fictional character is more renowned for hi...</td>\n      <td>NaN</td>\n      <td>Hardcover</td>\n      <td>9.78067E+12</td>\n      <td>273 pages</td>\n      <td>3.54</td>\n      <td>5463</td>\n      <td>531</td>\n      <td>Mastermind: How to Think Like Sherlock Holmes</td>\n      <td>Nonfiction|Psychology|Science|Self Help|Philos...</td>\n      <td>https://images.gr-assets.com/books/1355094882l...</td>\n      <td>Maria Konnikova No fictional character is more...</td>\n    </tr>\n    <tr>\n      <th>13260</th>\n      <td>David Stuart Davies</td>\n      <td>A young Sherlock Holmes arrives in London to b...</td>\n      <td>NaN</td>\n      <td>Paperback</td>\n      <td>9.78185E+12</td>\n      <td>246 pages</td>\n      <td>4.30</td>\n      <td>3679</td>\n      <td>66</td>\n      <td>The Further Adventures of Sherlock Holmes: The...</td>\n      <td>Mystery|Fiction|Mystery|Crime|Mystery|Detective</td>\n      <td>https://images.gr-assets.com/books/1320508855l...</td>\n      <td>David Stuart Davies A young Sherlock Holmes ar...</td>\n    </tr>\n    <tr>\n      <th>21960</th>\n      <td>Arthur Conan Doyle</td>\n      <td>Here, collected in one volume, are all four fu...</td>\n      <td>NaN</td>\n      <td>Hardcover</td>\n      <td>9.78039E+12</td>\n      <td>1122 pages</td>\n      <td>4.50</td>\n      <td>137609</td>\n      <td>3084</td>\n      <td>The Complete Sherlock Holmes</td>\n      <td>Classics|Mystery|Fiction|Mystery|Crime</td>\n      <td>https://images.gr-assets.com/books/1320400337l...</td>\n      <td>Arthur Conan Doyle Here, collected in one volu...</td>\n    </tr>\n    <tr>\n      <th>23066</th>\n      <td>Arthur Conan Doyle</td>\n      <td>There is one literary detective who stands abo...</td>\n      <td>NaN</td>\n      <td>Leather Bound</td>\n      <td>NaN</td>\n      <td>1052 pages</td>\n      <td>4.49</td>\n      <td>275</td>\n      <td>17</td>\n      <td>The Adventures of Sherlock Holmes and Other St...</td>\n      <td>Classics|Mystery|Fiction</td>\n      <td>https://images.gr-assets.com/books/1353538045l...</td>\n      <td>Arthur Conan Doyle There is one literary detec...</td>\n    </tr>\n    <tr>\n      <th>23892</th>\n      <td>Arthur Conan Doyle</td>\n      <td>Venture back in time to Victorian London to jo...</td>\n      <td>NaN</td>\n      <td>Paperback</td>\n      <td>9.78049E+12</td>\n      <td>240 pages</td>\n      <td>4.30</td>\n      <td>207783</td>\n      <td>5632</td>\n      <td>The Adventures of Sherlock Holmes</td>\n      <td>Classics|Mystery|Fiction|Short Stories|Mystery...</td>\n      <td>https://images.gr-assets.com/books/1328863198l...</td>\n      <td>Arthur Conan Doyle Venture back in time to Vic...</td>\n    </tr>\n    <tr>\n      <th>24966</th>\n      <td>Arthur Conan Doyle</td>\n      <td>From the rooms at 221B Baker Street, the mind ...</td>\n      <td>NaN</td>\n      <td>Paperback</td>\n      <td>9.78014E+12</td>\n      <td>546 pages</td>\n      <td>4.16</td>\n      <td>492</td>\n      <td>28</td>\n      <td>His Last Bow &amp; The Case-Book of Sherlock Holmes</td>\n      <td>Classics|Fiction|Mystery|Mystery|Crime</td>\n      <td>https://images.gr-assets.com/books/1322623376l...</td>\n      <td>Arthur Conan Doyle From the rooms at 221B Bake...</td>\n    </tr>\n    <tr>\n      <th>25130</th>\n      <td>Edward B. Hanna</td>\n      <td>Grotesque murders are being committed on the s...</td>\n      <td>NaN</td>\n      <td>Paperback</td>\n      <td>9.78185E+12</td>\n      <td>471 pages</td>\n      <td>3.90</td>\n      <td>1213</td>\n      <td>81</td>\n      <td>The Further Adventures of Sherlock Holmes: The...</td>\n      <td>Mystery|Fiction|Historical|Historical Fiction</td>\n      <td>https://images.gr-assets.com/books/1348694940l...</td>\n      <td>Edward B. Hanna Grotesque murders are being co...</td>\n    </tr>\n    <tr>\n      <th>25477</th>\n      <td>Laurie R. King|Leslie S. Klinger</td>\n      <td>BESTSELLING AUTHORS GO HOLMES—IN AN IRRESISTIB...</td>\n      <td>NaN</td>\n      <td>Kindle Edition</td>\n      <td>NaN</td>\n      <td>400 pages</td>\n      <td>3.76</td>\n      <td>3376</td>\n      <td>399</td>\n      <td>A Study in Sherlock</td>\n      <td>Mystery|Short Stories|Fiction|Anthologies|Myst...</td>\n      <td>https://images.gr-assets.com/books/1328342826l...</td>\n      <td>Laurie R. King|Leslie S. Klinger BESTSELLING A...</td>\n    </tr>\n    <tr>\n      <th>25634</th>\n      <td>Arthur Conan Doyle</td>\n      <td>The first Sherlock Holmes novel by Sir Arthur ...</td>\n      <td>NaN</td>\n      <td>NaN</td>\n      <td>9.78222E+12</td>\n      <td>NaN</td>\n      <td>4.31</td>\n      <td>156</td>\n      <td>11</td>\n      <td>Sherlock Holmes, Tome 1</td>\n      <td>Mystery|Classics|Sequential Art|Graphic Novels...</td>\n      <td>https://images.gr-assets.com/books/1411245060l...</td>\n      <td>Arthur Conan Doyle The first Sherlock Holmes n...</td>\n    </tr>\n    <tr>\n      <th>25668</th>\n      <td>Arthur Conan Doyle</td>\n      <td>Since his first appearance in Beeton’s Christm...</td>\n      <td>NaN</td>\n      <td>Kindle Edition</td>\n      <td>NaN</td>\n      <td>1796 pages</td>\n      <td>4.54</td>\n      <td>828</td>\n      <td>28</td>\n      <td>Sherlock Holmes: The Complete Novels and Stori...</td>\n      <td>Classics|Mystery|Fiction|Mystery|Crime</td>\n      <td>https://images.gr-assets.com/books/1349652573l...</td>\n      <td>Arthur Conan Doyle Since his first appearance ...</td>\n    </tr>\n    <tr>\n      <th>26914</th>\n      <td>Arthur Conan Doyle|Anne Perry</td>\n      <td>Indisputably the greatest fiction detective of...</td>\n      <td>NaN</td>\n      <td>Paperback</td>\n      <td>9.78045E+12</td>\n      <td>533 pages</td>\n      <td>4.27</td>\n      <td>760</td>\n      <td>41</td>\n      <td>The Sherlock Holmes Mysteries</td>\n      <td>Mystery|Classics|Fiction|Short Stories</td>\n      <td>https://images.gr-assets.com/books/1309209046l...</td>\n      <td>Arthur Conan Doyle|Anne Perry Indisputably the...</td>\n    </tr>\n    <tr>\n      <th>27116</th>\n      <td>Richard Lancelyn Green|Ronald Knox|Julian Symo...</td>\n      <td>Many writers have revisited the Reichenbach Fa...</td>\n      <td>NaN</td>\n      <td>Paperback</td>\n      <td>9.78014E+12</td>\n      <td>272 pages</td>\n      <td>4.41</td>\n      <td>38268</td>\n      <td>40</td>\n      <td>The Further Adventures of Sherlock Holmes: Aft...</td>\n      <td>Mystery|Classics|Fiction|Mystery|Crime|Short S...</td>\n      <td>https://images.gr-assets.com/books/1170889427l...</td>\n      <td>Richard Lancelyn Green|Ronald Knox|Julian Symo...</td>\n    </tr>\n    <tr>\n      <th>27278</th>\n      <td>Arthur Conan Doyle</td>\n      <td>Since his first appearance in \"Beeton's Christ...</td>\n      <td>NaN</td>\n      <td>ebook</td>\n      <td>9.78055E+12</td>\n      <td>1856 pages</td>\n      <td>4.54</td>\n      <td>828</td>\n      <td>28</td>\n      <td>Sherlock Holmes: The Complete Novels and Stori...</td>\n      <td>Classics|Mystery|Fiction|Mystery|Crime</td>\n      <td>https://images.gr-assets.com/books/1256021865l...</td>\n      <td>Arthur Conan Doyle Since his first appearance ...</td>\n    </tr>\n    <tr>\n      <th>28233</th>\n      <td>Arthur Conan Doyle</td>\n      <td>Arka Kapak:Sir Arthur Conan eşsiz detektif She...</td>\n      <td>NaN</td>\n      <td>Paperback</td>\n      <td>NaN</td>\n      <td>368 pages</td>\n      <td>3.81</td>\n      <td>103</td>\n      <td>7</td>\n      <td>Sherlock Holmes : Ölümle Randevu</td>\n      <td></td>\n      <td>https://images.gr-assets.com/books/1339964347l...</td>\n      <td>Arthur Conan Doyle Arka Kapak:Sir Arthur Conan...</td>\n    </tr>\n    <tr>\n      <th>29364</th>\n      <td>Arthur Conan Doyle</td>\n      <td>Mystery fiction. Detective and mystery stories...</td>\n      <td>NaN</td>\n      <td>NaN</td>\n      <td>9.78014E+12</td>\n      <td>1122 pages</td>\n      <td>4.41</td>\n      <td>79</td>\n      <td>3</td>\n      <td>Classic Sherlock Holmes</td>\n      <td>Classics|Fiction|Mystery</td>\n      <td>https://images.gr-assets.com/books/1307860768l...</td>\n      <td>Arthur Conan Doyle Mystery fiction. Detective ...</td>\n    </tr>\n    <tr>\n      <th>33023</th>\n      <td>Arthur Conan Doyle|William S. Baring-Gould</td>\n      <td>2 Volumes. The complete texts of the four nove...</td>\n      <td>NaN</td>\n      <td>Hardcover</td>\n      <td>9.78052E+12</td>\n      <td>1512 pages</td>\n      <td>4.58</td>\n      <td>10099</td>\n      <td>72</td>\n      <td>The Annotated Sherlock Holmes: The Four Novels...</td>\n      <td>Mystery|Classics|Fiction</td>\n      <td>https://images.gr-assets.com/books/1437177008l...</td>\n      <td>Arthur Conan Doyle|William S. Baring-Gould 2 V...</td>\n    </tr>\n    <tr>\n      <th>33173</th>\n      <td>Arthur Conan Doyle</td>\n      <td>The classic Sherlock Holmes story from Arthur ...</td>\n      <td>NaN</td>\n      <td>Audio CD</td>\n      <td>NaN</td>\n      <td>1 page</td>\n      <td>3.72</td>\n      <td>663</td>\n      <td>36</td>\n      <td>Sherlock Holmes, Vol. 32: Der rote Kreis</td>\n      <td>Mystery|Classics|Short Stories|Fiction|Mystery...</td>\n      <td>https://images.gr-assets.com/books/1532757203l...</td>\n      <td>Arthur Conan Doyle The classic Sherlock Holmes...</td>\n    </tr>\n    <tr>\n      <th>34349</th>\n      <td>Arthur Conan Doyle</td>\n      <td>Sherlock Holmes is the greatest detective in a...</td>\n      <td>NaN</td>\n      <td>Hardcover</td>\n      <td>9.78144E+12</td>\n      <td>939 pages</td>\n      <td>4.44</td>\n      <td>699</td>\n      <td>41</td>\n      <td>The Greatest Adventures of Sherlock Homes</td>\n      <td>Classics|Mystery</td>\n      <td>https://images.gr-assets.com/books/1429126879l...</td>\n      <td>Arthur Conan Doyle Sherlock Holmes is the grea...</td>\n    </tr>\n    <tr>\n      <th>35371</th>\n      <td>Malvina G. Vogel|Arthur Conan Doyle</td>\n      <td>In a specially adapted version for young reade...</td>\n      <td>Illustrated Classic Editions, 4502</td>\n      <td>Paperback</td>\n      <td>9.78087E+12</td>\n      <td>233 pages</td>\n      <td>4.50</td>\n      <td>11638</td>\n      <td>33</td>\n      <td>Sherlock Holmes and the Case of the Hound of t...</td>\n      <td>Mystery|Classics|Fiction|Mystery|Crime</td>\n      <td>https://images.gr-assets.com/books/1292693979l...</td>\n      <td>Malvina G. Vogel|Arthur Conan Doyle In a speci...</td>\n    </tr>\n    <tr>\n      <th>35591</th>\n      <td>Arthur Conan Doyle|Kyle Freeman</td>\n      <td>The Complete Sherlock Holmes, Volume I, by Sir...</td>\n      <td>NaN</td>\n      <td>Paperback</td>\n      <td>9.78159E+12</td>\n      <td>709 pages</td>\n      <td>4.49</td>\n      <td>26755</td>\n      <td>428</td>\n      <td>The Complete Sherlock Holmes, Volume I</td>\n      <td>Classics|Historical|Historical Fiction|Fiction</td>\n      <td>https://images.gr-assets.com/books/1386922158l...</td>\n      <td>Arthur Conan Doyle|Kyle Freeman The Complete S...</td>\n    </tr>\n    <tr>\n      <th>36082</th>\n      <td>Arthur Conan Doyle|Shotaro Ishinomori|Morihiko...</td>\n      <td></td>\n      <td>NaN</td>\n      <td>NaN</td>\n      <td>NaN</td>\n      <td>196 pages</td>\n      <td>3.91</td>\n      <td>65</td>\n      <td>3</td>\n      <td>Sherlock Holmes Series 4: The Red headed Leagu...</td>\n      <td>Mystery|Classics</td>\n      <td>https://images.gr-assets.com/books/1267460507l...</td>\n      <td>Arthur Conan Doyle|Shotaro Ishinomori|Morihiko...</td>\n    </tr>\n    <tr>\n      <th>36526</th>\n      <td>Arthur Conan Doyle</td>\n      <td>The first Sherlock Holmes stories were printed...</td>\n      <td>NaN</td>\n      <td>Paperback</td>\n      <td>9.78089E+12</td>\n      <td>317 pages</td>\n      <td>4.30</td>\n      <td>207806</td>\n      <td>5632</td>\n      <td>The Adventures Of Sherlock Holmes</td>\n      <td>Classics|Mystery|Fiction|Short Stories|Mystery...</td>\n      <td>https://images.gr-assets.com/books/1217306570l...</td>\n      <td>Arthur Conan Doyle The first Sherlock Holmes s...</td>\n    </tr>\n    <tr>\n      <th>36867</th>\n      <td>Arthur Conan Doyle</td>\n      <td>Sir Arthur Conan Doyle's world-renowned litera...</td>\n      <td>NaN</td>\n      <td>Kindle Edition</td>\n      <td>NaN</td>\n      <td>NaN</td>\n      <td>3.83</td>\n      <td>536</td>\n      <td>36</td>\n      <td>Sherlock Holmes - The Adventure of the Abbey G...</td>\n      <td>Mystery|Classics|Short Stories|Fiction|Mystery...</td>\n      <td>https://images.gr-assets.com/books/1388188974l...</td>\n      <td>Arthur Conan Doyle Sir Arthur Conan Doyle's wo...</td>\n    </tr>\n    <tr>\n      <th>37970</th>\n      <td>Arthur Conan Doyle|Mariëlla Snel</td>\n      <td>Deze bundel bevat 3 Sherlock Holmes-verhalen:E...</td>\n      <td>NaN</td>\n      <td>Paperback</td>\n      <td>9.78909E+12</td>\n      <td>189 pages</td>\n      <td>4.27</td>\n      <td>7682</td>\n      <td>6</td>\n      <td>De complete avonturen van Sherlock Holmes: deel 1</td>\n      <td>Classics|Mystery|Detective|Mystery|Crime|Myste...</td>\n      <td>https://images.gr-assets.com/books/1265314767l...</td>\n      <td>Arthur Conan Doyle|Mariëlla Snel Deze bundel b...</td>\n    </tr>\n    <tr>\n      <th>38658</th>\n      <td>Arthur Conan Doyle</td>\n      <td>Sherlock Holmes is the greatest detective in f...</td>\n      <td>NaN</td>\n      <td>Hardcover</td>\n      <td>9.78144E+12</td>\n      <td>424 pages</td>\n      <td>4.30</td>\n      <td>207808</td>\n      <td>5632</td>\n      <td>The Adventures of Sherlock Holmes</td>\n      <td>Classics|Mystery|Fiction|Short Stories|Mystery...</td>\n      <td>https://images.gr-assets.com/books/1430776253l...</td>\n      <td>Arthur Conan Doyle Sherlock Holmes is the grea...</td>\n    </tr>\n    <tr>\n      <th>40127</th>\n      <td>Murray Shaw|Sophie Rohrbach|Arthur Conan Doyle</td>\n      <td>Sherlock Holmes and Dr. Watson learn of a crim...</td>\n      <td>NaN</td>\n      <td>Paperback</td>\n      <td>9.78076E+12</td>\n      <td>48 pages</td>\n      <td>3.91</td>\n      <td>123</td>\n      <td>12</td>\n      <td>Sherlock Holmes and the Adventure of the Six N...</td>\n      <td>Mystery|Fiction|Sequential Art|Comics|Classics...</td>\n      <td>https://images.gr-assets.com/books/1388357809l...</td>\n      <td>Murray Shaw|Sophie Rohrbach|Arthur Conan Doyle...</td>\n    </tr>\n    <tr>\n      <th>42324</th>\n      <td>Arthur Conan Doyle|Scott McKowen</td>\n      <td>The illustrations for this series were created...</td>\n      <td>NaN</td>\n      <td>Hardcover</td>\n      <td>9.7814E+12</td>\n      <td>576 pages</td>\n      <td>4.34</td>\n      <td>5128</td>\n      <td>260</td>\n      <td>The Adventures and the Memoirs of Sherlock Holmes</td>\n      <td>Classics|Mystery|Fiction|Short Stories</td>\n      <td>https://images.gr-assets.com/books/1328859503l...</td>\n      <td>Arthur Conan Doyle|Scott McKowen The illustrat...</td>\n    </tr>\n    <tr>\n      <th>43884</th>\n      <td>Guy Adams</td>\n      <td>The nineteenth century is about to draw to a c...</td>\n      <td>NaN</td>\n      <td>Paperback</td>\n      <td>9.78086E+12</td>\n      <td>240 pages</td>\n      <td>4.09</td>\n      <td>1794</td>\n      <td>81</td>\n      <td>Sherlock Holmes: The Breath of God</td>\n      <td>Mystery|Mystery|Crime|Fantasy|Historical|Histo...</td>\n      <td>https://images.gr-assets.com/books/1347791900l...</td>\n      <td>Guy Adams The nineteenth century is about to d...</td>\n    </tr>\n    <tr>\n      <th>45866</th>\n      <td>Arthur Conan Doyle|Nicoletta Rosati Bizzotto</td>\n      <td>Contiene \"Estudio en escarlata\" y \"El valle de...</td>\n      <td>NaN</td>\n      <td>Hardcover</td>\n      <td>9.78885E+12</td>\n      <td>427 pages</td>\n      <td>4.60</td>\n      <td>2644</td>\n      <td>73</td>\n      <td>I grandi casi di Sherlock Holmes. Tutti i roma...</td>\n      <td>Mystery|Classics|Fiction|Mystery|Crime</td>\n      <td>https://images.gr-assets.com/books/1342343240l...</td>\n      <td>Arthur Conan Doyle|Nicoletta Rosati Bizzotto C...</td>\n    </tr>\n    <tr>\n      <th>47745</th>\n      <td>Arthur Conan Doyle</td>\n      <td>Doyle, Arthur, Conan \"The Adventures of Sherlo...</td>\n      <td>NaN</td>\n      <td>Hardcover</td>\n      <td>9.78193E+12</td>\n      <td>248 pages</td>\n      <td>4.30</td>\n      <td>207821</td>\n      <td>5633</td>\n      <td>The Adventures of Sherlock Holmes</td>\n      <td>Classics|Mystery|Fiction|Short Stories|Mystery...</td>\n      <td>https://images.gr-assets.com/books/1347704761l...</td>\n      <td>Arthur Conan Doyle Doyle, Arthur, Conan \"The A...</td>\n    </tr>\n    <tr>\n      <th>48659</th>\n      <td>Paul Shipton</td>\n      <td>Extensive reading improves fluency and there i...</td>\n      <td>NaN</td>\n      <td>Hardcover</td>\n      <td>9.78191E+12</td>\n      <td>64 pages</td>\n      <td>4.06</td>\n      <td>108</td>\n      <td>4</td>\n      <td>Sherlock: The Hounds of Baskerville</td>\n      <td>Mystery</td>\n      <td>https://images.gr-assets.com/books/1394341639l...</td>\n      <td>Paul Shipton Extensive reading improves fluenc...</td>\n    </tr>\n    <tr>\n      <th>49270</th>\n      <td>Arthur Conan Doyle|Loren D. Estleman</td>\n      <td>Since his first appearance in Beeton’s Christm...</td>\n      <td>Bantam Classic Edition</td>\n      <td>Mass Market Paperback</td>\n      <td>NaN</td>\n      <td>924 pages</td>\n      <td>4.46</td>\n      <td>22033</td>\n      <td>538</td>\n      <td>Sherlock Holmes: The Complete Novels and Stori...</td>\n      <td>Classics|Mystery|Fiction|Short Stories</td>\n      <td>https://images.gr-assets.com/books/1328470242l...</td>\n      <td>Arthur Conan Doyle|Loren D. Estleman Since his...</td>\n    </tr>\n    <tr>\n      <th>50906</th>\n      <td>Arthur Conan Doyle</td>\n      <td>'If I were assured of your eventual destructio...</td>\n      <td>NaN</td>\n      <td>Kindle Edition</td>\n      <td>NaN</td>\n      <td>154 pages</td>\n      <td>4.32</td>\n      <td>71915</td>\n      <td>1631</td>\n      <td>The Memoirs of Sherlock Holmes</td>\n      <td>Mystery|Classics|Fiction|Short Stories|Mystery...</td>\n      <td>https://images.gr-assets.com/books/1421407684l...</td>\n      <td>Arthur Conan Doyle 'If I were assured of your ...</td>\n    </tr>\n    <tr>\n      <th>51320</th>\n      <td>Arthur Conan Doyle|Robert Ryan</td>\n      <td>Ever since he made his first appearance in A S...</td>\n      <td>NaN</td>\n      <td>Kindle Edition</td>\n      <td>NaN</td>\n      <td>1096 pages</td>\n      <td>4.50</td>\n      <td>137625</td>\n      <td>3084</td>\n      <td>The Complete Sherlock Holmes</td>\n      <td>Classics|Mystery|Fiction|Mystery|Crime</td>\n      <td>https://images.gr-assets.com/books/1401987770l...</td>\n      <td>Arthur Conan Doyle|Robert Ryan Ever since he m...</td>\n    </tr>\n    <tr>\n      <th>53193</th>\n      <td>Arthur Conan Doyle|Loren D. Estleman</td>\n      <td>Since his first appearance in Beeton’s Christm...</td>\n      <td>NaN</td>\n      <td>Mass Market Paperback</td>\n      <td>9.78055E+12</td>\n      <td>737 pages</td>\n      <td>4.50</td>\n      <td>1991</td>\n      <td>132</td>\n      <td>Sherlock Holmes: The Complete Novels and Stori...</td>\n      <td>Mystery|Fiction|Classics|Short Stories</td>\n      <td>https://images.gr-assets.com/books/1320542768l...</td>\n      <td>Arthur Conan Doyle|Loren D. Estleman Since his...</td>\n    </tr>\n  </tbody>\n</table>\n</div>"
     },
     "execution_count": 37,
     "metadata": {},
     "output_type": "execute_result"
    }
   ],
   "source": [
    "df[df['book_title'].str.contains('sherlock', case=False, na=False)]"
   ],
   "metadata": {
    "collapsed": false
   }
  },
  {
   "cell_type": "code",
   "execution_count": 27,
   "outputs": [
    {
     "data": {
      "text/plain": "book_authors       0\nbook_desc       1331\nbook_rating        0\nbook_title         0\ngenres          3242\ndtype: int64"
     },
     "execution_count": 27,
     "metadata": {},
     "output_type": "execute_result"
    }
   ],
   "source": [
    "features = ['book_authors', 'book_desc', 'book_rating', 'book_title', 'genres']\n",
    "df[features].isnull().sum()"
   ],
   "metadata": {
    "collapsed": false
   }
  },
  {
   "cell_type": "code",
   "execution_count": 28,
   "outputs": [],
   "source": [
    "for feature in features:\n",
    "    df[feature] = df[feature].fillna(\"\")"
   ],
   "metadata": {
    "collapsed": false
   }
  },
  {
   "cell_type": "code",
   "execution_count": 29,
   "outputs": [
    {
     "data": {
      "text/plain": "book_authors    0\nbook_desc       0\nbook_rating     0\nbook_title      0\ngenres          0\ndtype: int64"
     },
     "execution_count": 29,
     "metadata": {},
     "output_type": "execute_result"
    }
   ],
   "source": [
    "df[features].isnull().sum()"
   ],
   "metadata": {
    "collapsed": false
   }
  },
  {
   "cell_type": "code",
   "execution_count": 30,
   "outputs": [
    {
     "data": {
      "text/plain": "0    Suzanne Collins Winning will make you famous. ...\n1    J.K. Rowling|Mary GrandPré There is a door at ...\n2    Harper Lee The unforgettable novel of a childh...\n3    Jane Austen|Anna Quindlen|Mrs. Oliphant|George...\n4    Stephenie Meyer About three things I was absol...\nName: combined_features, dtype: object"
     },
     "execution_count": 30,
     "metadata": {},
     "output_type": "execute_result"
    }
   ],
   "source": [
    "df['combined_features'] = df['book_authors'] + ' ' + df['book_desc'] + ' ' + (str(df['book_rating'])) + ' ' + df[\n",
    "    'book_title'] + ' ' + df['genres']\n",
    "\n",
    "df.combined_features.head()"
   ],
   "metadata": {
    "collapsed": false
   }
  },
  {
   "cell_type": "code",
   "execution_count": 31,
   "outputs": [
    {
     "data": {
      "text/plain": "                                        book_authors  \\\n0                                    Suzanne Collins   \n1                         J.K. Rowling|Mary GrandPré   \n2                                         Harper Lee   \n3  Jane Austen|Anna Quindlen|Mrs. Oliphant|George...   \n4                                    Stephenie Meyer   \n\n                                           book_desc  \\\n0  Winning will make you famous. Losing means cer...   \n1  There is a door at the end of a silent corrido...   \n2  The unforgettable novel of a childhood in a sl...   \n3  «È cosa ormai risaputa che a uno scapolo in po...   \n4  About three things I was absolutely positive.F...   \n\n                         book_edition book_format    book_isbn book_pages  \\\n0                                 NaN   Hardcover  9.78044E+12  374 pages   \n1                          US Edition   Paperback  9.78044E+12  870 pages   \n2                    50th Anniversary   Paperback  9.78006E+12  324 pages   \n3  Modern Library Classics, USA / CAN   Paperback  9.78068E+12  279 pages   \n4                                 NaN   Paperback  9.78032E+12  498 pages   \n\n   book_rating  book_rating_count  book_review_count  \\\n0         4.33            5519135             160706   \n1         4.48            2041594              33264   \n2         4.27            3745197              79450   \n3         4.25            2453620              54322   \n4         3.58            4281268              97991   \n\n                                  book_title  \\\n0                           The Hunger Games   \n1  Harry Potter and the Order of the Phoenix   \n2                      To Kill a Mockingbird   \n3                        Pride and Prejudice   \n4                                   Twilight   \n\n                                              genres  \\\n0  Young Adult|Fiction|Science Fiction|Dystopia|F...   \n1                        Fantasy|Young Adult|Fiction   \n2  Classics|Fiction|Historical|Historical Fiction...   \n3                           Classics|Fiction|Romance   \n4  Young Adult|Fantasy|Romance|Paranormal|Vampire...   \n\n                                           image_url  \\\n0  https://images.gr-assets.com/books/1447303603l...   \n1  https://images.gr-assets.com/books/1255614970l...   \n2  https://images.gr-assets.com/books/1361975680l...   \n3  https://images.gr-assets.com/books/1320399351l...   \n4  https://images.gr-assets.com/books/1361039443l...   \n\n                                   combined_features  \n0  Suzanne Collins Winning will make you famous. ...  \n1  J.K. Rowling|Mary GrandPré There is a door at ...  \n2  Harper Lee The unforgettable novel of a childh...  \n3  Jane Austen|Anna Quindlen|Mrs. Oliphant|George...  \n4  Stephenie Meyer About three things I was absol...  ",
      "text/html": "<div>\n<style scoped>\n    .dataframe tbody tr th:only-of-type {\n        vertical-align: middle;\n    }\n\n    .dataframe tbody tr th {\n        vertical-align: top;\n    }\n\n    .dataframe thead th {\n        text-align: right;\n    }\n</style>\n<table border=\"1\" class=\"dataframe\">\n  <thead>\n    <tr style=\"text-align: right;\">\n      <th></th>\n      <th>book_authors</th>\n      <th>book_desc</th>\n      <th>book_edition</th>\n      <th>book_format</th>\n      <th>book_isbn</th>\n      <th>book_pages</th>\n      <th>book_rating</th>\n      <th>book_rating_count</th>\n      <th>book_review_count</th>\n      <th>book_title</th>\n      <th>genres</th>\n      <th>image_url</th>\n      <th>combined_features</th>\n    </tr>\n  </thead>\n  <tbody>\n    <tr>\n      <th>0</th>\n      <td>Suzanne Collins</td>\n      <td>Winning will make you famous. Losing means cer...</td>\n      <td>NaN</td>\n      <td>Hardcover</td>\n      <td>9.78044E+12</td>\n      <td>374 pages</td>\n      <td>4.33</td>\n      <td>5519135</td>\n      <td>160706</td>\n      <td>The Hunger Games</td>\n      <td>Young Adult|Fiction|Science Fiction|Dystopia|F...</td>\n      <td>https://images.gr-assets.com/books/1447303603l...</td>\n      <td>Suzanne Collins Winning will make you famous. ...</td>\n    </tr>\n    <tr>\n      <th>1</th>\n      <td>J.K. Rowling|Mary GrandPré</td>\n      <td>There is a door at the end of a silent corrido...</td>\n      <td>US Edition</td>\n      <td>Paperback</td>\n      <td>9.78044E+12</td>\n      <td>870 pages</td>\n      <td>4.48</td>\n      <td>2041594</td>\n      <td>33264</td>\n      <td>Harry Potter and the Order of the Phoenix</td>\n      <td>Fantasy|Young Adult|Fiction</td>\n      <td>https://images.gr-assets.com/books/1255614970l...</td>\n      <td>J.K. Rowling|Mary GrandPré There is a door at ...</td>\n    </tr>\n    <tr>\n      <th>2</th>\n      <td>Harper Lee</td>\n      <td>The unforgettable novel of a childhood in a sl...</td>\n      <td>50th Anniversary</td>\n      <td>Paperback</td>\n      <td>9.78006E+12</td>\n      <td>324 pages</td>\n      <td>4.27</td>\n      <td>3745197</td>\n      <td>79450</td>\n      <td>To Kill a Mockingbird</td>\n      <td>Classics|Fiction|Historical|Historical Fiction...</td>\n      <td>https://images.gr-assets.com/books/1361975680l...</td>\n      <td>Harper Lee The unforgettable novel of a childh...</td>\n    </tr>\n    <tr>\n      <th>3</th>\n      <td>Jane Austen|Anna Quindlen|Mrs. Oliphant|George...</td>\n      <td>«È cosa ormai risaputa che a uno scapolo in po...</td>\n      <td>Modern Library Classics, USA / CAN</td>\n      <td>Paperback</td>\n      <td>9.78068E+12</td>\n      <td>279 pages</td>\n      <td>4.25</td>\n      <td>2453620</td>\n      <td>54322</td>\n      <td>Pride and Prejudice</td>\n      <td>Classics|Fiction|Romance</td>\n      <td>https://images.gr-assets.com/books/1320399351l...</td>\n      <td>Jane Austen|Anna Quindlen|Mrs. Oliphant|George...</td>\n    </tr>\n    <tr>\n      <th>4</th>\n      <td>Stephenie Meyer</td>\n      <td>About three things I was absolutely positive.F...</td>\n      <td>NaN</td>\n      <td>Paperback</td>\n      <td>9.78032E+12</td>\n      <td>498 pages</td>\n      <td>3.58</td>\n      <td>4281268</td>\n      <td>97991</td>\n      <td>Twilight</td>\n      <td>Young Adult|Fantasy|Romance|Paranormal|Vampire...</td>\n      <td>https://images.gr-assets.com/books/1361039443l...</td>\n      <td>Stephenie Meyer About three things I was absol...</td>\n    </tr>\n  </tbody>\n</table>\n</div>"
     },
     "execution_count": 31,
     "metadata": {},
     "output_type": "execute_result"
    }
   ],
   "source": [
    "df.head()"
   ],
   "metadata": {
    "collapsed": false
   }
  },
  {
   "cell_type": "code",
   "execution_count": 32,
   "outputs": [],
   "source": [
    "cv = CountVectorizer()\n",
    "count_matrix = cv.fit_transform(df.combined_features)"
   ],
   "metadata": {
    "collapsed": false
   }
  },
  {
   "cell_type": "code",
   "execution_count": 33,
   "outputs": [
    {
     "name": "stderr",
     "output_type": "stream",
     "text": [
      "E:\\work\\machine-learning\\venv\\lib\\site-packages\\sklearn\\utils\\deprecation.py:87: FutureWarning: Function get_feature_names is deprecated; get_feature_names is deprecated in 1.0 and will be removed in 1.2. Please use get_feature_names_out instead.\n",
      "  warnings.warn(msg, category=FutureWarning)\n"
     ]
    },
    {
     "data": {
      "text/plain": "306251"
     },
     "execution_count": 33,
     "metadata": {},
     "output_type": "execute_result"
    }
   ],
   "source": [
    "len(cv.get_feature_names())"
   ],
   "metadata": {
    "collapsed": false
   }
  },
  {
   "cell_type": "code",
   "execution_count": 34,
   "outputs": [
    {
     "data": {
      "text/plain": "(54301, 306251)"
     },
     "execution_count": 34,
     "metadata": {},
     "output_type": "execute_result"
    }
   ],
   "source": [
    "count_matrix.shape"
   ],
   "metadata": {
    "collapsed": false
   }
  },
  {
   "cell_type": "code",
   "execution_count": 147,
   "outputs": [],
   "source": [
    "A_sparse = sparse.csr_matrix(count_matrix)\n",
    "sparse.save_npz(\"books.npz\", A_sparse)"
   ],
   "metadata": {
    "collapsed": false
   }
  },
  {
   "cell_type": "code",
   "execution_count": null,
   "outputs": [],
   "source": [
    "\n",
    "A_sparse = sparse.load_npz(\"books.npz\")"
   ],
   "metadata": {
    "collapsed": false
   }
  },
  {
   "cell_type": "code",
   "execution_count": 138,
   "outputs": [
    {
     "name": "stdout",
     "output_type": "stream",
     "text": [
      "user choice ref_index = 143\n"
     ]
    }
   ],
   "source": [
    "user_choice = 'peter pan'\n",
    "ref_index = df[df['book_title'].str.contains(str(user_choice), case=False)].index[0]\n",
    "\n",
    "print('user choice ref_index = {}'.format(ref_index))"
   ],
   "metadata": {
    "collapsed": false
   }
  },
  {
   "cell_type": "code",
   "execution_count": null,
   "outputs": [],
   "source": [],
   "metadata": {
    "collapsed": false
   }
  },
  {
   "cell_type": "code",
   "execution_count": 139,
   "outputs": [
    {
     "data": {
      "text/plain": "book_authors                                 J.M. Barrie|Michael Hague\nbook_desc            Peter Pan, the book based on J.M. Barrie's fam...\nbook_edition                                 100th Anniversary Edition\nbook_format                                                  Hardcover\nbook_isbn                                                  9.78081E+12\nbook_pages                                                   176 pages\nbook_rating                                                       4.09\nbook_rating_count                                               222805\nbook_review_count                                                 8658\nbook_title                                                   Peter Pan\ngenres                              Classics|Fantasy|Fiction|Childrens\nimage_url            https://images.gr-assets.com/books/1337714526l...\ncombined_features    J.M. Barrie|Michael Hague Peter Pan, the book ...\nName: 143, dtype: object"
     },
     "execution_count": 139,
     "metadata": {},
     "output_type": "execute_result"
    }
   ],
   "source": [
    "df.iloc[ref_index]"
   ],
   "metadata": {
    "collapsed": false
   }
  },
  {
   "cell_type": "code",
   "execution_count": 140,
   "outputs": [
    {
     "data": {
      "text/plain": "array([[0.48278029],\n       [0.53193514],\n       [0.44616311],\n       ...,\n       [0.4247741 ],\n       [0.47715378],\n       [0.54467863]])"
     },
     "execution_count": 140,
     "metadata": {},
     "output_type": "execute_result"
    }
   ],
   "source": [
    "cosine_sim = cosine_similarity(A_sparse,A_sparse.getrow(ref_index))\n",
    "cosine_sim"
   ],
   "metadata": {
    "collapsed": false
   }
  },
  {
   "cell_type": "code",
   "execution_count": 141,
   "outputs": [
    {
     "data": {
      "text/plain": "[(0, array([0.48278029])),\n (1, array([0.53193514])),\n (2, array([0.44616311])),\n (3, array([0.0975993])),\n (4, array([0.41731722])),\n (5, array([0.47430367])),\n (6, array([0.5605325])),\n (7, array([0.08397171])),\n (8, array([0.48291816])),\n (9, array([0.24174906])),\n (10, array([0.40472061])),\n (11, array([0.51406422])),\n (12, array([0.516221])),\n (13, array([0.49388557])),\n (14, array([0.49023673])),\n (15, array([0.42575308])),\n (16, array([0.40872321])),\n (17, array([0.37431943])),\n (18, array([0.52510855])),\n (19, array([0.4582028])),\n (20, array([0.29943567])),\n (21, array([0.4858401])),\n (22, array([0.45599465])),\n (23, array([0.43640334])),\n (24, array([0.47366026])),\n (25, array([0.50445792])),\n (26, array([0.47412524])),\n (27, array([0.46480608])),\n (28, array([0.42730785])),\n (29, array([0.51609908])),\n (30, array([0.4549114])),\n (31, array([0.46912738])),\n (32, array([0.38190491])),\n (33, array([0.3981726])),\n (34, array([0.41419741])),\n (35, array([0.29786357])),\n (36, array([0.47423426])),\n (37, array([0.52959613])),\n (38, array([0.4801715])),\n (39, array([0.49499225])),\n (40, array([0.49885782])),\n (41, array([0.4700544])),\n (42, array([0.4566558])),\n (43, array([0.10972347])),\n (44, array([0.49102454])),\n (45, array([0.49032371])),\n (46, array([0.38511419])),\n (47, array([0.47774597])),\n (48, array([0.4934066])),\n (49, array([0.39688586])),\n (50, array([0.48898118])),\n (51, array([0.34937496])),\n (52, array([0.50330619])),\n (53, array([0.53837168])),\n (54, array([0.42262918])),\n (55, array([0.51689709])),\n (56, array([0.39137433])),\n (57, array([0.38552896])),\n (58, array([0.51136849])),\n (59, array([0.45571526])),\n (60, array([0.50618294])),\n (61, array([0.55075513])),\n (62, array([0.44851759])),\n (63, array([0.3917131])),\n (64, array([0.42376628])),\n (65, array([0.44306256])),\n (66, array([0.5031835])),\n (67, array([0.33861874])),\n (68, array([0.54603797])),\n (69, array([0.4566558])),\n (70, array([0.40425711])),\n (71, array([0.46518821])),\n (72, array([0.389157])),\n (73, array([0.50439615])),\n (74, array([0.44360553])),\n (75, array([0.46751529])),\n (76, array([0.46876761])),\n (77, array([0.45622723])),\n (78, array([0.48150756])),\n (79, array([0.48523114])),\n (80, array([0.51317413])),\n (81, array([0.41249061])),\n (82, array([0.51031217])),\n (83, array([0.46595457])),\n (84, array([0.47328988])),\n (85, array([0.31583808])),\n (86, array([0.54039251])),\n (87, array([0.46117661])),\n (88, array([0.44679876])),\n (89, array([0.52382898])),\n (90, array([0.48960499])),\n (91, array([0.49748529])),\n (92, array([0.49268027])),\n (93, array([0.47322744])),\n (94, array([0.3667323])),\n (95, array([0.31084547])),\n (96, array([0.45687351])),\n (97, array([0.47561609])),\n (98, array([0.43511712])),\n (99, array([0.51417046])),\n (100, array([0.47030971])),\n (101, array([0.49493713])),\n (102, array([0.44253604])),\n (103, array([0.52489777])),\n (104, array([0.51076969])),\n (105, array([0.49498391])),\n (106, array([0.48388241])),\n (107, array([0.50000364])),\n (108, array([0.32258881])),\n (109, array([0.42444649])),\n (110, array([0.49243784])),\n (111, array([0.47813584])),\n (112, array([0.43062078])),\n (113, array([0.5130451])),\n (114, array([0.53315236])),\n (115, array([0.49505971])),\n (116, array([0.45022067])),\n (117, array([0.32136072])),\n (118, array([0.41407877])),\n (119, array([0.5078386])),\n (120, array([0.48799651])),\n (121, array([0.47298463])),\n (122, array([0.51038877])),\n (123, array([0.47280117])),\n (124, array([0.40127636])),\n (125, array([0.49239912])),\n (126, array([0.47357575])),\n (127, array([0.51159573])),\n (128, array([0.3443238])),\n (129, array([0.45298081])),\n (130, array([0.54982222])),\n (131, array([0.45966647])),\n (132, array([0.47432189])),\n (133, array([0.42395612])),\n (134, array([0.52091286])),\n (135, array([0.27793223])),\n (136, array([0.45546341])),\n (137, array([0.55708601])),\n (138, array([0.41983996])),\n (139, array([0.51831743])),\n (140, array([0.47351542])),\n (141, array([0.4381082])),\n (142, array([0.45131173])),\n (143, array([1.])),\n (144, array([0.46977618])),\n (145, array([0.46336325])),\n (146, array([0.58033332])),\n (147, array([0.42744874])),\n (148, array([0.46938841])),\n (149, array([0.47258646])),\n (150, array([0.53176053])),\n (151, array([0.48141908])),\n (152, array([0.29645448])),\n (153, array([0.42052636])),\n (154, array([0.5220739])),\n (155, array([0.41848115])),\n (156, array([0.53108617])),\n (157, array([0.32776067])),\n (158, array([0.48608785])),\n (159, array([0.50108266])),\n (160, array([0.49388503])),\n (161, array([0.43544692])),\n (162, array([0.43539559])),\n (163, array([0.50394765])),\n (164, array([0.49533024])),\n (165, array([0.55367148])),\n (166, array([0.40768783])),\n (167, array([0.48599341])),\n (168, array([0.29106539])),\n (169, array([0.53448427])),\n (170, array([0.38420639])),\n (171, array([0.47348231])),\n (172, array([0.44827532])),\n (173, array([0.48128636])),\n (174, array([0.46736243])),\n (175, array([0.49556383])),\n (176, array([0.44143383])),\n (177, array([0.53224566])),\n (178, array([0.48740445])),\n (179, array([0.47464121])),\n (180, array([0.48012876])),\n (181, array([0.46389174])),\n (182, array([0.50743199])),\n (183, array([0.48987955])),\n (184, array([0.49926371])),\n (185, array([0.43691504])),\n (186, array([0.3939193])),\n (187, array([0.48916912])),\n (188, array([0.50271594])),\n (189, array([0.47291553])),\n (190, array([0.4626036])),\n (191, array([0.42436489])),\n (192, array([0.36254677])),\n (193, array([0.55569462])),\n (194, array([0.50022697])),\n (195, array([0.40659758])),\n (196, array([0.46215105])),\n (197, array([0.52646291])),\n (198, array([0.46204983])),\n (199, array([0.37190614])),\n (200, array([0.51831743])),\n (201, array([0.43965014])),\n (202, array([0.52774292])),\n (203, array([0.35847858])),\n (204, array([0.47730355])),\n (205, array([0.33488301])),\n (206, array([0.42990149])),\n (207, array([0.45055692])),\n (208, array([0.44181517])),\n (209, array([0.49583137])),\n (210, array([0.38251734])),\n (211, array([0.54677739])),\n (212, array([0.51440051])),\n (213, array([0.53606304])),\n (214, array([0.50688993])),\n (215, array([0.51996148])),\n (216, array([0.3814898])),\n (217, array([0.33764511])),\n (218, array([0.45358778])),\n (219, array([0.51058484])),\n (220, array([0.38533652])),\n (221, array([0.52485696])),\n (222, array([0.40508277])),\n (223, array([0.46860876])),\n (224, array([0.52807468])),\n (225, array([0.46076421])),\n (226, array([0.40731831])),\n (227, array([0.50341633])),\n (228, array([0.38239179])),\n (229, array([0.39537557])),\n (230, array([0.53134569])),\n (231, array([0.43906688])),\n (232, array([0.37371431])),\n (233, array([0.48698977])),\n (234, array([0.52426921])),\n (235, array([0.46269886])),\n (236, array([0.55314346])),\n (237, array([0.45850887])),\n (238, array([0.51434177])),\n (239, array([0.43281515])),\n (240, array([0.35090279])),\n (241, array([0.3006569])),\n (242, array([0.43654694])),\n (243, array([0.48837503])),\n (244, array([0.42379446])),\n (245, array([0.44555091])),\n (246, array([0.46738459])),\n (247, array([0.41458012])),\n (248, array([0.55722995])),\n (249, array([0.43736192])),\n (250, array([0.43787432])),\n (251, array([0.4836123])),\n (252, array([0.39340892])),\n (253, array([0.50783458])),\n (254, array([0.52127895])),\n (255, array([0.45586508])),\n (256, array([0.41421815])),\n (257, array([0.50807307])),\n (258, array([0.43039331])),\n (259, array([0.50305707])),\n (260, array([0.15655775])),\n (261, array([0.49414871])),\n (262, array([0.42790069])),\n (263, array([0.48330987])),\n (264, array([0.50701377])),\n (265, array([0.47242377])),\n (266, array([0.45977011])),\n (267, array([0.44766287])),\n (268, array([0.32205294])),\n (269, array([0.42124657])),\n (270, array([0.34970472])),\n (271, array([0.42886877])),\n (272, array([0.50840479])),\n (273, array([0.51284084])),\n (274, array([0.51371333])),\n (275, array([0.42322002])),\n (276, array([0.38893151])),\n (277, array([0.48390389])),\n (278, array([0.48190556])),\n (279, array([0.46093114])),\n (280, array([0.37010134])),\n (281, array([0.4965849])),\n (282, array([0.3095074])),\n (283, array([0.45266974])),\n (284, array([0.40297793])),\n (285, array([0.42821203])),\n (286, array([0.48022526])),\n (287, array([0.55867661])),\n (288, array([0.4346186])),\n (289, array([0.49410763])),\n (290, array([0.48565894])),\n (291, array([0.52871941])),\n (292, array([0.39495599])),\n (293, array([0.49969393])),\n (294, array([0.47264662])),\n (295, array([0.43010852])),\n (296, array([0.3827082])),\n (297, array([0.54697062])),\n (298, array([0.52539847])),\n (299, array([0.35015049])),\n (300, array([0.36513316])),\n (301, array([0.43943537])),\n (302, array([0.52408318])),\n (303, array([0.370796])),\n (304, array([0.4955047])),\n (305, array([0.44022061])),\n (306, array([0.50503658])),\n (307, array([0.44787738])),\n (308, array([0.31921686])),\n (309, array([0.48390205])),\n (310, array([0.35944356])),\n (311, array([0.41960479])),\n (312, array([0.50769606])),\n (313, array([0.48077279])),\n (314, array([0.27787081])),\n (315, array([0.45163323])),\n (316, array([0.45924984])),\n (317, array([0.47382411])),\n (318, array([0.42523631])),\n (319, array([0.53349976])),\n (320, array([0.4357625])),\n (321, array([0.48675337])),\n (322, array([0.36538806])),\n (323, array([0.51132668])),\n (324, array([0.42554989])),\n (325, array([0.48152058])),\n (326, array([0.42436489])),\n (327, array([0.4992923])),\n (328, array([0.44074128])),\n (329, array([0.50471041])),\n (330, array([0.44731286])),\n (331, array([0.54119514])),\n (332, array([0.45407391])),\n (333, array([0.50843562])),\n (334, array([0.52615258])),\n (335, array([0.41088304])),\n (336, array([0.4055205])),\n (337, array([0.43335128])),\n (338, array([0.34733851])),\n (339, array([0.49172954])),\n (340, array([0.42674591])),\n (341, array([0.3939193])),\n (342, array([0.50587707])),\n (343, array([0.47177302])),\n (344, array([0.46445455])),\n (345, array([0.47126656])),\n (346, array([0.49174911])),\n (347, array([0.49806548])),\n (348, array([0.49057423])),\n (349, array([0.32867505])),\n (350, array([0.49375351])),\n (351, array([0.32623609])),\n (352, array([0.46225016])),\n (353, array([0.47502202])),\n (354, array([0.47418161])),\n (355, array([0.47163128])),\n (356, array([0.51750543])),\n (357, array([0.42251807])),\n (358, array([0.37139068])),\n (359, array([0.47087416])),\n (360, array([0.40207288])),\n (361, array([0.40548077])),\n (362, array([0.37386108])),\n (363, array([0.53082114])),\n (364, array([0.34841])),\n (365, array([0.38771793])),\n (366, array([0.40642069])),\n (367, array([0.56193966])),\n (368, array([0.48634493])),\n (369, array([0.41328025])),\n (370, array([0.41051288])),\n (371, array([0.49178418])),\n (372, array([0.31090544])),\n (373, array([0.47562086])),\n (374, array([0.48198019])),\n (375, array([0.42484972])),\n (376, array([0.53351306])),\n (377, array([0.51577871])),\n (378, array([0.3838188])),\n (379, array([0.47665342])),\n (380, array([0.49396438])),\n (381, array([0.43813353])),\n (382, array([0.54224694])),\n (383, array([0.47770079])),\n (384, array([0.51169382])),\n (385, array([0.43592429])),\n (386, array([0.37398966])),\n (387, array([0.51194143])),\n (388, array([0.46963665])),\n (389, array([0.42757586])),\n (390, array([0.44841515])),\n (391, array([0.33422019])),\n (392, array([0.51604022])),\n (393, array([0.49258219])),\n (394, array([0.45621056])),\n (395, array([0.52073075])),\n (396, array([0.39664617])),\n (397, array([0.4834583])),\n (398, array([0.49387069])),\n (399, array([0.40111477])),\n (400, array([0.4845873])),\n (401, array([0.52396971])),\n (402, array([0.44831164])),\n (403, array([0.4858242])),\n (404, array([0.50643141])),\n (405, array([0.43973708])),\n (406, array([0.45853041])),\n (407, array([0.29169244])),\n (408, array([0.51285693])),\n (409, array([0.46218114])),\n (410, array([0.36234219])),\n (411, array([0.52975146])),\n (412, array([0.29947805])),\n (413, array([0.44596366])),\n (414, array([0.54235266])),\n (415, array([0.48615634])),\n (416, array([0.48566054])),\n (417, array([0.41023444])),\n (418, array([0.11877395])),\n (419, array([0.37540073])),\n (420, array([0.3646041])),\n (421, array([0.52233339])),\n (422, array([0.43434398])),\n (423, array([0.48817912])),\n (424, array([0.34548344])),\n (425, array([0.52783118])),\n (426, array([0.25343679])),\n (427, array([0.38215785])),\n (428, array([0.53883803])),\n (429, array([0.51724138])),\n (430, array([0.4645821])),\n (431, array([0.47552587])),\n (432, array([0.46102391])),\n (433, array([0.47586914])),\n (434, array([0.51788288])),\n (435, array([0.18551426])),\n (436, array([0.48018039])),\n (437, array([0.44451563])),\n (438, array([0.31701445])),\n (439, array([0.52976847])),\n (440, array([0.49701671])),\n (441, array([0.43190789])),\n (442, array([0.53789674])),\n (443, array([0.36315016])),\n (444, array([0.43937281])),\n (445, array([0.35743956])),\n (446, array([0.16814879])),\n (447, array([0.53462142])),\n (448, array([0.36363977])),\n (449, array([0.36784147])),\n (450, array([0.48781131])),\n (451, array([0.3865922])),\n (452, array([0.36614199])),\n (453, array([0.17293178])),\n (454, array([0.46912506])),\n (455, array([0.54175959])),\n (456, array([0.53340671])),\n (457, array([0.48029498])),\n (458, array([0.43268921])),\n (459, array([0.52457252])),\n (460, array([0.38999068])),\n (461, array([0.47339336])),\n (462, array([0.40379883])),\n (463, array([0.47690862])),\n (464, array([0.43290839])),\n (465, array([0.45351269])),\n (466, array([0.47122607])),\n (467, array([0.34411636])),\n (468, array([0.56012118])),\n (469, array([0.41245926])),\n (470, array([0.46270929])),\n (471, array([0.54943614])),\n (472, array([0.4095123])),\n (473, array([0.50011531])),\n (474, array([0.42464345])),\n (475, array([0.52693936])),\n (476, array([0.47268118])),\n (477, array([0.51284698])),\n (478, array([0.42493674])),\n (479, array([0.32482955])),\n (480, array([0.46909569])),\n (481, array([0.53244642])),\n (482, array([0.47299082])),\n (483, array([0.3000812])),\n (484, array([0.41680887])),\n (485, array([0.5163043])),\n (486, array([0.46251861])),\n (487, array([0.43984104])),\n (488, array([0.44348556])),\n (489, array([0.49198055])),\n (490, array([0.36244019])),\n (491, array([0.52643565])),\n (492, array([0.51291585])),\n (493, array([0.43240395])),\n (494, array([0.41557099])),\n (495, array([0.50341308])),\n (496, array([0.47705996])),\n (497, array([0.39726792])),\n (498, array([0.34527065])),\n (499, array([0.44359262])),\n (500, array([0.43483118])),\n (501, array([0.4555286])),\n (502, array([0.5199475])),\n (503, array([0.44646964])),\n (504, array([0.4185754])),\n (505, array([0.35026969])),\n (506, array([0.45066226])),\n (507, array([0.38756534])),\n (508, array([0.47921741])),\n (509, array([0.40801515])),\n (510, array([0.54064418])),\n (511, array([0.4812401])),\n (512, array([0.44084195])),\n (513, array([0.42723064])),\n (514, array([0.51051652])),\n (515, array([0.49392572])),\n (516, array([0.53323404])),\n (517, array([0.38661028])),\n (518, array([0.39645583])),\n (519, array([0.44692641])),\n (520, array([0.41334268])),\n (521, array([0.27528048])),\n (522, array([0.50565663])),\n (523, array([0.38480926])),\n (524, array([0.4228243])),\n (525, array([0.46334339])),\n (526, array([0.39753772])),\n (527, array([0.37814018])),\n (528, array([0.37374077])),\n (529, array([0.43103963])),\n (530, array([0.13520231])),\n (531, array([0.4439408])),\n (532, array([0.48796148])),\n (533, array([0.23686651])),\n (534, array([0.37622041])),\n (535, array([0.49307829])),\n (536, array([0.41105415])),\n (537, array([0.43876247])),\n (538, array([0.53980496])),\n (539, array([0.4375698])),\n (540, array([0.4645347])),\n (541, array([0.45151356])),\n (542, array([0.51954247])),\n (543, array([0.50274931])),\n (544, array([0.09612048])),\n (545, array([0.45124202])),\n (546, array([0.44112243])),\n (547, array([0.36361037])),\n (548, array([0.47455475])),\n (549, array([0.47155439])),\n (550, array([0.52523822])),\n (551, array([0.3883767])),\n (552, array([0.50259202])),\n (553, array([0.46739249])),\n (554, array([0.45384951])),\n (555, array([0.45288178])),\n (556, array([0.43943537])),\n (557, array([0.51616597])),\n (558, array([0.44037748])),\n (559, array([0.578986])),\n (560, array([0.33699725])),\n (561, array([0.45404434])),\n (562, array([0.4822055])),\n (563, array([0.41525361])),\n (564, array([0.51176718])),\n (565, array([0.46013167])),\n (566, array([0.3874656])),\n (567, array([0.53526081])),\n (568, array([0.49951779])),\n (569, array([0.38810177])),\n (570, array([0.44036128])),\n (571, array([0.42343377])),\n (572, array([0.49977264])),\n (573, array([0.41865909])),\n (574, array([0.52038314])),\n (575, array([0.49094155])),\n (576, array([0.54723216])),\n (577, array([0.47655221])),\n (578, array([0.51825406])),\n (579, array([0.48920179])),\n (580, array([0.53262262])),\n (581, array([0.46923937])),\n (582, array([0.47572392])),\n (583, array([0.52935292])),\n (584, array([0.52101132])),\n (585, array([0.46420383])),\n (586, array([0.43829841])),\n (587, array([0.42493456])),\n (588, array([0.34114412])),\n (589, array([0.3829771])),\n (590, array([0.41231829])),\n (591, array([0.39032765])),\n (592, array([0.53225386])),\n (593, array([0.43319888])),\n (594, array([0.42775059])),\n (595, array([0.52475161])),\n (596, array([0.48597774])),\n (597, array([0.51560903])),\n (598, array([0.36885901])),\n (599, array([0.45594441])),\n (600, array([0.54130083])),\n (601, array([0.41991074])),\n (602, array([0.39115522])),\n (603, array([0.41599446])),\n (604, array([0.43599834])),\n (605, array([0.38476257])),\n (606, array([0.48517313])),\n (607, array([0.49058906])),\n (608, array([0.38306023])),\n (609, array([0.39930975])),\n (610, array([0.52821477])),\n (611, array([0.53354661])),\n (612, array([0.41864768])),\n (613, array([0.53265754])),\n (614, array([0.31486176])),\n (615, array([0.42004005])),\n (616, array([0.47050179])),\n (617, array([0.44085439])),\n (618, array([0.49082014])),\n (619, array([0.53003158])),\n (620, array([0.49278687])),\n (621, array([0.39033825])),\n (622, array([0.29566335])),\n (623, array([0.40737326])),\n (624, array([0.51259295])),\n (625, array([0.45892141])),\n (626, array([0.52267395])),\n (627, array([0.43218526])),\n (628, array([0.50738455])),\n (629, array([0.27553106])),\n (630, array([0.52270001])),\n (631, array([0.53733538])),\n (632, array([0.46058474])),\n (633, array([0.44585083])),\n (634, array([0.38353856])),\n (635, array([0.55132971])),\n (636, array([0.49544874])),\n (637, array([0.4375698])),\n (638, array([0.50077278])),\n (639, array([0.51327924])),\n (640, array([0.44843052])),\n (641, array([0.46185884])),\n (642, array([0.45012543])),\n (643, array([0.36468397])),\n (644, array([0.50550398])),\n (645, array([0.49410763])),\n (646, array([0.44011405])),\n (647, array([0.51859635])),\n (648, array([0.4909944])),\n (649, array([0.52628398])),\n (650, array([0.38784391])),\n (651, array([0.37196337])),\n (652, array([0.34054113])),\n (653, array([0.55525118])),\n (654, array([0.37033409])),\n (655, array([0.43331215])),\n (656, array([0.45064793])),\n (657, array([0.3876297])),\n (658, array([0.47956318])),\n (659, array([0.56959707])),\n (660, array([0.46520738])),\n (661, array([0.4477497])),\n (662, array([0.46747727])),\n (663, array([0.46204338])),\n (664, array([0.36736424])),\n (665, array([0.51799356])),\n (666, array([0.46321545])),\n (667, array([0.44022219])),\n (668, array([0.41444469])),\n (669, array([0.36645068])),\n (670, array([0.43666161])),\n (671, array([0.46962959])),\n (672, array([0.3317231])),\n (673, array([0.31342585])),\n (674, array([0.48688228])),\n (675, array([0.47649446])),\n (676, array([0.31752043])),\n (677, array([0.41971196])),\n (678, array([0.45116073])),\n (679, array([0.50854763])),\n (680, array([0.46121068])),\n (681, array([0.39615005])),\n (682, array([0.44567092])),\n (683, array([0.54653655])),\n (684, array([0.46674799])),\n (685, array([0.40909361])),\n (686, array([0.40385721])),\n (687, array([0.49262009])),\n (688, array([0.50280205])),\n (689, array([0.50421909])),\n (690, array([0.50377324])),\n (691, array([0.48009039])),\n (692, array([0.45570225])),\n (693, array([0.41138854])),\n (694, array([0.51926077])),\n (695, array([0.50259114])),\n (696, array([0.42898606])),\n (697, array([0.47180785])),\n (698, array([0.53893405])),\n (699, array([0.49886222])),\n (700, array([0.40780286])),\n (701, array([0.53705665])),\n (702, array([0.47726807])),\n (703, array([0.49699793])),\n (704, array([0.35682062])),\n (705, array([0.44878774])),\n (706, array([0.51593341])),\n (707, array([0.35344591])),\n (708, array([0.34678431])),\n (709, array([0.52761435])),\n (710, array([0.4344159])),\n (711, array([0.51904828])),\n (712, array([0.47252425])),\n (713, array([0.48216792])),\n (714, array([0.4625318])),\n (715, array([0.40822901])),\n (716, array([0.11064731])),\n (717, array([0.48144752])),\n (718, array([0.46779999])),\n (719, array([0.45201823])),\n (720, array([0.38348661])),\n (721, array([0.4861858])),\n (722, array([0.34313273])),\n (723, array([0.38199169])),\n (724, array([0.46939245])),\n (725, array([0.49707036])),\n (726, array([0.43198852])),\n (727, array([0.5035625])),\n (728, array([0.48446741])),\n (729, array([0.50031918])),\n (730, array([0.38596051])),\n (731, array([0.39770627])),\n (732, array([0.42676595])),\n (733, array([0.45798117])),\n (734, array([0.44074128])),\n (735, array([0.49894379])),\n (736, array([0.42170192])),\n (737, array([0.42020387])),\n (738, array([0.46613849])),\n (739, array([0.345663])),\n (740, array([0.39025761])),\n (741, array([0.44315921])),\n (742, array([0.42116558])),\n (743, array([0.28743883])),\n (744, array([0.43948903])),\n (745, array([0.48979027])),\n (746, array([0.4732868])),\n (747, array([0.4550446])),\n (748, array([0.47695956])),\n (749, array([0.5074666])),\n (750, array([0.53426643])),\n (751, array([0.34417915])),\n (752, array([0.44552019])),\n (753, array([0.47464445])),\n (754, array([0.45309238])),\n (755, array([0.44932136])),\n (756, array([0.41414813])),\n (757, array([0.48170787])),\n (758, array([0.52030204])),\n (759, array([0.44881906])),\n (760, array([0.53421097])),\n (761, array([0.35278363])),\n (762, array([0.47760177])),\n (763, array([0.48040251])),\n (764, array([0.38947825])),\n (765, array([0.4238789])),\n (766, array([0.39664617])),\n (767, array([0.40502692])),\n (768, array([0.3557334])),\n (769, array([0.49902134])),\n (770, array([0.47144888])),\n (771, array([0.50300471])),\n (772, array([0.39520022])),\n (773, array([0.33648988])),\n (774, array([0.46100839])),\n (775, array([0.47628242])),\n (776, array([0.32744848])),\n (777, array([0.34683456])),\n (778, array([0.49899441])),\n (779, array([0.47548067])),\n (780, array([0.5035625])),\n (781, array([0.5008883])),\n (782, array([0.12789237])),\n (783, array([0.41128082])),\n (784, array([0.52504929])),\n (785, array([0.47818261])),\n (786, array([0.37664027])),\n (787, array([0.50106435])),\n (788, array([0.40291366])),\n (789, array([0.46695709])),\n (790, array([0.44303197])),\n (791, array([0.38330997])),\n (792, array([0.47787492])),\n (793, array([0.4554804])),\n (794, array([0.30327997])),\n (795, array([0.55317955])),\n (796, array([0.5380472])),\n (797, array([0.46868195])),\n (798, array([0.52432028])),\n (799, array([0.4249212])),\n (800, array([0.51811728])),\n (801, array([0.4607494])),\n (802, array([0.35996578])),\n (803, array([0.48357722])),\n (804, array([0.46552092])),\n (805, array([0.4525833])),\n (806, array([0.38657389])),\n (807, array([0.46519387])),\n (808, array([0.45616402])),\n (809, array([0.46483674])),\n (810, array([0.34510091])),\n (811, array([0.32567963])),\n (812, array([0.45820287])),\n (813, array([0.46597304])),\n (814, array([0.44379771])),\n (815, array([0.5277657])),\n (816, array([0.54848729])),\n (817, array([0.43265704])),\n (818, array([0.50672])),\n (819, array([0.50079275])),\n (820, array([0.45417143])),\n (821, array([0.36746987])),\n (822, array([0.47779878])),\n (823, array([0.32427169])),\n (824, array([0.43026516])),\n (825, array([0.40539169])),\n (826, array([0.45779409])),\n (827, array([0.48208706])),\n (828, array([0.38603805])),\n (829, array([0.2653874])),\n (830, array([0.42203176])),\n (831, array([0.51670799])),\n (832, array([0.37156126])),\n (833, array([0.40415467])),\n (834, array([0.38106285])),\n (835, array([0.46172094])),\n (836, array([0.51221747])),\n (837, array([0.50613899])),\n (838, array([0.38547404])),\n (839, array([0.32580938])),\n (840, array([0.5095438])),\n (841, array([0.48042511])),\n (842, array([0.39906411])),\n (843, array([0.46284448])),\n (844, array([0.50612018])),\n (845, array([0.49346592])),\n (846, array([0.48498321])),\n (847, array([0.51255003])),\n (848, array([0.37818765])),\n (849, array([0.36233326])),\n (850, array([0.41285483])),\n (851, array([0.47370719])),\n (852, array([0.43992735])),\n (853, array([0.48063447])),\n (854, array([0.50931004])),\n (855, array([0.3487023])),\n (856, array([0.44217332])),\n (857, array([0.50334133])),\n (858, array([0.44779335])),\n (859, array([0.34221522])),\n (860, array([0.44785506])),\n (861, array([0.49489978])),\n (862, array([0.48400193])),\n (863, array([0.35856807])),\n (864, array([0.45780107])),\n (865, array([0.37987064])),\n (866, array([0.37635451])),\n (867, array([0.31120945])),\n (868, array([0.55094955])),\n (869, array([0.44832176])),\n (870, array([0.41555218])),\n (871, array([0.43137614])),\n (872, array([0.55944144])),\n (873, array([0.45479734])),\n (874, array([0.4559387])),\n (875, array([0.42548736])),\n (876, array([0.37874909])),\n (877, array([0.22754321])),\n (878, array([0.30925097])),\n (879, array([0.53695471])),\n (880, array([0.50154821])),\n (881, array([0.39974497])),\n (882, array([0.54252167])),\n (883, array([0.48472333])),\n (884, array([0.41058784])),\n (885, array([0.36072651])),\n (886, array([0.31443483])),\n (887, array([0.37375745])),\n (888, array([0.45798833])),\n (889, array([0.44311272])),\n (890, array([0.46026636])),\n (891, array([0.29411941])),\n (892, array([0.33110037])),\n (893, array([0.52197999])),\n (894, array([0.44718263])),\n (895, array([0.45064793])),\n (896, array([0.43106825])),\n (897, array([0.50232451])),\n (898, array([0.32758994])),\n (899, array([0.43240722])),\n (900, array([0.42796171])),\n (901, array([0.35291595])),\n (902, array([0.47362823])),\n (903, array([0.32377263])),\n (904, array([0.42904816])),\n (905, array([0.48714092])),\n (906, array([0.53190129])),\n (907, array([0.5286719])),\n (908, array([0.46461895])),\n (909, array([0.48524018])),\n (910, array([0.47935635])),\n (911, array([0.4525833])),\n (912, array([0.44036128])),\n (913, array([0.39635633])),\n (914, array([0.51421958])),\n (915, array([0.49984653])),\n (916, array([0.46835454])),\n (917, array([0.29402761])),\n (918, array([0.38544855])),\n (919, array([0.38833891])),\n (920, array([0.47129347])),\n (921, array([0.51469373])),\n (922, array([0.46446519])),\n (923, array([0.32286314])),\n (924, array([0.49181202])),\n (925, array([0.42911877])),\n (926, array([0.4480833])),\n (927, array([0.51118081])),\n (928, array([0.47127005])),\n (929, array([0.43602283])),\n (930, array([0.50345971])),\n (931, array([0.50719675])),\n (932, array([0.4645347])),\n (933, array([0.2892778])),\n (934, array([0.38495985])),\n (935, array([0.54366028])),\n (936, array([0.45671872])),\n (937, array([0.45047117])),\n (938, array([0.44349503])),\n (939, array([0.50042743])),\n (940, array([0.47829245])),\n (941, array([0.42534776])),\n (942, array([0.51963956])),\n (943, array([0.46985321])),\n (944, array([0.41105415])),\n (945, array([0.44062813])),\n (946, array([0.52350938])),\n (947, array([0.45591541])),\n (948, array([0.51444627])),\n (949, array([0.3394168])),\n (950, array([0.44422627])),\n (951, array([0.46538993])),\n (952, array([0.34178854])),\n (953, array([0.4882623])),\n (954, array([0.46001036])),\n (955, array([0.49995027])),\n (956, array([0.44153159])),\n (957, array([0.50737338])),\n (958, array([0.42482484])),\n (959, array([0.52471357])),\n (960, array([0.36362801])),\n (961, array([0.36822495])),\n (962, array([0.29848039])),\n (963, array([0.47574393])),\n (964, array([0.5342474])),\n (965, array([0.50287356])),\n (966, array([0.38940209])),\n (967, array([0.45028726])),\n (968, array([0.45583701])),\n (969, array([0.38207601])),\n (970, array([0.50066126])),\n (971, array([0.35346614])),\n (972, array([0.4231589])),\n (973, array([0.45086516])),\n (974, array([0.47926611])),\n (975, array([0.42816405])),\n (976, array([0.47267904])),\n (977, array([0.45530476])),\n (978, array([0.27653274])),\n (979, array([0.2898329])),\n (980, array([0.36656379])),\n (981, array([0.45144082])),\n (982, array([0.28764805])),\n (983, array([0.44222386])),\n (984, array([0.44427484])),\n (985, array([0.4932779])),\n (986, array([0.50675685])),\n (987, array([0.43226334])),\n (988, array([0.41473439])),\n (989, array([0.4642556])),\n (990, array([0.49449285])),\n (991, array([0.46281211])),\n (992, array([0.44854134])),\n (993, array([0.09992976])),\n (994, array([0.41355016])),\n (995, array([0.49017034])),\n (996, array([0.46009328])),\n (997, array([0.45129949])),\n (998, array([0.468388])),\n (999, array([0.30465293])),\n ...]"
     },
     "execution_count": 141,
     "metadata": {},
     "output_type": "execute_result"
    }
   ],
   "source": [
    "similar_products = list(enumerate(cosine_sim))\n",
    "similar_products"
   ],
   "metadata": {
    "collapsed": false
   }
  },
  {
   "cell_type": "code",
   "execution_count": 142,
   "outputs": [
    {
     "data": {
      "text/plain": "0.48278028792049943"
     },
     "execution_count": 142,
     "metadata": {},
     "output_type": "execute_result"
    }
   ],
   "source": [
    "similar_products[0][1][0]"
   ],
   "metadata": {
    "collapsed": false
   }
  },
  {
   "cell_type": "code",
   "execution_count": 143,
   "outputs": [
    {
     "data": {
      "text/plain": "[(10337, array([0.70927766])),\n (51553, array([0.70468246])),\n (10655, array([0.698797])),\n (49901, array([0.68623324])),\n (12445, array([0.65564628])),\n (6595, array([0.63418906])),\n (4479, array([0.62308673])),\n (26345, array([0.62291714]))]"
     },
     "execution_count": 143,
     "metadata": {},
     "output_type": "execute_result"
    }
   ],
   "source": [
    "sorted_similar_products = sorted(similar_products, key=lambda x: x[1], reverse=True)[1:][:8]\n",
    "\n",
    "sorted_similar_products"
   ],
   "metadata": {
    "collapsed": false
   }
  },
  {
   "cell_type": "code",
   "execution_count": 144,
   "outputs": [
    {
     "name": "stdout",
     "output_type": "stream",
     "text": [
      "Recommend products for [peter pan]\n",
      "------------------------------------\n",
      "Peter Pan                       -> 0.709 : https://images.gr-assets.com/books/1311702067l/9735478.jpg\n",
      "Peter Pan                       -> 0.705 : https://images.gr-assets.com/books/1311647242l/3940051.jpg\n",
      "Peter Pan                       -> 0.699 : https://images.gr-assets.com/books/1415584448l/23215466.jpg\n",
      "Peter Pan                       -> 0.686 : https://images.gr-assets.com/books/1460743339l/16101115.jpg\n",
      "Peter Pan in Kensington Gardens / Peter and Wendy  -> 0.656 : https://images.gr-assets.com/books/1386924473l/38673.jpg\n",
      "Peter: The Untold True Story    -> 0.634 : https://images.gr-assets.com/books/1374735573l/18149630.jpg\n",
      "Peter and the Shadow Thieves    -> 0.623 : https://images.gr-assets.com/books/1441850204l/9531.jpg\n",
      "Peter Pan                       -> 0.623 : https://images.gr-assets.com/books/1486579890l/700817.jpg\n"
     ]
    }
   ],
   "source": [
    "print('Recommend products for [' + user_choice + ']')\n",
    "print('------------------------------------')\n",
    "for i, element in enumerate(sorted_similar_products):\n",
    "    similar_product_id = element[0]\n",
    "    # print(similar_product_id)\n",
    "    similar_product_title = df['book_title'].iloc[similar_product_id]\n",
    "    # print(similar_product_title)\n",
    "    similar_product_url = df['image_url'].iloc[similar_product_id]\n",
    "    s_score = element[1][0]\n",
    "    print('{:30}  -> {:.3f} : {:30}'.format(similar_product_title, s_score, similar_product_url))\n",
    "    #\n",
    "    # if i > 6:\n",
    "    #     break"
   ],
   "metadata": {
    "collapsed": false
   }
  },
  {
   "cell_type": "code",
   "execution_count": null,
   "outputs": [],
   "source": [],
   "metadata": {
    "collapsed": false,
    "pycharm": {
     "is_executing": true
    }
   }
  },
  {
   "cell_type": "code",
   "execution_count": 144,
   "outputs": [],
   "source": [],
   "metadata": {
    "collapsed": false
   }
  },
  {
   "cell_type": "code",
   "execution_count": 144,
   "outputs": [],
   "source": [],
   "metadata": {
    "collapsed": false
   }
  },
  {
   "cell_type": "code",
   "execution_count": 144,
   "outputs": [],
   "source": [],
   "metadata": {
    "collapsed": false
   }
  },
  {
   "cell_type": "code",
   "execution_count": 144,
   "outputs": [],
   "source": [],
   "metadata": {
    "collapsed": false
   }
  }
 ],
 "metadata": {
  "kernelspec": {
   "display_name": "Python 3",
   "language": "python",
   "name": "python3"
  },
  "language_info": {
   "codemirror_mode": {
    "name": "ipython",
    "version": 2
   },
   "file_extension": ".py",
   "mimetype": "text/x-python",
   "name": "python",
   "nbconvert_exporter": "python",
   "pygments_lexer": "ipython2",
   "version": "2.7.6"
  }
 },
 "nbformat": 4,
 "nbformat_minor": 0
}
