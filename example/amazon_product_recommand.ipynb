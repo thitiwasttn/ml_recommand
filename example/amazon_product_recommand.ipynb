{
 "cells": [
  {
   "cell_type": "code",
   "execution_count": 176,
   "metadata": {
    "collapsed": true
   },
   "outputs": [],
   "source": [
    "import pandas as pd\n",
    "import numpy as np\n",
    "from sklearn.feature_extraction.text import CountVectorizer\n",
    "from sklearn.metrics.pairwise import cosine_similarity\n",
    "\n",
    "df = pd.read_csv(\"../data/sample_product.csv\")"
   ]
  },
  {
   "cell_type": "code",
   "execution_count": 177,
   "outputs": [
    {
     "data": {
      "text/plain": "                            Uniq Id  \\\n0  4c69b61db1fc16e7013b43fc926e502d   \n1  66d49bbed043f5be260fa9f7fbff5957   \n2  2c55cae269aebf53838484b0d7dd931a   \n3  18018b6bc416dab347b1b7db79994afa   \n4  e04b990e95bf73bbe6a3fa09785d7cd0   \n\n                                        Product Name  Brand Name  Asin  \\\n0  DB Longboards CoreFlex Crossbow 41\" Bamboo Fib...         NaN   NaN   \n1  Electronic Snap Circuits Mini Kits Classpack, ...         NaN   NaN   \n2  3Doodler Create Flexy 3D Printing Filament Ref...         NaN   NaN   \n3  Guillow Airplane Design Studio with Travel Cas...         NaN   NaN   \n4                   Woodstock- Collage 500 pc Puzzle         NaN   NaN   \n\n                                            Category Upc Ean Code  List Price  \\\n0  Sports & Outdoors | Outdoor Recreation | Skate...          NaN         NaN   \n1  Toys & Games | Learning & Education | Science ...          NaN         NaN   \n2          Toys & Games | Arts & Crafts | Craft Kits          NaN         NaN   \n3  Toys & Games | Hobbies | Models & Model Kits |...          NaN         NaN   \n4            Toys & Games | Puzzles | Jigsaw Puzzles          NaN         NaN   \n\n  Selling Price  Quantity Model Number  ...  \\\n0       $237.68       NaN          NaN  ...   \n1        $99.95       NaN        55324  ...   \n2        $34.99       NaN          NaN  ...   \n3        $28.91       NaN          142  ...   \n4        $17.49       NaN        62151  ...   \n\n                                         Product Url Stock Product Details  \\\n0  https://www.amazon.com/DB-Longboards-CoreFlex-...   NaN             NaN   \n1  https://www.amazon.com/Electronic-Circuits-Cla...   NaN             NaN   \n2  https://www.amazon.com/3Doodler-Plastic-Innova...   NaN             NaN   \n3  https://www.amazon.com/Guillow-Airplane-Design...   NaN             NaN   \n4  https://www.amazon.com/Woodstock-Collage-500-p...   NaN             NaN   \n\n  Dimensions Color Ingredients Direction To Use  Is Amazon Seller  \\\n0        NaN   NaN         NaN              NaN                 Y   \n1        NaN   NaN         NaN              NaN                 Y   \n2        NaN   NaN         NaN              NaN                 Y   \n3        NaN   NaN         NaN              NaN                 Y   \n4        NaN   NaN         NaN              NaN                 Y   \n\n  Size Quantity Variant  Product Description  \n0                   NaN                  NaN  \n1                   NaN                  NaN  \n2                   NaN                  NaN  \n3                   NaN                  NaN  \n4                   NaN                  NaN  \n\n[5 rows x 28 columns]",
      "text/html": "<div>\n<style scoped>\n    .dataframe tbody tr th:only-of-type {\n        vertical-align: middle;\n    }\n\n    .dataframe tbody tr th {\n        vertical-align: top;\n    }\n\n    .dataframe thead th {\n        text-align: right;\n    }\n</style>\n<table border=\"1\" class=\"dataframe\">\n  <thead>\n    <tr style=\"text-align: right;\">\n      <th></th>\n      <th>Uniq Id</th>\n      <th>Product Name</th>\n      <th>Brand Name</th>\n      <th>Asin</th>\n      <th>Category</th>\n      <th>Upc Ean Code</th>\n      <th>List Price</th>\n      <th>Selling Price</th>\n      <th>Quantity</th>\n      <th>Model Number</th>\n      <th>...</th>\n      <th>Product Url</th>\n      <th>Stock</th>\n      <th>Product Details</th>\n      <th>Dimensions</th>\n      <th>Color</th>\n      <th>Ingredients</th>\n      <th>Direction To Use</th>\n      <th>Is Amazon Seller</th>\n      <th>Size Quantity Variant</th>\n      <th>Product Description</th>\n    </tr>\n  </thead>\n  <tbody>\n    <tr>\n      <th>0</th>\n      <td>4c69b61db1fc16e7013b43fc926e502d</td>\n      <td>DB Longboards CoreFlex Crossbow 41\" Bamboo Fib...</td>\n      <td>NaN</td>\n      <td>NaN</td>\n      <td>Sports &amp; Outdoors | Outdoor Recreation | Skate...</td>\n      <td>NaN</td>\n      <td>NaN</td>\n      <td>$237.68</td>\n      <td>NaN</td>\n      <td>NaN</td>\n      <td>...</td>\n      <td>https://www.amazon.com/DB-Longboards-CoreFlex-...</td>\n      <td>NaN</td>\n      <td>NaN</td>\n      <td>NaN</td>\n      <td>NaN</td>\n      <td>NaN</td>\n      <td>NaN</td>\n      <td>Y</td>\n      <td>NaN</td>\n      <td>NaN</td>\n    </tr>\n    <tr>\n      <th>1</th>\n      <td>66d49bbed043f5be260fa9f7fbff5957</td>\n      <td>Electronic Snap Circuits Mini Kits Classpack, ...</td>\n      <td>NaN</td>\n      <td>NaN</td>\n      <td>Toys &amp; Games | Learning &amp; Education | Science ...</td>\n      <td>NaN</td>\n      <td>NaN</td>\n      <td>$99.95</td>\n      <td>NaN</td>\n      <td>55324</td>\n      <td>...</td>\n      <td>https://www.amazon.com/Electronic-Circuits-Cla...</td>\n      <td>NaN</td>\n      <td>NaN</td>\n      <td>NaN</td>\n      <td>NaN</td>\n      <td>NaN</td>\n      <td>NaN</td>\n      <td>Y</td>\n      <td>NaN</td>\n      <td>NaN</td>\n    </tr>\n    <tr>\n      <th>2</th>\n      <td>2c55cae269aebf53838484b0d7dd931a</td>\n      <td>3Doodler Create Flexy 3D Printing Filament Ref...</td>\n      <td>NaN</td>\n      <td>NaN</td>\n      <td>Toys &amp; Games | Arts &amp; Crafts | Craft Kits</td>\n      <td>NaN</td>\n      <td>NaN</td>\n      <td>$34.99</td>\n      <td>NaN</td>\n      <td>NaN</td>\n      <td>...</td>\n      <td>https://www.amazon.com/3Doodler-Plastic-Innova...</td>\n      <td>NaN</td>\n      <td>NaN</td>\n      <td>NaN</td>\n      <td>NaN</td>\n      <td>NaN</td>\n      <td>NaN</td>\n      <td>Y</td>\n      <td>NaN</td>\n      <td>NaN</td>\n    </tr>\n    <tr>\n      <th>3</th>\n      <td>18018b6bc416dab347b1b7db79994afa</td>\n      <td>Guillow Airplane Design Studio with Travel Cas...</td>\n      <td>NaN</td>\n      <td>NaN</td>\n      <td>Toys &amp; Games | Hobbies | Models &amp; Model Kits |...</td>\n      <td>NaN</td>\n      <td>NaN</td>\n      <td>$28.91</td>\n      <td>NaN</td>\n      <td>142</td>\n      <td>...</td>\n      <td>https://www.amazon.com/Guillow-Airplane-Design...</td>\n      <td>NaN</td>\n      <td>NaN</td>\n      <td>NaN</td>\n      <td>NaN</td>\n      <td>NaN</td>\n      <td>NaN</td>\n      <td>Y</td>\n      <td>NaN</td>\n      <td>NaN</td>\n    </tr>\n    <tr>\n      <th>4</th>\n      <td>e04b990e95bf73bbe6a3fa09785d7cd0</td>\n      <td>Woodstock- Collage 500 pc Puzzle</td>\n      <td>NaN</td>\n      <td>NaN</td>\n      <td>Toys &amp; Games | Puzzles | Jigsaw Puzzles</td>\n      <td>NaN</td>\n      <td>NaN</td>\n      <td>$17.49</td>\n      <td>NaN</td>\n      <td>62151</td>\n      <td>...</td>\n      <td>https://www.amazon.com/Woodstock-Collage-500-p...</td>\n      <td>NaN</td>\n      <td>NaN</td>\n      <td>NaN</td>\n      <td>NaN</td>\n      <td>NaN</td>\n      <td>NaN</td>\n      <td>Y</td>\n      <td>NaN</td>\n      <td>NaN</td>\n    </tr>\n  </tbody>\n</table>\n<p>5 rows × 28 columns</p>\n</div>"
     },
     "execution_count": 177,
     "metadata": {},
     "output_type": "execute_result"
    }
   ],
   "source": [
    "df.head()"
   ],
   "metadata": {
    "collapsed": false
   }
  },
  {
   "cell_type": "code",
   "execution_count": 178,
   "outputs": [
    {
     "data": {
      "text/plain": "(10002, 28)"
     },
     "execution_count": 178,
     "metadata": {},
     "output_type": "execute_result"
    }
   ],
   "source": [
    "df.shape  # 10,002 row, 28 column"
   ],
   "metadata": {
    "collapsed": false
   }
  },
  {
   "cell_type": "code",
   "execution_count": 179,
   "outputs": [
    {
     "data": {
      "text/plain": "Uniq Id                      0\nProduct Name                 0\nBrand Name               10002\nAsin                     10002\nCategory                   830\nUpc Ean Code              9968\nList Price               10002\nSelling Price              107\nQuantity                 10002\nModel Number              1770\nAbout Product              273\nProduct Specification     1632\nTechnical Details          790\nShipping Weight           1138\nProduct Dimensions        9523\nImage                        0\nVariants                  7524\nSku                      10002\nProduct Url                  0\nStock                    10002\nProduct Details          10002\nDimensions               10002\nColor                    10002\nIngredients              10002\nDirection To Use         10002\nIs Amazon Seller             0\nSize Quantity Variant    10002\nProduct Description      10002\ndtype: int64"
     },
     "execution_count": 179,
     "metadata": {},
     "output_type": "execute_result"
    }
   ],
   "source": [
    "df.isnull().sum()"
   ],
   "metadata": {
    "collapsed": false
   }
  },
  {
   "cell_type": "code",
   "execution_count": 180,
   "outputs": [
    {
     "data": {
      "text/plain": "Index(['Uniq Id', 'Product Name', 'Brand Name', 'Asin', 'Category',\n       'Upc Ean Code', 'List Price', 'Selling Price', 'Quantity',\n       'Model Number', 'About Product', 'Product Specification',\n       'Technical Details', 'Shipping Weight', 'Product Dimensions', 'Image',\n       'Variants', 'Sku', 'Product Url', 'Stock', 'Product Details',\n       'Dimensions', 'Color', 'Ingredients', 'Direction To Use',\n       'Is Amazon Seller', 'Size Quantity Variant', 'Product Description'],\n      dtype='object')"
     },
     "execution_count": 180,
     "metadata": {},
     "output_type": "execute_result"
    }
   ],
   "source": [
    "df.columns"
   ],
   "metadata": {
    "collapsed": false
   }
  },
  {
   "cell_type": "code",
   "execution_count": 181,
   "outputs": [
    {
     "data": {
      "text/plain": "138     Dark Horse Deluxe The Umbrella Academy Playing...\n1589    Babalu Kids Umbrella - Childrens 18 Inch Rainy...\n5521    KidKraft Wooden Outdoor Children's Patio Set w...\nName: Product Name, dtype: object"
     },
     "execution_count": 181,
     "metadata": {},
     "output_type": "execute_result"
    }
   ],
   "source": [
    "df[df['Product Name'].str.contains('umbrella', case=False, na=False)]['Product Name']"
   ],
   "metadata": {
    "collapsed": false
   }
  },
  {
   "cell_type": "code",
   "execution_count": 182,
   "outputs": [
    {
     "data": {
      "text/plain": "Uniq Id                                   6bbd68078c73c7e597720418d5347070\nProduct Name             Dark Horse Deluxe The Umbrella Academy Playing...\nBrand Name                                                             NaN\nAsin                                                                   NaN\nCategory                 Toys & Games | Games & Accessories | Card Game...\nUpc Ean Code                                                           NaN\nList Price                                                             NaN\nSelling Price                                                        $4.99\nQuantity                                                               NaN\nModel Number                                                     DEC180427\nAbout Product            Celebrate the return of the hit series BY Gera...\nProduct Specification    ProductDimensions:2.6x0.7x3.6inches|ItemWeight...\nTechnical Details        Go to your orders and start the return Select ...\nShipping Weight                                                3.52 ounces\nProduct Dimensions                                                     NaN\nImage                    https://images-na.ssl-images-amazon.com/images...\nVariants                                                               NaN\nSku                                                                    NaN\nProduct Url              https://www.amazon.com/Dark-Horse-Deluxe-Umbre...\nStock                                                                  NaN\nProduct Details                                                        NaN\nDimensions                                                             NaN\nColor                                                                  NaN\nIngredients                                                            NaN\nDirection To Use                                                       NaN\nIs Amazon Seller                                                         Y\nSize Quantity Variant                                                  NaN\nProduct Description                                                    NaN\nName: 138, dtype: object"
     },
     "execution_count": 182,
     "metadata": {},
     "output_type": "execute_result"
    }
   ],
   "source": [
    "df.iloc[138]"
   ],
   "metadata": {
    "collapsed": false
   }
  },
  {
   "cell_type": "code",
   "execution_count": 183,
   "outputs": [
    {
     "data": {
      "text/plain": "Product Name                0\nCategory                  830\nAbout Product             273\nProduct Specification    1632\nTechnical Details         790\ndtype: int64"
     },
     "execution_count": 183,
     "metadata": {},
     "output_type": "execute_result"
    }
   ],
   "source": [
    "features = ['Product Name', 'Category', 'About Product', 'Product Specification', 'Technical Details']\n",
    "df[features].isnull().sum()"
   ],
   "metadata": {
    "collapsed": false
   }
  },
  {
   "cell_type": "code",
   "execution_count": 184,
   "outputs": [],
   "source": [
    "\n",
    "for feature in features:\n",
    "    df[feature] = df[feature].fillna(\"\")  # เพิ่มส่วนที่เป็น missing ด้วย  \"\""
   ],
   "metadata": {
    "collapsed": false
   }
  },
  {
   "cell_type": "code",
   "execution_count": 185,
   "outputs": [
    {
     "data": {
      "text/plain": "Product Name             0\nCategory                 0\nAbout Product            0\nProduct Specification    0\nTechnical Details        0\ndtype: int64"
     },
     "execution_count": 185,
     "metadata": {},
     "output_type": "execute_result"
    }
   ],
   "source": [
    "df[features].isnull().sum()"
   ],
   "metadata": {
    "collapsed": false
   }
  },
  {
   "cell_type": "code",
   "execution_count": 186,
   "outputs": [
    {
     "data": {
      "text/plain": "0    DB Longboards CoreFlex Crossbow 41\" Bamboo Fib...\n1    Electronic Snap Circuits Mini Kits Classpack, ...\n2    3Doodler Create Flexy 3D Printing Filament Ref...\n3    Guillow Airplane Design Studio with Travel Cas...\n4    Woodstock- Collage 500 pc Puzzle Puzzle has 50...\nName: combined_features, dtype: object"
     },
     "execution_count": 186,
     "metadata": {},
     "output_type": "execute_result"
    }
   ],
   "source": [
    "df['combined_features'] = df['Product Name'] + ' ' + df['About Product'] + ' ' + df['Category'] + ' ' + df[\n",
    "    'Product Specification'] + ' ' + df['Technical Details']\n",
    "\n",
    "df.combined_features.head()"
   ],
   "metadata": {
    "collapsed": false
   }
  },
  {
   "cell_type": "code",
   "execution_count": 187,
   "outputs": [
    {
     "data": {
      "text/plain": "                            Uniq Id  \\\n0  4c69b61db1fc16e7013b43fc926e502d   \n1  66d49bbed043f5be260fa9f7fbff5957   \n2  2c55cae269aebf53838484b0d7dd931a   \n3  18018b6bc416dab347b1b7db79994afa   \n4  e04b990e95bf73bbe6a3fa09785d7cd0   \n\n                                        Product Name  Brand Name  Asin  \\\n0  DB Longboards CoreFlex Crossbow 41\" Bamboo Fib...         NaN   NaN   \n1  Electronic Snap Circuits Mini Kits Classpack, ...         NaN   NaN   \n2  3Doodler Create Flexy 3D Printing Filament Ref...         NaN   NaN   \n3  Guillow Airplane Design Studio with Travel Cas...         NaN   NaN   \n4                   Woodstock- Collage 500 pc Puzzle         NaN   NaN   \n\n                                            Category Upc Ean Code  List Price  \\\n0  Sports & Outdoors | Outdoor Recreation | Skate...          NaN         NaN   \n1  Toys & Games | Learning & Education | Science ...          NaN         NaN   \n2          Toys & Games | Arts & Crafts | Craft Kits          NaN         NaN   \n3  Toys & Games | Hobbies | Models & Model Kits |...          NaN         NaN   \n4            Toys & Games | Puzzles | Jigsaw Puzzles          NaN         NaN   \n\n  Selling Price  Quantity Model Number  ... Stock Product Details Dimensions  \\\n0       $237.68       NaN          NaN  ...   NaN             NaN        NaN   \n1        $99.95       NaN        55324  ...   NaN             NaN        NaN   \n2        $34.99       NaN          NaN  ...   NaN             NaN        NaN   \n3        $28.91       NaN          142  ...   NaN             NaN        NaN   \n4        $17.49       NaN        62151  ...   NaN             NaN        NaN   \n\n  Color Ingredients Direction To Use Is Amazon Seller  Size Quantity Variant  \\\n0   NaN         NaN              NaN                Y                    NaN   \n1   NaN         NaN              NaN                Y                    NaN   \n2   NaN         NaN              NaN                Y                    NaN   \n3   NaN         NaN              NaN                Y                    NaN   \n4   NaN         NaN              NaN                Y                    NaN   \n\n  Product Description                                  combined_features  \n0                 NaN  DB Longboards CoreFlex Crossbow 41\" Bamboo Fib...  \n1                 NaN  Electronic Snap Circuits Mini Kits Classpack, ...  \n2                 NaN  3Doodler Create Flexy 3D Printing Filament Ref...  \n3                 NaN  Guillow Airplane Design Studio with Travel Cas...  \n4                 NaN  Woodstock- Collage 500 pc Puzzle Puzzle has 50...  \n\n[5 rows x 29 columns]",
      "text/html": "<div>\n<style scoped>\n    .dataframe tbody tr th:only-of-type {\n        vertical-align: middle;\n    }\n\n    .dataframe tbody tr th {\n        vertical-align: top;\n    }\n\n    .dataframe thead th {\n        text-align: right;\n    }\n</style>\n<table border=\"1\" class=\"dataframe\">\n  <thead>\n    <tr style=\"text-align: right;\">\n      <th></th>\n      <th>Uniq Id</th>\n      <th>Product Name</th>\n      <th>Brand Name</th>\n      <th>Asin</th>\n      <th>Category</th>\n      <th>Upc Ean Code</th>\n      <th>List Price</th>\n      <th>Selling Price</th>\n      <th>Quantity</th>\n      <th>Model Number</th>\n      <th>...</th>\n      <th>Stock</th>\n      <th>Product Details</th>\n      <th>Dimensions</th>\n      <th>Color</th>\n      <th>Ingredients</th>\n      <th>Direction To Use</th>\n      <th>Is Amazon Seller</th>\n      <th>Size Quantity Variant</th>\n      <th>Product Description</th>\n      <th>combined_features</th>\n    </tr>\n  </thead>\n  <tbody>\n    <tr>\n      <th>0</th>\n      <td>4c69b61db1fc16e7013b43fc926e502d</td>\n      <td>DB Longboards CoreFlex Crossbow 41\" Bamboo Fib...</td>\n      <td>NaN</td>\n      <td>NaN</td>\n      <td>Sports &amp; Outdoors | Outdoor Recreation | Skate...</td>\n      <td>NaN</td>\n      <td>NaN</td>\n      <td>$237.68</td>\n      <td>NaN</td>\n      <td>NaN</td>\n      <td>...</td>\n      <td>NaN</td>\n      <td>NaN</td>\n      <td>NaN</td>\n      <td>NaN</td>\n      <td>NaN</td>\n      <td>NaN</td>\n      <td>Y</td>\n      <td>NaN</td>\n      <td>NaN</td>\n      <td>DB Longboards CoreFlex Crossbow 41\" Bamboo Fib...</td>\n    </tr>\n    <tr>\n      <th>1</th>\n      <td>66d49bbed043f5be260fa9f7fbff5957</td>\n      <td>Electronic Snap Circuits Mini Kits Classpack, ...</td>\n      <td>NaN</td>\n      <td>NaN</td>\n      <td>Toys &amp; Games | Learning &amp; Education | Science ...</td>\n      <td>NaN</td>\n      <td>NaN</td>\n      <td>$99.95</td>\n      <td>NaN</td>\n      <td>55324</td>\n      <td>...</td>\n      <td>NaN</td>\n      <td>NaN</td>\n      <td>NaN</td>\n      <td>NaN</td>\n      <td>NaN</td>\n      <td>NaN</td>\n      <td>Y</td>\n      <td>NaN</td>\n      <td>NaN</td>\n      <td>Electronic Snap Circuits Mini Kits Classpack, ...</td>\n    </tr>\n    <tr>\n      <th>2</th>\n      <td>2c55cae269aebf53838484b0d7dd931a</td>\n      <td>3Doodler Create Flexy 3D Printing Filament Ref...</td>\n      <td>NaN</td>\n      <td>NaN</td>\n      <td>Toys &amp; Games | Arts &amp; Crafts | Craft Kits</td>\n      <td>NaN</td>\n      <td>NaN</td>\n      <td>$34.99</td>\n      <td>NaN</td>\n      <td>NaN</td>\n      <td>...</td>\n      <td>NaN</td>\n      <td>NaN</td>\n      <td>NaN</td>\n      <td>NaN</td>\n      <td>NaN</td>\n      <td>NaN</td>\n      <td>Y</td>\n      <td>NaN</td>\n      <td>NaN</td>\n      <td>3Doodler Create Flexy 3D Printing Filament Ref...</td>\n    </tr>\n    <tr>\n      <th>3</th>\n      <td>18018b6bc416dab347b1b7db79994afa</td>\n      <td>Guillow Airplane Design Studio with Travel Cas...</td>\n      <td>NaN</td>\n      <td>NaN</td>\n      <td>Toys &amp; Games | Hobbies | Models &amp; Model Kits |...</td>\n      <td>NaN</td>\n      <td>NaN</td>\n      <td>$28.91</td>\n      <td>NaN</td>\n      <td>142</td>\n      <td>...</td>\n      <td>NaN</td>\n      <td>NaN</td>\n      <td>NaN</td>\n      <td>NaN</td>\n      <td>NaN</td>\n      <td>NaN</td>\n      <td>Y</td>\n      <td>NaN</td>\n      <td>NaN</td>\n      <td>Guillow Airplane Design Studio with Travel Cas...</td>\n    </tr>\n    <tr>\n      <th>4</th>\n      <td>e04b990e95bf73bbe6a3fa09785d7cd0</td>\n      <td>Woodstock- Collage 500 pc Puzzle</td>\n      <td>NaN</td>\n      <td>NaN</td>\n      <td>Toys &amp; Games | Puzzles | Jigsaw Puzzles</td>\n      <td>NaN</td>\n      <td>NaN</td>\n      <td>$17.49</td>\n      <td>NaN</td>\n      <td>62151</td>\n      <td>...</td>\n      <td>NaN</td>\n      <td>NaN</td>\n      <td>NaN</td>\n      <td>NaN</td>\n      <td>NaN</td>\n      <td>NaN</td>\n      <td>Y</td>\n      <td>NaN</td>\n      <td>NaN</td>\n      <td>Woodstock- Collage 500 pc Puzzle Puzzle has 50...</td>\n    </tr>\n  </tbody>\n</table>\n<p>5 rows × 29 columns</p>\n</div>"
     },
     "execution_count": 187,
     "metadata": {},
     "output_type": "execute_result"
    }
   ],
   "source": [
    "df.head()"
   ],
   "metadata": {
    "collapsed": false
   }
  },
  {
   "cell_type": "code",
   "execution_count": 188,
   "outputs": [],
   "source": [
    "cv = CountVectorizer()\n",
    "count_matrix = cv.fit_transform(df.combined_features)"
   ],
   "metadata": {
    "collapsed": false
   }
  },
  {
   "cell_type": "code",
   "execution_count": 189,
   "outputs": [
    {
     "name": "stderr",
     "output_type": "stream",
     "text": [
      "E:\\work\\machine-learning\\venv\\lib\\site-packages\\sklearn\\utils\\deprecation.py:87: FutureWarning: Function get_feature_names is deprecated; get_feature_names is deprecated in 1.0 and will be removed in 1.2. Please use get_feature_names_out instead.\n",
      "  warnings.warn(msg, category=FutureWarning)\n"
     ]
    },
    {
     "data": {
      "text/plain": "53004"
     },
     "execution_count": 189,
     "metadata": {},
     "output_type": "execute_result"
    }
   ],
   "source": [
    "len(cv.get_feature_names())"
   ],
   "metadata": {
    "collapsed": false
   }
  },
  {
   "cell_type": "code",
   "execution_count": 190,
   "outputs": [
    {
     "data": {
      "text/plain": "(10002, 53004)"
     },
     "execution_count": 190,
     "metadata": {},
     "output_type": "execute_result"
    }
   ],
   "source": [
    "count_matrix.shape  # จำนวนแถว, colume"
   ],
   "metadata": {
    "collapsed": false
   }
  },
  {
   "cell_type": "code",
   "execution_count": 191,
   "outputs": [
    {
     "name": "stdout",
     "output_type": "stream",
     "text": [
      "['00', '000', '0000', '000000', '00000080', '00001', '00002', '00006', '00007', '00009']\n",
      "['été', 'être', 'ñtoys', 'ømm', 'μsec', 'оne', 'оnе', 'расk', 'ﬂip', 'ﬂoat']\n",
      "[[0 0 0 0 0 0 0 0 0 0 0 0 0 0 0 0 0 0 0 0]\n",
      " [0 0 0 0 0 0 0 0 0 0 0 0 0 0 0 0 0 0 0 0]\n",
      " [0 0 0 0 0 0 0 0 0 0 0 0 0 0 0 0 0 0 0 0]\n",
      " [0 0 0 0 0 0 0 0 0 0 0 0 0 0 0 0 0 0 0 0]\n",
      " [0 0 0 0 0 0 0 0 0 0 0 0 0 0 0 0 0 0 0 0]\n",
      " [0 0 0 0 0 0 0 0 0 0 0 0 0 0 0 0 0 0 0 0]\n",
      " [0 0 0 0 0 0 0 0 0 0 0 0 0 0 0 0 0 0 0 0]\n",
      " [0 0 0 0 0 0 0 0 0 0 0 0 0 0 0 0 0 0 0 0]\n",
      " [0 0 0 0 0 0 0 0 0 0 0 0 0 0 0 0 0 0 0 0]\n",
      " [0 0 0 0 0 0 0 0 0 0 0 0 0 0 0 0 0 0 0 0]]\n"
     ]
    }
   ],
   "source": [
    "print(cv.get_feature_names()[0:10])\n",
    "print(cv.get_feature_names()[-10:])\n",
    "print(count_matrix.toarray()[:10, 10:30])"
   ],
   "metadata": {
    "collapsed": false
   }
  },
  {
   "cell_type": "code",
   "execution_count": 192,
   "outputs": [
    {
     "data": {
      "text/plain": "(10002, 10002)"
     },
     "execution_count": 192,
     "metadata": {},
     "output_type": "execute_result"
    }
   ],
   "source": [
    "cosine_sim = cosine_similarity(count_matrix)\n",
    "cosine_sim.shape"
   ],
   "metadata": {
    "collapsed": false
   }
  },
  {
   "cell_type": "code",
   "execution_count": 193,
   "outputs": [
    {
     "name": "stdout",
     "output_type": "stream",
     "text": [
      "[[1.    0.326 0.435 0.367 0.136 0.422 0.378 0.031]\n",
      " [0.326 1.    0.35  0.415 0.145 0.387 0.402 0.063]\n",
      " [0.435 0.35  1.    0.425 0.147 0.456 0.391 0.128]\n",
      " [0.367 0.415 0.425 1.    0.253 0.493 0.504 0.045]\n",
      " [0.136 0.145 0.147 0.253 1.    0.157 0.18  0.086]\n",
      " [0.422 0.387 0.456 0.493 0.157 1.    0.514 0.057]\n",
      " [0.378 0.402 0.391 0.504 0.18  0.514 1.    0.006]\n",
      " [0.031 0.063 0.128 0.045 0.086 0.057 0.006 1.   ]]\n"
     ]
    }
   ],
   "source": [
    "print(cosine_sim[:8, :8].round(3))"
   ],
   "metadata": {
    "collapsed": false
   }
  },
  {
   "cell_type": "code",
   "execution_count": 194,
   "outputs": [
    {
     "name": "stdout",
     "output_type": "stream",
     "text": [
      "user choice ref_index = 3851\n"
     ]
    }
   ],
   "source": [
    "user_choice = 'b2bbae612611f0093cf7342369db62fa'\n",
    "ref_index = df[df['Uniq Id'].str.contains(user_choice, case=False)].index[0]\n",
    "\n",
    "print('user choice ref_index = {}'.format(ref_index))"
   ],
   "metadata": {
    "collapsed": false
   }
  },
  {
   "cell_type": "code",
   "execution_count": 195,
   "outputs": [
    {
     "data": {
      "text/plain": "Uniq Id                                   b2bbae612611f0093cf7342369db62fa\nProduct Name             Michael Jackson Performance Accessory Kit (Adult)\nBrand Name                                                             NaN\nAsin                                                                   NaN\nCategory                 Clothing, Shoes & Jewelry | Costumes & Accesso...\nUpc Ean Code                                                           NaN\nList Price                                                             NaN\nSelling Price                                                       $30.95\nQuantity                                                               NaN\nModel Number                                                           NaN\nAbout Product            Synthetic | 0.7\" high | 14\" wide | Convenient ...\nProduct Specification                                                     \nTechnical Details        show up to 2 reviews by default Includes: Wig,...\nShipping Weight                                                   5 pounds\nProduct Dimensions                                                     NaN\nImage                    https://images-na.ssl-images-amazon.com/images...\nVariants                                                               NaN\nSku                                                                    NaN\nProduct Url              https://www.amazon.com/Michael-Jackson-Costume...\nStock                                                                  NaN\nProduct Details                                                        NaN\nDimensions                                                             NaN\nColor                                                                  NaN\nIngredients                                                            NaN\nDirection To Use                                                       NaN\nIs Amazon Seller                                                         Y\nSize Quantity Variant                                                  NaN\nProduct Description                                                    NaN\ncombined_features        Michael Jackson Performance Accessory Kit (Adu...\nName: 3851, dtype: object"
     },
     "execution_count": 195,
     "metadata": {},
     "output_type": "execute_result"
    }
   ],
   "source": [
    "df.iloc[ref_index]"
   ],
   "metadata": {
    "collapsed": false
   }
  },
  {
   "cell_type": "code",
   "execution_count": 196,
   "outputs": [
    {
     "data": {
      "text/plain": "[(0, 0.2867377175841095),\n (1, 0.31610983658293396),\n (2, 0.3239188292789932),\n (3, 0.30558380829703397),\n (4, 0.1865669088428978),\n (5, 0.35400109174105043),\n (6, 0.4301978576914552),\n (7, 0.03575421226192905)]"
     },
     "execution_count": 196,
     "metadata": {},
     "output_type": "execute_result"
    }
   ],
   "source": [
    "similar_products = list(enumerate(cosine_sim[ref_index]))\n",
    "similar_products[:8]"
   ],
   "metadata": {
    "collapsed": false
   }
  },
  {
   "cell_type": "code",
   "execution_count": 197,
   "outputs": [
    {
     "data": {
      "text/plain": "[(9252, 0.49193285614091176),\n (9679, 0.4880597052943128),\n (7008, 0.48776230455235364),\n (469, 0.4864395818496832),\n (5778, 0.4814781246500955),\n (2115, 0.47660237490506585),\n (5807, 0.4764381941182063),\n (5789, 0.47626099013987444)]"
     },
     "execution_count": 197,
     "metadata": {},
     "output_type": "execute_result"
    }
   ],
   "source": [
    "sorted_similar_products = sorted(similar_products, key=lambda x: x[1], reverse=True)[1:]\n",
    "\n",
    "sorted_similar_products[:8]"
   ],
   "metadata": {
    "collapsed": false
   }
  },
  {
   "cell_type": "code",
   "execution_count": 198,
   "outputs": [
    {
     "name": "stdout",
     "output_type": "stream",
     "text": [
      "Recommend products for [b2bbae612611f0093cf7342369db62fa]\n",
      "------------------------------------\n",
      "9252\n",
      "Indiana Jones - Indiana Jones Hat and Whip Set Child , https://www.amazon.com/Indiana-Jones-Childs-Hat-Whip/dp/B001EDF3OU -> 0.492\n",
      "9679\n",
      "Rubies Star Wars Clone Wars Child's Deluxe Cad Bane Costume and Mask, Small , https://www.amazon.com/Rubies-Clone-Childs-Deluxe-Costume/dp/B003KN3O2U -> 0.488\n",
      "7008\n",
      "Forum Great Detective Costume Accessory Kit , https://www.amazon.com/Forum-Great-Detective-Costume-Accessory/dp/B003VLVRQ6 -> 0.488\n",
      "469\n",
      "Lord of The Rings Bilbo Baggins Sword , https://www.amazon.com/The-Hobbit-Sting-Lightup-Sword/dp/B00BG34DK8 -> 0.486\n",
      "5778\n",
      "Rubie's Marvel Classic Child's American Dream Metallic Costume, Small , https://www.amazon.com/Rubies-Classic-American-Metallic-Costume/dp/B00HA4ZCK2 -> 0.481\n",
      "2115\n",
      "Rubie's Costume Co. Women's Suicide Squad Harley Costume Jewelry Set , https://www.amazon.com/Rubies-Costume-Womens-Suicide-Jewelry/dp/B01BFFIQ86 -> 0.477\n",
      "5807\n",
      "Rubie's Costume Co. Men's Doctor Strange Economy Cloak of Levitation , https://www.amazon.com/Rubies-Costume-Strange-Economy-Levitation/dp/B06XC7D7V4 -> 0.476\n",
      "5789\n",
      "Rubie's Plush Reindeer Antlers Costume Accessory , https://www.amazon.com/Plush-Reindeer-Antlers-Costume-Accessory/dp/B012H3JAXU -> 0.476\n"
     ]
    }
   ],
   "source": [
    "print('Recommend products for [' + user_choice + ']')\n",
    "print('------------------------------------')\n",
    "for i, element in enumerate(sorted_similar_products):\n",
    "    similar_product_id = element[0]\n",
    "    print(similar_product_id)\n",
    "    similar_product_title = df['Product Name'].iloc[similar_product_id]\n",
    "    similar_product_url = df['Product Url'].iloc[similar_product_id]\n",
    "    s_score = element[1]\n",
    "    print('{:30} , {:30} -> {:.3f}'.format(similar_product_title, similar_product_url, s_score))\n",
    "\n",
    "    if i > 6:\n",
    "        break"
   ],
   "metadata": {
    "collapsed": false
   }
  },
  {
   "cell_type": "code",
   "execution_count": 198,
   "outputs": [],
   "source": [],
   "metadata": {
    "collapsed": false
   }
  }
 ],
 "metadata": {
  "kernelspec": {
   "display_name": "Python 3",
   "language": "python",
   "name": "python3"
  },
  "language_info": {
   "codemirror_mode": {
    "name": "ipython",
    "version": 2
   },
   "file_extension": ".py",
   "mimetype": "text/x-python",
   "name": "python",
   "nbconvert_exporter": "python",
   "pygments_lexer": "ipython2",
   "version": "2.7.6"
  }
 },
 "nbformat": 4,
 "nbformat_minor": 0
}
