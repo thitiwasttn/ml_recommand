{
 "cells": [
  {
   "cell_type": "code",
   "execution_count": 6,
   "metadata": {
    "collapsed": true
   },
   "outputs": [],
   "source": [
    "import pandas as pd\n",
    "import numpy as np\n",
    "from sklearn.feature_extraction.text import CountVectorizer\n",
    "from sklearn.metrics.pairwise import cosine_similarity\n",
    "from scipy import sparse\n",
    "\n",
    "df = pd.read_csv(\"../data/book_data.csv\")"
   ]
  },
  {
   "cell_type": "code",
   "execution_count": 7,
   "outputs": [],
   "source": [
    "A_sparse = sparse.load_npz(\"books.npz\")"
   ],
   "metadata": {
    "collapsed": false
   }
  },
  {
   "cell_type": "code",
   "execution_count": 8,
   "outputs": [
    {
     "name": "stdout",
     "output_type": "stream",
     "text": [
      "user choice ref_index = 1\n"
     ]
    },
    {
     "data": {
      "text/plain": "book_authors                                J.K. Rowling|Mary GrandPré\nbook_desc            There is a door at the end of a silent corrido...\nbook_edition                                                US Edition\nbook_format                                                  Paperback\nbook_isbn                                                  9.78044E+12\nbook_pages                                                   870 pages\nbook_rating                                                       4.48\nbook_rating_count                                              2041594\nbook_review_count                                                33264\nbook_title                   Harry Potter and the Order of the Phoenix\ngenres                                     Fantasy|Young Adult|Fiction\nimage_url            https://images.gr-assets.com/books/1255614970l...\nName: 1, dtype: object"
     },
     "execution_count": 8,
     "metadata": {},
     "output_type": "execute_result"
    }
   ],
   "source": [
    "user_choice = 'harry potter'\n",
    "ref_index = df[df['book_title'].str.contains(str(user_choice), case=False)].index[0]\n",
    "\n",
    "print('user choice ref_index = {}'.format(ref_index))\n",
    "df.iloc[ref_index]"
   ],
   "metadata": {
    "collapsed": false
   }
  },
  {
   "cell_type": "code",
   "execution_count": 9,
   "outputs": [],
   "source": [
    "cosine_sim = cosine_similarity(A_sparse,A_sparse.getrow(ref_index))\n",
    "similar_products = list(enumerate(cosine_sim))\n",
    "sorted_similar_products = sorted(similar_products, key=lambda x: x[1], reverse=True)[1:][:8]"
   ],
   "metadata": {
    "collapsed": false
   }
  },
  {
   "cell_type": "code",
   "execution_count": 10,
   "outputs": [
    {
     "name": "stdout",
     "output_type": "stream",
     "text": [
      "Recommend products for [harry potter]\n",
      "------------------------------------\n",
      "The Silmarillion                -> 0.810 : https://images.gr-assets.com/books/1487169112l/953403.jpg\n",
      "Benjamin McTish and the Door Through the Grandfather Tree  -> 0.809 : https://images.gr-assets.com/books/1369744691l/17984619.jpg\n",
      "Harry Potter and the Prisoner of Azkaban  -> 0.808 : https://images.gr-assets.com/books/1499277281l/5.jpg\n",
      "Ajaya: Roll of the Dice         -> 0.804 : https://images.gr-assets.com/books/1382018715l/18684615.jpg\n",
      "Ironfire                        -> 0.804 : https://images.gr-assets.com/books/1440229880l/970556.jpg\n",
      "The Tyranny of the Night        -> 0.803 : https://images.gr-assets.com/books/1389333071l/325398.jpg\n",
      "The Return of the King          -> 0.803 : https://images.gr-assets.com/books/1295996565l/49891.jpg\n",
      "The Gates of Sparak Th'ur: A Thoughts of Mountains Novel  -> 0.800 : https://images.gr-assets.com/books/1382918156l/18642552.jpg\n"
     ]
    }
   ],
   "source": [
    "print('Recommend products for [' + user_choice + ']')\n",
    "print('------------------------------------')\n",
    "for i, element in enumerate(sorted_similar_products):\n",
    "    similar_product_id = element[0]\n",
    "    # print(similar_product_id)\n",
    "    similar_product_title = df['book_title'].iloc[similar_product_id]\n",
    "    # print(similar_product_title)\n",
    "    similar_product_url = df['image_url'].iloc[similar_product_id]\n",
    "    s_score = element[1][0]\n",
    "    print('{:30}  -> {:.3f} : {:30}'.format(similar_product_title, s_score, similar_product_url))\n",
    "    #\n",
    "    # if i > 6:\n",
    "    #     break"
   ],
   "metadata": {
    "collapsed": false
   }
  }
 ],
 "metadata": {
  "kernelspec": {
   "display_name": "Python 3",
   "language": "python",
   "name": "python3"
  },
  "language_info": {
   "codemirror_mode": {
    "name": "ipython",
    "version": 2
   },
   "file_extension": ".py",
   "mimetype": "text/x-python",
   "name": "python",
   "nbconvert_exporter": "python",
   "pygments_lexer": "ipython2",
   "version": "2.7.6"
  }
 },
 "nbformat": 4,
 "nbformat_minor": 0
}
