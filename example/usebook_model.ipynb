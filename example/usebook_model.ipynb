{
 "cells": [
  {
   "cell_type": "code",
   "execution_count": 13,
   "metadata": {
    "collapsed": true
   },
   "outputs": [],
   "source": [
    "import pandas as pd\n",
    "import numpy as np\n",
    "from sklearn.feature_extraction.text import CountVectorizer\n",
    "from sklearn.metrics.pairwise import cosine_similarity\n",
    "from scipy import sparse\n",
    "\n",
    "df = pd.read_csv(\"../data/book_data.csv\")"
   ]
  },
  {
   "cell_type": "code",
   "execution_count": 14,
   "outputs": [],
   "source": [
    "A_sparse = sparse.load_npz(\"books.npz\")"
   ],
   "metadata": {
    "collapsed": false
   }
  },
  {
   "cell_type": "code",
   "execution_count": 15,
   "outputs": [
    {
     "name": "stdout",
     "output_type": "stream",
     "text": [
      "user choice ref_index = 130\n"
     ]
    },
    {
     "data": {
      "text/plain": "book_authors                     Mario Puzo|Robert Thompson|Peter Bart\nbook_desc            The Godfather—the epic tale of crime and betra...\nbook_edition                                                        US\nbook_format                                                  Paperback\nbook_isbn                                                  9.78045E+12\nbook_pages                                                   448 pages\nbook_rating                                                       4.37\nbook_rating_count                                               288663\nbook_review_count                                                 6793\nbook_title                                               The Godfather\ngenres               Fiction|Classics|Mystery|Crime|Thriller|Histor...\nimage_url            https://images.gr-assets.com/books/1394988109l...\nName: 130, dtype: object"
     },
     "execution_count": 15,
     "metadata": {},
     "output_type": "execute_result"
    }
   ],
   "source": [
    "user_choice = 'The Godfather'\n",
    "ref_index = df[df['book_title'].str.contains(str(user_choice), case=False)].index[0]\n",
    "\n",
    "print('user choice ref_index = {}'.format(ref_index))\n",
    "df.iloc[ref_index]"
   ],
   "metadata": {
    "collapsed": false
   }
  },
  {
   "cell_type": "code",
   "execution_count": 16,
   "outputs": [],
   "source": [
    "cosine_sim = cosine_similarity(A_sparse,A_sparse.getrow(ref_index))\n",
    "similar_products = list(enumerate(cosine_sim))\n",
    "sorted_similar_products = sorted(similar_products, key=lambda x: x[1], reverse=True)[1:][:8]"
   ],
   "metadata": {
    "collapsed": false
   }
  },
  {
   "cell_type": "code",
   "execution_count": 17,
   "outputs": [
    {
     "name": "stdout",
     "output_type": "stream",
     "text": [
      "Recommend products for [The Godfather]\n",
      "------------------------------------\n",
      "The Godfather                   -> 0.938 : https://images.gr-assets.com/books/1516988091l/6485609.jpg\n",
      "Empire: the Novel of Imperial Rome  -> 0.828 : https://images.gr-assets.com/books/1441122939l/8273834.jpg\n",
      "The Last of the Mohicans        -> 0.816 : https://images.gr-assets.com/books/1388199654l/38296.jpg\n",
      "The Grapes of Wrath             -> 0.816 : https://images.gr-assets.com/books/1499929186l/4397.jpg\n",
      "The Pillars of the Earth        -> 0.815 : https://images.gr-assets.com/books/1388193707l/5043.jpg\n",
      "Jordens søjler                  -> 0.815 : https://images.gr-assets.com/books/1344895240l/15826985.jpg\n",
      "Tinseltown: Murder, Morphine, and Madness at the Dawn of Hollywood  -> 0.812 : https://images.gr-assets.com/books/1407108939l/20663064.jpg\n",
      "World War Z: An Oral History of the Zombie War  -> 0.811 : https://images.gr-assets.com/books/1528312647l/8908.jpg\n"
     ]
    }
   ],
   "source": [
    "print('Recommend products for [' + user_choice + ']')\n",
    "print('------------------------------------')\n",
    "for i, element in enumerate(sorted_similar_products):\n",
    "    similar_product_id = element[0]\n",
    "    # print(similar_product_id)\n",
    "    similar_product_title = df['book_title'].iloc[similar_product_id]\n",
    "    # print(similar_product_title)\n",
    "    similar_product_url = df['image_url'].iloc[similar_product_id]\n",
    "    s_score = element[1][0]\n",
    "    print('{:30}  -> {:.3f} : {:30}'.format(similar_product_title, s_score, similar_product_url))\n",
    "    #\n",
    "    # if i > 6:\n",
    "    #     break"
   ],
   "metadata": {
    "collapsed": false
   }
  }
 ],
 "metadata": {
  "kernelspec": {
   "display_name": "Python 3",
   "language": "python",
   "name": "python3"
  },
  "language_info": {
   "codemirror_mode": {
    "name": "ipython",
    "version": 2
   },
   "file_extension": ".py",
   "mimetype": "text/x-python",
   "name": "python",
   "nbconvert_exporter": "python",
   "pygments_lexer": "ipython2",
   "version": "2.7.6"
  }
 },
 "nbformat": 4,
 "nbformat_minor": 0
}
