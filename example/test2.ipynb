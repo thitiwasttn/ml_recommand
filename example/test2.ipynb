{
 "cells": [
  {
   "cell_type": "code",
   "execution_count": 37,
   "outputs": [],
   "source": [
    "import pandas as pd\n",
    "from sklearn.feature_extraction.text import CountVectorizer\n",
    "from sklearn.metrics.pairwise import cosine_similarity"
   ],
   "metadata": {
    "collapsed": false
   }
  },
  {
   "cell_type": "code",
   "execution_count": 38,
   "outputs": [],
   "source": [
    "a = 'blue skirt dress lady'\n",
    "b = 'blue shirt lady'\n",
    "c = 'smartphone android'\n",
    "d = 'charger smartphone tablet'"
   ],
   "metadata": {
    "collapsed": false
   }
  },
  {
   "cell_type": "code",
   "execution_count": 39,
   "metadata": {
    "collapsed": true
   },
   "outputs": [
    {
     "name": "stdout",
     "output_type": "stream",
     "text": [
      "['android', 'blue', 'charger', 'dress', 'lady', 'shirt', 'skirt', 'smartphone', 'tablet']\n",
      "[[0 1 0 1 1 0 1 0 0]\n",
      " [0 1 0 0 1 1 0 0 0]\n",
      " [1 0 0 0 0 0 0 1 0]\n",
      " [0 0 1 0 0 0 0 1 1]]\n"
     ]
    },
    {
     "name": "stderr",
     "output_type": "stream",
     "text": [
      "E:\\work\\machine-learning\\venv\\lib\\site-packages\\sklearn\\utils\\deprecation.py:87: FutureWarning: Function get_feature_names is deprecated; get_feature_names is deprecated in 1.0 and will be removed in 1.2. Please use get_feature_names_out instead.\n",
      "  warnings.warn(msg, category=FutureWarning)\n"
     ]
    },
    {
     "data": {
      "text/plain": "   android  blue  charger  dress  lady  shirt  skirt  smartphone  tablet\na        0     1        0      1     1      0      1           0       0\nb        0     1        0      0     1      1      0           0       0\nc        1     0        0      0     0      0      0           1       0\nd        0     0        1      0     0      0      0           1       1",
      "text/html": "<div>\n<style scoped>\n    .dataframe tbody tr th:only-of-type {\n        vertical-align: middle;\n    }\n\n    .dataframe tbody tr th {\n        vertical-align: top;\n    }\n\n    .dataframe thead th {\n        text-align: right;\n    }\n</style>\n<table border=\"1\" class=\"dataframe\">\n  <thead>\n    <tr style=\"text-align: right;\">\n      <th></th>\n      <th>android</th>\n      <th>blue</th>\n      <th>charger</th>\n      <th>dress</th>\n      <th>lady</th>\n      <th>shirt</th>\n      <th>skirt</th>\n      <th>smartphone</th>\n      <th>tablet</th>\n    </tr>\n  </thead>\n  <tbody>\n    <tr>\n      <th>a</th>\n      <td>0</td>\n      <td>1</td>\n      <td>0</td>\n      <td>1</td>\n      <td>1</td>\n      <td>0</td>\n      <td>1</td>\n      <td>0</td>\n      <td>0</td>\n    </tr>\n    <tr>\n      <th>b</th>\n      <td>0</td>\n      <td>1</td>\n      <td>0</td>\n      <td>0</td>\n      <td>1</td>\n      <td>1</td>\n      <td>0</td>\n      <td>0</td>\n      <td>0</td>\n    </tr>\n    <tr>\n      <th>c</th>\n      <td>1</td>\n      <td>0</td>\n      <td>0</td>\n      <td>0</td>\n      <td>0</td>\n      <td>0</td>\n      <td>0</td>\n      <td>1</td>\n      <td>0</td>\n    </tr>\n    <tr>\n      <th>d</th>\n      <td>0</td>\n      <td>0</td>\n      <td>1</td>\n      <td>0</td>\n      <td>0</td>\n      <td>0</td>\n      <td>0</td>\n      <td>1</td>\n      <td>1</td>\n    </tr>\n  </tbody>\n</table>\n</div>"
     },
     "execution_count": 39,
     "metadata": {},
     "output_type": "execute_result"
    }
   ],
   "source": [
    "text = [a, b, c, d]\n",
    "cv = CountVectorizer()\n",
    "count_matrix = cv.fit_transform(text)\n",
    "\n",
    "print(cv.get_feature_names())\n",
    "print(count_matrix.toarray())\n",
    "\n",
    "term_matrix = count_matrix.todense()\n",
    "df = pd.DataFrame(term_matrix, columns=cv.get_feature_names(), index=['a', 'b', 'c', 'd'])\n",
    "df"
   ]
  },
  {
   "cell_type": "code",
   "execution_count": 40,
   "outputs": [
    {
     "data": {
      "text/plain": "array([[1.   , 0.577, 0.   , 0.   ],\n       [0.577, 1.   , 0.   , 0.   ],\n       [0.   , 0.   , 1.   , 0.408],\n       [0.   , 0.   , 0.408, 1.   ]])"
     },
     "execution_count": 40,
     "metadata": {},
     "output_type": "execute_result"
    }
   ],
   "source": [
    "cosine_sim = cosine_similarity(count_matrix)\n",
    "cosine_sim.round(3) #ทศนิยม 3 ตำแหน่ง"
   ],
   "metadata": {
    "collapsed": false
   }
  },
  {
   "cell_type": "code",
   "execution_count": 41,
   "outputs": [
    {
     "data": {
      "text/plain": "[(0, 0.0), (1, 0.0), (2, 0.9999999999999998), (3, 0.408248290463863)]"
     },
     "execution_count": 41,
     "metadata": {},
     "output_type": "execute_result"
    }
   ],
   "source": [
    "# สมมุตดูค่า c\n",
    "ref_index = 2\n",
    "similar_score = cosine_sim[ref_index]\n",
    "similar_products = list(enumerate(similar_score))\n",
    "similar_products # ลำดับและดัชนีความคล้าย"
   ],
   "metadata": {
    "collapsed": false
   }
  },
  {
   "cell_type": "code",
   "execution_count": 42,
   "outputs": [
    {
     "data": {
      "text/plain": "[(3, 0.408248290463863), (0, 0.0), (1, 0.0)]"
     },
     "execution_count": 42,
     "metadata": {},
     "output_type": "execute_result"
    }
   ],
   "source": [
    "sorted = sorted(similar_products, key=lambda x:x[1], reverse=True)[1:]\n",
    "sorted"
   ],
   "metadata": {
    "collapsed": false
   }
  }
 ],
 "metadata": {
  "kernelspec": {
   "display_name": "Python 3",
   "language": "python",
   "name": "python3"
  },
  "language_info": {
   "codemirror_mode": {
    "name": "ipython",
    "version": 2
   },
   "file_extension": ".py",
   "mimetype": "text/x-python",
   "name": "python",
   "nbconvert_exporter": "python",
   "pygments_lexer": "ipython2",
   "version": "2.7.6"
  }
 },
 "nbformat": 4,
 "nbformat_minor": 0
}
